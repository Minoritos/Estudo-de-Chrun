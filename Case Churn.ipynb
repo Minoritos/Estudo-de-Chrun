{
 "cells": [
  {
   "cell_type": "markdown",
   "metadata": {},
   "source": [
    "# Importando Bibliotecas"
   ]
  },
  {
   "cell_type": "code",
   "execution_count": 7,
   "metadata": {
    "ExecuteTime": {
     "end_time": "2020-10-09T00:18:19.395134Z",
     "start_time": "2020-10-09T00:18:19.390194Z"
    },
    "executionInfo": {
     "elapsed": 943,
     "status": "ok",
     "timestamp": 1601947380158,
     "user": {
      "displayName": "Cesar Minoru Matsuo",
      "photoUrl": "https://lh3.googleusercontent.com/a-/AOh14GhHtNicKLRbEiZoy9m9IVGZ52XoUrLPxic6pWotNA=s64",
      "userId": "16063784101624301390"
     },
     "user_tz": 180
    },
    "id": "6TOHSbjGZoCp"
   },
   "outputs": [],
   "source": [
    "import numpy as np\n",
    "import pandas as pd\n",
    "import seaborn as sns\n",
    "import matplotlib.pyplot as plt\n",
    "from sklearn.linear_model import LinearRegression, LogisticRegression\n",
    "from sklearn.model_selection import train_test_split, GridSearchCV\n",
    "from sklearn.metrics import confusion_matrix, accuracy_score, recall_score\n",
    "from sklearn.metrics import precision_score, f1_score, classification_report\n",
    "import statsmodels.api as sm\n",
    "from statsmodels.genmod.generalized_linear_model import GLM\n",
    "from sklearn.tree import DecisionTreeClassifier\n",
    "from sklearn.ensemble import RandomForestClassifier, BaggingClassifier\n",
    "from catboost import CatBoostClassifier\n",
    "from sklearn.metrics import make_scorer, accuracy_score"
   ]
  },
  {
   "cell_type": "markdown",
   "metadata": {
    "id": "QxMq1Zb2ZoCs"
   },
   "source": [
    "# Importando dados"
   ]
  },
  {
   "cell_type": "code",
   "execution_count": 8,
   "metadata": {
    "ExecuteTime": {
     "end_time": "2020-10-09T00:18:21.349520Z",
     "start_time": "2020-10-09T00:18:21.329540Z"
    },
    "executionInfo": {
     "elapsed": 1512,
     "status": "ok",
     "timestamp": 1601947064814,
     "user": {
      "displayName": "Cesar Minoru Matsuo",
      "photoUrl": "https://lh3.googleusercontent.com/a-/AOh14GhHtNicKLRbEiZoy9m9IVGZ52XoUrLPxic6pWotNA=s64",
      "userId": "16063784101624301390"
     },
     "user_tz": 180
    },
    "id": "hg6BO7rYZoCt"
   },
   "outputs": [],
   "source": [
    "df = pd.read_csv('dataset_churn.csv')"
   ]
  },
  {
   "cell_type": "code",
   "execution_count": 3,
   "metadata": {
    "ExecuteTime": {
     "end_time": "2020-10-08T22:58:20.451574Z",
     "start_time": "2020-10-08T22:58:20.437608Z"
    },
    "id": "8fAAWTJQZoCv",
    "outputId": "e34e3eb0-989e-44a4-bc40-eab2cc3df15c"
   },
   "outputs": [
    {
     "data": {
      "text/html": [
       "<div>\n",
       "<style scoped>\n",
       "    .dataframe tbody tr th:only-of-type {\n",
       "        vertical-align: middle;\n",
       "    }\n",
       "\n",
       "    .dataframe tbody tr th {\n",
       "        vertical-align: top;\n",
       "    }\n",
       "\n",
       "    .dataframe thead th {\n",
       "        text-align: right;\n",
       "    }\n",
       "</style>\n",
       "<table border=\"1\" class=\"dataframe\">\n",
       "  <thead>\n",
       "    <tr style=\"text-align: right;\">\n",
       "      <th></th>\n",
       "      <th>Score Crédito</th>\n",
       "      <th>Estado</th>\n",
       "      <th>Gênero</th>\n",
       "      <th>Idade</th>\n",
       "      <th>Tempo como cliente (meses)</th>\n",
       "      <th>Saldo</th>\n",
       "      <th>Número de produtos</th>\n",
       "      <th>Possui Cartao de Crédito</th>\n",
       "      <th>Assina mensalidade</th>\n",
       "      <th>Renda Mensal Presumida (R$)</th>\n",
       "      <th>Churn_2_meses</th>\n",
       "    </tr>\n",
       "  </thead>\n",
       "  <tbody>\n",
       "    <tr>\n",
       "      <th>0</th>\n",
       "      <td>619</td>\n",
       "      <td>São Paulo</td>\n",
       "      <td>Feminino</td>\n",
       "      <td>42</td>\n",
       "      <td>2</td>\n",
       "      <td>0.00</td>\n",
       "      <td>1</td>\n",
       "      <td>1</td>\n",
       "      <td>1</td>\n",
       "      <td>4222.870000</td>\n",
       "      <td>1</td>\n",
       "    </tr>\n",
       "    <tr>\n",
       "      <th>1</th>\n",
       "      <td>608</td>\n",
       "      <td>Rio de Janeiro</td>\n",
       "      <td>Feminino</td>\n",
       "      <td>41</td>\n",
       "      <td>1</td>\n",
       "      <td>83807.86</td>\n",
       "      <td>1</td>\n",
       "      <td>0</td>\n",
       "      <td>1</td>\n",
       "      <td>4689.274167</td>\n",
       "      <td>0</td>\n",
       "    </tr>\n",
       "    <tr>\n",
       "      <th>2</th>\n",
       "      <td>502</td>\n",
       "      <td>São Paulo</td>\n",
       "      <td>Feminino</td>\n",
       "      <td>42</td>\n",
       "      <td>8</td>\n",
       "      <td>159660.80</td>\n",
       "      <td>3</td>\n",
       "      <td>1</td>\n",
       "      <td>0</td>\n",
       "      <td>4747.148750</td>\n",
       "      <td>1</td>\n",
       "    </tr>\n",
       "    <tr>\n",
       "      <th>3</th>\n",
       "      <td>699</td>\n",
       "      <td>São Paulo</td>\n",
       "      <td>Feminino</td>\n",
       "      <td>39</td>\n",
       "      <td>1</td>\n",
       "      <td>0.00</td>\n",
       "      <td>2</td>\n",
       "      <td>0</td>\n",
       "      <td>0</td>\n",
       "      <td>3909.442917</td>\n",
       "      <td>0</td>\n",
       "    </tr>\n",
       "    <tr>\n",
       "      <th>4</th>\n",
       "      <td>850</td>\n",
       "      <td>Rio de Janeiro</td>\n",
       "      <td>Feminino</td>\n",
       "      <td>43</td>\n",
       "      <td>2</td>\n",
       "      <td>125510.82</td>\n",
       "      <td>1</td>\n",
       "      <td>1</td>\n",
       "      <td>1</td>\n",
       "      <td>3295.170833</td>\n",
       "      <td>0</td>\n",
       "    </tr>\n",
       "  </tbody>\n",
       "</table>\n",
       "</div>"
      ],
      "text/plain": [
       "   Score Crédito          Estado    Gênero  Idade  Tempo como cliente (meses)  \\\n",
       "0            619       São Paulo  Feminino     42                           2   \n",
       "1            608  Rio de Janeiro  Feminino     41                           1   \n",
       "2            502       São Paulo  Feminino     42                           8   \n",
       "3            699       São Paulo  Feminino     39                           1   \n",
       "4            850  Rio de Janeiro  Feminino     43                           2   \n",
       "\n",
       "       Saldo  Número de produtos  Possui Cartao de Crédito  \\\n",
       "0       0.00                   1                         1   \n",
       "1   83807.86                   1                         0   \n",
       "2  159660.80                   3                         1   \n",
       "3       0.00                   2                         0   \n",
       "4  125510.82                   1                         1   \n",
       "\n",
       "   Assina mensalidade  Renda Mensal Presumida (R$)  Churn_2_meses  \n",
       "0                   1                  4222.870000              1  \n",
       "1                   1                  4689.274167              0  \n",
       "2                   0                  4747.148750              1  \n",
       "3                   0                  3909.442917              0  \n",
       "4                   1                  3295.170833              0  "
      ]
     },
     "execution_count": 3,
     "metadata": {},
     "output_type": "execute_result"
    }
   ],
   "source": [
    "df.head()"
   ]
  },
  {
   "cell_type": "markdown",
   "metadata": {
    "id": "GKY-jMzDZoCy"
   },
   "source": [
    "# Verificando dados nulos ou faltantes"
   ]
  },
  {
   "cell_type": "code",
   "execution_count": null,
   "metadata": {
    "ExecuteTime": {
     "end_time": "2020-10-03T20:15:45.434838Z",
     "start_time": "2020-10-03T20:15:45.426859Z"
    },
    "colab": {
     "base_uri": "https://localhost:8080/",
     "height": 221
    },
    "executionInfo": {
     "elapsed": 907,
     "status": "ok",
     "timestamp": 1601945714567,
     "user": {
      "displayName": "Cesar Minoru Matsuo",
      "photoUrl": "https://lh3.googleusercontent.com/a-/AOh14GhHtNicKLRbEiZoy9m9IVGZ52XoUrLPxic6pWotNA=s64",
      "userId": "16063784101624301390"
     },
     "user_tz": 180
    },
    "id": "N4KCLdIbZoCy",
    "outputId": "d31f0dcd-1dde-424f-d389-91e200fe3d8d"
   },
   "outputs": [
    {
     "data": {
      "text/plain": [
       "Score Crédito                  0\n",
       "Estado                         0\n",
       "Gênero                         0\n",
       "Idade                          0\n",
       "Tempo como cliente (meses)     0\n",
       "Saldo                          0\n",
       "Número de produtos             0\n",
       "Possui Cartao de Crédito       0\n",
       "Assina mensalidade             0\n",
       "Renda Mensal Presumida (R$)    0\n",
       "Churn_2_meses                  0\n",
       "dtype: int64"
      ]
     },
     "execution_count": 5,
     "metadata": {
      "tags": []
     },
     "output_type": "execute_result"
    }
   ],
   "source": [
    "df.isnull().sum()"
   ]
  },
  {
   "cell_type": "code",
   "execution_count": null,
   "metadata": {
    "ExecuteTime": {
     "end_time": "2020-10-03T20:18:22.464235Z",
     "start_time": "2020-10-03T20:18:22.457253Z"
    },
    "id": "4EQHVITOZoC0",
    "outputId": "005aa400-a2a8-49cb-9a71-5723ce645ab1"
   },
   "outputs": [
    {
     "data": {
      "text/plain": [
       "Score Crédito                  0\n",
       "Estado                         0\n",
       "Gênero                         0\n",
       "Idade                          0\n",
       "Tempo como cliente (meses)     0\n",
       "Saldo                          0\n",
       "Número de produtos             0\n",
       "Possui Cartao de Crédito       0\n",
       "Assina mensalidade             0\n",
       "Renda Mensal Presumida (R$)    0\n",
       "Churn_2_meses                  0\n",
       "dtype: int64"
      ]
     },
     "execution_count": 103,
     "metadata": {
      "tags": []
     },
     "output_type": "execute_result"
    }
   ],
   "source": [
    "df.isna().sum()"
   ]
  },
  {
   "cell_type": "markdown",
   "metadata": {
    "id": "zgFIciBnZoC2"
   },
   "source": [
    "# Verificando a taxa de Churn\n",
    "    -contar o número de cancelamentos nos ultimos 2 meses;\n",
    "    -gerar taxa de Churn para futura análise;"
   ]
  },
  {
   "cell_type": "code",
   "execution_count": 4,
   "metadata": {
    "ExecuteTime": {
     "end_time": "2020-10-07T00:37:59.649527Z",
     "start_time": "2020-10-07T00:37:59.641516Z"
    },
    "id": "VlM9GVAPZoC3",
    "outputId": "768e3a9e-80c8-434e-cd51-5c24856dab70"
   },
   "outputs": [
    {
     "data": {
      "text/plain": [
       "0    7963\n",
       "1    2037\n",
       "Name: Churn_2_meses, dtype: int64"
      ]
     },
     "execution_count": 4,
     "metadata": {},
     "output_type": "execute_result"
    }
   ],
   "source": [
    "df.Churn_2_meses.value_counts()"
   ]
  },
  {
   "cell_type": "code",
   "execution_count": null,
   "metadata": {
    "ExecuteTime": {
     "end_time": "2020-10-03T20:11:09.521566Z",
     "start_time": "2020-10-03T20:11:09.516579Z"
    },
    "colab": {
     "base_uri": "https://localhost:8080/",
     "height": 34
    },
    "executionInfo": {
     "elapsed": 952,
     "status": "ok",
     "timestamp": 1601945720900,
     "user": {
      "displayName": "Cesar Minoru Matsuo",
      "photoUrl": "https://lh3.googleusercontent.com/a-/AOh14GhHtNicKLRbEiZoy9m9IVGZ52XoUrLPxic6pWotNA=s64",
      "userId": "16063784101624301390"
     },
     "user_tz": 180
    },
    "id": "xy68nl88ZoC5",
    "outputId": "98e12652-d23e-4eb9-9fac-d94aa3deedfe"
   },
   "outputs": [
    {
     "data": {
      "text/plain": [
       "0.2037"
      ]
     },
     "execution_count": 6,
     "metadata": {
      "tags": []
     },
     "output_type": "execute_result"
    }
   ],
   "source": [
    "tx_churn = 2037 / (7963 + 2037)\n",
    "tx_churn"
   ]
  },
  {
   "cell_type": "code",
   "execution_count": null,
   "metadata": {
    "ExecuteTime": {
     "end_time": "2020-10-03T20:26:40.690853Z",
     "start_time": "2020-10-03T20:26:40.687861Z"
    },
    "id": "lSfhbPa0ZoC8",
    "outputId": "69ef44fd-86ee-46cc-809f-3209416af3ff"
   },
   "outputs": [
    {
     "name": "stdout",
     "output_type": "stream",
     "text": [
      "A taxa de Churn atual é de 20.37%\n"
     ]
    }
   ],
   "source": [
    "print(f'A taxa de Churn atual é de {tx_churn*100:.2f}%')"
   ]
  },
  {
   "cell_type": "markdown",
   "metadata": {
    "ExecuteTime": {
     "end_time": "2020-10-03T19:08:06.873513Z",
     "start_time": "2020-10-03T19:08:06.863538Z"
    },
    "id": "bGcu3FzAZoC-"
   },
   "source": [
    "# Tratando dados categóricos\n",
    "\n",
    "    -Trataremos os dados categóricos do data frame, facilitando a futura modelagem.\n",
    "    -Usamos o drop first para que já seja feita a eliminação de uma das colunas booleanas a serem inseridas no data frame   com o get_dummies, minimizando a quantidade de códigos."
   ]
  },
  {
   "cell_type": "code",
   "execution_count": 9,
   "metadata": {
    "ExecuteTime": {
     "end_time": "2020-10-09T00:18:31.278660Z",
     "start_time": "2020-10-09T00:18:31.266692Z"
    },
    "executionInfo": {
     "elapsed": 921,
     "status": "ok",
     "timestamp": 1601947074653,
     "user": {
      "displayName": "Cesar Minoru Matsuo",
      "photoUrl": "https://lh3.googleusercontent.com/a-/AOh14GhHtNicKLRbEiZoy9m9IVGZ52XoUrLPxic6pWotNA=s64",
      "userId": "16063784101624301390"
     },
     "user_tz": 180
    },
    "id": "-4fAkDhgZoC-"
   },
   "outputs": [],
   "source": [
    "df_dum = pd.get_dummies(df, columns = ['Estado', 'Gênero'], drop_first= True)"
   ]
  },
  {
   "cell_type": "code",
   "execution_count": null,
   "metadata": {
    "ExecuteTime": {
     "end_time": "2020-10-03T20:47:49.560710Z",
     "start_time": "2020-10-03T20:47:49.550737Z"
    },
    "colab": {
     "base_uri": "https://localhost:8080/",
     "height": 238
    },
    "executionInfo": {
     "elapsed": 1006,
     "status": "ok",
     "timestamp": 1601945726784,
     "user": {
      "displayName": "Cesar Minoru Matsuo",
      "photoUrl": "https://lh3.googleusercontent.com/a-/AOh14GhHtNicKLRbEiZoy9m9IVGZ52XoUrLPxic6pWotNA=s64",
      "userId": "16063784101624301390"
     },
     "user_tz": 180
    },
    "id": "pK4OMFMYZoDA",
    "outputId": "402d339e-b418-438b-8b64-7f9ba63afb9c"
   },
   "outputs": [
    {
     "data": {
      "text/html": [
       "<div>\n",
       "<style scoped>\n",
       "    .dataframe tbody tr th:only-of-type {\n",
       "        vertical-align: middle;\n",
       "    }\n",
       "\n",
       "    .dataframe tbody tr th {\n",
       "        vertical-align: top;\n",
       "    }\n",
       "\n",
       "    .dataframe thead th {\n",
       "        text-align: right;\n",
       "    }\n",
       "</style>\n",
       "<table border=\"1\" class=\"dataframe\">\n",
       "  <thead>\n",
       "    <tr style=\"text-align: right;\">\n",
       "      <th></th>\n",
       "      <th>Score Crédito</th>\n",
       "      <th>Idade</th>\n",
       "      <th>Tempo como cliente (meses)</th>\n",
       "      <th>Saldo</th>\n",
       "      <th>Número de produtos</th>\n",
       "      <th>Possui Cartao de Crédito</th>\n",
       "      <th>Assina mensalidade</th>\n",
       "      <th>Renda Mensal Presumida (R$)</th>\n",
       "      <th>Churn_2_meses</th>\n",
       "      <th>Estado_Rio de Janeiro</th>\n",
       "      <th>Estado_São Paulo</th>\n",
       "      <th>Gênero_Masculino</th>\n",
       "    </tr>\n",
       "  </thead>\n",
       "  <tbody>\n",
       "    <tr>\n",
       "      <th>0</th>\n",
       "      <td>619</td>\n",
       "      <td>42</td>\n",
       "      <td>2</td>\n",
       "      <td>0.00</td>\n",
       "      <td>1</td>\n",
       "      <td>1</td>\n",
       "      <td>1</td>\n",
       "      <td>4222.870000</td>\n",
       "      <td>1</td>\n",
       "      <td>0</td>\n",
       "      <td>1</td>\n",
       "      <td>0</td>\n",
       "    </tr>\n",
       "    <tr>\n",
       "      <th>1</th>\n",
       "      <td>608</td>\n",
       "      <td>41</td>\n",
       "      <td>1</td>\n",
       "      <td>83807.86</td>\n",
       "      <td>1</td>\n",
       "      <td>0</td>\n",
       "      <td>1</td>\n",
       "      <td>4689.274167</td>\n",
       "      <td>0</td>\n",
       "      <td>1</td>\n",
       "      <td>0</td>\n",
       "      <td>0</td>\n",
       "    </tr>\n",
       "    <tr>\n",
       "      <th>2</th>\n",
       "      <td>502</td>\n",
       "      <td>42</td>\n",
       "      <td>8</td>\n",
       "      <td>159660.80</td>\n",
       "      <td>3</td>\n",
       "      <td>1</td>\n",
       "      <td>0</td>\n",
       "      <td>4747.148750</td>\n",
       "      <td>1</td>\n",
       "      <td>0</td>\n",
       "      <td>1</td>\n",
       "      <td>0</td>\n",
       "    </tr>\n",
       "    <tr>\n",
       "      <th>3</th>\n",
       "      <td>699</td>\n",
       "      <td>39</td>\n",
       "      <td>1</td>\n",
       "      <td>0.00</td>\n",
       "      <td>2</td>\n",
       "      <td>0</td>\n",
       "      <td>0</td>\n",
       "      <td>3909.442917</td>\n",
       "      <td>0</td>\n",
       "      <td>0</td>\n",
       "      <td>1</td>\n",
       "      <td>0</td>\n",
       "    </tr>\n",
       "    <tr>\n",
       "      <th>4</th>\n",
       "      <td>850</td>\n",
       "      <td>43</td>\n",
       "      <td>2</td>\n",
       "      <td>125510.82</td>\n",
       "      <td>1</td>\n",
       "      <td>1</td>\n",
       "      <td>1</td>\n",
       "      <td>3295.170833</td>\n",
       "      <td>0</td>\n",
       "      <td>1</td>\n",
       "      <td>0</td>\n",
       "      <td>0</td>\n",
       "    </tr>\n",
       "  </tbody>\n",
       "</table>\n",
       "</div>"
      ],
      "text/plain": [
       "   Score Crédito  Idade  ...  Estado_São Paulo  Gênero_Masculino\n",
       "0            619     42  ...                 1                 0\n",
       "1            608     41  ...                 0                 0\n",
       "2            502     42  ...                 1                 0\n",
       "3            699     39  ...                 1                 0\n",
       "4            850     43  ...                 0                 0\n",
       "\n",
       "[5 rows x 12 columns]"
      ]
     },
     "execution_count": 8,
     "metadata": {
      "tags": []
     },
     "output_type": "execute_result"
    }
   ],
   "source": [
    "df_dum.head()"
   ]
  },
  {
   "cell_type": "markdown",
   "metadata": {
    "id": "ICGTwuZpZoDC"
   },
   "source": [
    "# Análisando dados\n",
    "    -Por serem poucas variaveis, estaremos analisando uma a uma conforme demonstrado abaixo"
   ]
  },
  {
   "cell_type": "markdown",
   "metadata": {
    "ExecuteTime": {
     "end_time": "2020-10-03T21:12:03.578550Z",
     "start_time": "2020-10-03T21:12:03.574559Z"
    },
    "id": "72eKDZ1aZoDE"
   },
   "source": [
    "## Score de Crédito\n",
    "    -Sabendo que o score de crédito do serasa vai de 0 - 1000 tudo parece ok;"
   ]
  },
  {
   "cell_type": "code",
   "execution_count": 129,
   "metadata": {
    "ExecuteTime": {
     "end_time": "2020-10-07T02:56:01.619669Z",
     "start_time": "2020-10-07T02:56:01.459098Z"
    },
    "id": "k8MyewT2ZoDF",
    "outputId": "9a4d7a3a-51ca-4339-9c00-9ce158c87935"
   },
   "outputs": [
    {
     "data": {
      "text/plain": [
       "<matplotlib.axes._subplots.AxesSubplot at 0x1527d370f70>"
      ]
     },
     "execution_count": 129,
     "metadata": {},
     "output_type": "execute_result"
    },
    {
     "data": {
      "image/png": "[encoded data removed]",
      "text/plain": [
       "<Figure size 432x288 with 1 Axes>"
      ]
     },
     "metadata": {
      "needs_background": "light"
     },
     "output_type": "display_data"
    }
   ],
   "source": [
    "sns.distplot(df_dum['Score Crédito'])"
   ]
  },
  {
   "cell_type": "code",
   "execution_count": null,
   "metadata": {
    "ExecuteTime": {
     "end_time": "2020-10-03T21:06:14.063727Z",
     "start_time": "2020-10-03T21:06:14.055750Z"
    },
    "id": "O-RpGdquZoDG",
    "outputId": "ddb4363a-cdf9-47fa-d47e-680dd8283da2"
   },
   "outputs": [
    {
     "data": {
      "text/plain": [
       "Score Crédito                     850.00000\n",
       "Idade                              81.00000\n",
       "Tempo como cliente (meses)         10.00000\n",
       "Saldo                          212778.20000\n",
       "Número de produtos                  4.00000\n",
       "Possui Cartao de Crédito            1.00000\n",
       "Assina mensalidade                  1.00000\n",
       "Renda Mensal Presumida (R$)      8323.98625\n",
       "Churn_2_meses                       1.00000\n",
       "Estado_Rio de Janeiro               1.00000\n",
       "Estado_São Paulo                    1.00000\n",
       "Gênero_Masculino                    1.00000\n",
       "dtype: float64"
      ]
     },
     "execution_count": 165,
     "metadata": {
      "tags": []
     },
     "output_type": "execute_result"
    }
   ],
   "source": [
    "df_dum[ df_dum['Score Crédito'] > 800].max()"
   ]
  },
  {
   "cell_type": "code",
   "execution_count": null,
   "metadata": {
    "ExecuteTime": {
     "end_time": "2020-10-03T21:12:13.722260Z",
     "start_time": "2020-10-03T21:12:13.714315Z"
    },
    "id": "XZBM-dK8ZoDJ",
    "outputId": "8753e4d1-38b8-4aba-f95d-b4c15229dbe1"
   },
   "outputs": [
    {
     "data": {
      "text/plain": [
       "Score Crédito                  801.000000\n",
       "Idade                           18.000000\n",
       "Tempo como cliente (meses)       0.000000\n",
       "Saldo                            0.000000\n",
       "Número de produtos               1.000000\n",
       "Possui Cartao de Crédito         0.000000\n",
       "Assina mensalidade               0.000000\n",
       "Renda Mensal Presumida (R$)      7.424583\n",
       "Churn_2_meses                    0.000000\n",
       "Estado_Rio de Janeiro            0.000000\n",
       "Estado_São Paulo                 0.000000\n",
       "Gênero_Masculino                 0.000000\n",
       "dtype: float64"
      ]
     },
     "execution_count": 176,
     "metadata": {
      "tags": []
     },
     "output_type": "execute_result"
    }
   ],
   "source": [
    "df_dum[ df_dum['Score Crédito'] > 800].min()"
   ]
  },
  {
   "cell_type": "markdown",
   "metadata": {
    "id": "MmYIG5SzZoDL"
   },
   "source": [
    "## Idade\n",
    "    -Aparentemente não temos nenhum Conde Drácula;\n",
    "    -Por conta de ser um banco novo o publico acima dos 60 anos é bem reduzido;"
   ]
  },
  {
   "cell_type": "code",
   "execution_count": 43,
   "metadata": {
    "ExecuteTime": {
     "end_time": "2020-10-07T02:05:59.207071Z",
     "start_time": "2020-10-07T02:05:58.904359Z"
    },
    "id": "zEcH7NtSZoDL",
    "outputId": "e26ce715-44bf-40df-f642-eaff67505066"
   },
   "outputs": [
    {
     "data": {
      "text/plain": [
       "<matplotlib.axes._subplots.AxesSubplot at 0x1527bd71af0>"
      ]
     },
     "execution_count": 43,
     "metadata": {},
     "output_type": "execute_result"
    },
    {
     "data": {
      "image/png": "[encoded data removed]",
      "text/plain": [
       "<Figure size 432x288 with 1 Axes>"
      ]
     },
     "metadata": {
      "needs_background": "light"
     },
     "output_type": "display_data"
    }
   ],
   "source": [
    "sns.distplot(df_dum['Idade'])"
   ]
  },
  {
   "cell_type": "markdown",
   "metadata": {
    "id": "sJ_iMxVCZoDN"
   },
   "source": [
    "## Saldo\n",
    "    -Pela quantidade de contas zeradas, temos indicios de que a inatividade da conta talvez sejá um fator para o aumento do Churn"
   ]
  },
  {
   "cell_type": "code",
   "execution_count": null,
   "metadata": {
    "ExecuteTime": {
     "end_time": "2020-10-03T20:57:03.678902Z",
     "start_time": "2020-10-03T20:57:03.520294Z"
    },
    "id": "KLnnAPhkZoDO",
    "outputId": "aed708d4-8e47-46a7-db7b-3c08b4003309",
    "scrolled": true
   },
   "outputs": [
    {
     "data": {
      "text/plain": [
       "<matplotlib.axes._subplots.AxesSubplot at 0x2399d1c3b48>"
      ]
     },
     "execution_count": 144,
     "metadata": {
      "tags": []
     },
     "output_type": "execute_result"
    },
    {
     "data": {
      "image/png": "[encoded data removed]",
      "text/plain": [
       "<Figure size 432x288 with 1 Axes>"
      ]
     },
     "metadata": {
      "needs_background": "light",
      "tags": []
     },
     "output_type": "display_data"
    }
   ],
   "source": [
    "sns.distplot(df_dum.Saldo)"
   ]
  },
  {
   "cell_type": "markdown",
   "metadata": {
    "id": "2xqs69WdZoDQ"
   },
   "source": [
    "## Número de produtos\n",
    "    -Podemos ver que todas as contas sem excessão consomem no minimo 01 produto, mas como podemos ver abaixo, a taxa de Churn são:\n",
    "        -01 Produto  = 38.34% (5084 Contas)\n",
    "        -02 Produtos =  8.20% (4590 Contas)\n",
    "        -03 Prdotuos = 20.91% (266 Contas)\n",
    "        \n",
    "    -Podemos considerar que talvez, ter pelo menos 02 produtos fornecidos a um cliente poderia aumentar o engajamento a         plataforma"
   ]
  },
  {
   "cell_type": "code",
   "execution_count": null,
   "metadata": {
    "ExecuteTime": {
     "end_time": "2020-10-03T21:15:05.289860Z",
     "start_time": "2020-10-03T21:15:05.132282Z"
    },
    "id": "m4AxRc-tZoDQ",
    "outputId": "52c8342c-6b38-4462-914e-aa092889a64a"
   },
   "outputs": [
    {
     "data": {
      "text/plain": [
       "<matplotlib.axes._subplots.AxesSubplot at 0x2399f335148>"
      ]
     },
     "execution_count": 178,
     "metadata": {
      "tags": []
     },
     "output_type": "execute_result"
    },
    {
     "data": {
      "image/png": "[encoded data removed]",
      "text/plain": [
       "<Figure size 432x288 with 1 Axes>"
      ]
     },
     "metadata": {
      "needs_background": "light",
      "tags": []
     },
     "output_type": "display_data"
    }
   ],
   "source": [
    "sns.distplot(df_dum['Número de produtos'])"
   ]
  },
  {
   "cell_type": "code",
   "execution_count": null,
   "metadata": {
    "ExecuteTime": {
     "end_time": "2020-10-03T21:19:05.125589Z",
     "start_time": "2020-10-03T21:19:05.119605Z"
    },
    "id": "UWD-9IyeZoDS",
    "outputId": "63982b27-e5ae-4966-c3a3-6c392b439aad"
   },
   "outputs": [
    {
     "data": {
      "text/plain": [
       "1    5084\n",
       "2    4590\n",
       "3     266\n",
       "4      60\n",
       "Name: Número de produtos, dtype: int64"
      ]
     },
     "execution_count": 191,
     "metadata": {
      "tags": []
     },
     "output_type": "execute_result"
    }
   ],
   "source": [
    "df_dum['Número de produtos'].value_counts()"
   ]
  },
  {
   "cell_type": "code",
   "execution_count": null,
   "metadata": {
    "ExecuteTime": {
     "end_time": "2020-10-03T21:36:49.548192Z",
     "start_time": "2020-10-03T21:36:49.540215Z"
    },
    "id": "wLyVmn6KZoDU",
    "outputId": "bc0a0b7c-7d80-4b83-cf77-ed17cb41eec6"
   },
   "outputs": [
    {
     "data": {
      "text/plain": [
       "0    3675\n",
       "1    1409\n",
       "Name: Churn_2_meses, dtype: int64"
      ]
     },
     "execution_count": 213,
     "metadata": {
      "tags": []
     },
     "output_type": "execute_result"
    }
   ],
   "source": [
    "num_produtos01 = df_dum[df_dum['Número de produtos'] == 1]\n",
    "num_produtos01.head()\n",
    "\n",
    "num_produtos01['Churn_2_meses'].value_counts()"
   ]
  },
  {
   "cell_type": "code",
   "execution_count": null,
   "metadata": {
    "ExecuteTime": {
     "end_time": "2020-10-03T21:34:02.426629Z",
     "start_time": "2020-10-03T21:34:02.423637Z"
    },
    "id": "LEj63ZpNZoDV",
    "outputId": "71c2c892-734b-4856-fe61-ddd984eba6fa"
   },
   "outputs": [
    {
     "name": "stdout",
     "output_type": "stream",
     "text": [
      "Contas que consomem 01 produto tem a taxa de Churn de 38.34%\n"
     ]
    }
   ],
   "source": [
    "print(f'Contas que consomem 01 produto tem a taxa de Churn de {(1409/3675)*100:.2f}%')"
   ]
  },
  {
   "cell_type": "code",
   "execution_count": null,
   "metadata": {
    "ExecuteTime": {
     "end_time": "2020-10-03T21:32:23.587726Z",
     "start_time": "2020-10-03T21:32:23.580746Z"
    },
    "id": "4Pimitf3ZoDX",
    "outputId": "2d4eee47-16bb-4130-be9d-4413a1f0ed6c"
   },
   "outputs": [
    {
     "data": {
      "text/plain": [
       "0    4242\n",
       "1     348\n",
       "Name: Churn_2_meses, dtype: int64"
      ]
     },
     "execution_count": 204,
     "metadata": {
      "tags": []
     },
     "output_type": "execute_result"
    }
   ],
   "source": [
    "num_produtos01 = df_dum[df_dum['Número de produtos'] == 2]\n",
    "num_produtos01.head()\n",
    "\n",
    "num_produtos01['Churn_2_meses'].value_counts()"
   ]
  },
  {
   "cell_type": "code",
   "execution_count": null,
   "metadata": {
    "ExecuteTime": {
     "end_time": "2020-10-03T21:34:06.990297Z",
     "start_time": "2020-10-03T21:34:06.986340Z"
    },
    "id": "TwOtOY4DZoDa",
    "outputId": "a435f969-7672-42ff-e726-ed637a4fa961"
   },
   "outputs": [
    {
     "name": "stdout",
     "output_type": "stream",
     "text": [
      "Contas que consomem 02 produto tem a taxa de Churn de 8.20%\n"
     ]
    }
   ],
   "source": [
    "print(f'Contas que consomem 02 produto tem a taxa de Churn de {(348/4242)*100:.2f}%')"
   ]
  },
  {
   "cell_type": "code",
   "execution_count": null,
   "metadata": {
    "ExecuteTime": {
     "end_time": "2020-10-03T21:32:44.209343Z",
     "start_time": "2020-10-03T21:32:44.203359Z"
    },
    "id": "9vCbqnAsZoDc",
    "outputId": "b9ca23e0-e569-4382-e6d4-8d81df2971ae"
   },
   "outputs": [
    {
     "data": {
      "text/plain": [
       "1    220\n",
       "0     46\n",
       "Name: Churn_2_meses, dtype: int64"
      ]
     },
     "execution_count": 206,
     "metadata": {
      "tags": []
     },
     "output_type": "execute_result"
    }
   ],
   "source": [
    "num_produtos01 = df_dum[df_dum['Número de produtos'] == 3]\n",
    "num_produtos01.head()\n",
    "\n",
    "num_produtos01['Churn_2_meses'].value_counts()"
   ]
  },
  {
   "cell_type": "code",
   "execution_count": null,
   "metadata": {
    "ExecuteTime": {
     "end_time": "2020-10-03T21:42:37.704666Z",
     "start_time": "2020-10-03T21:42:37.699681Z"
    },
    "id": "Q3XdbdkfZoDe",
    "outputId": "19c18bf2-5c7e-48e3-dc8b-9a75a74d2ba6"
   },
   "outputs": [
    {
     "name": "stdout",
     "output_type": "stream",
     "text": [
      "Contas que consomem 02 produto tem a taxa de Churn de 20.91%\n"
     ]
    }
   ],
   "source": [
    "print(f'Contas que consomem 02 produto tem a taxa de Churn de {(46/220)*100:.2f}%')"
   ]
  },
  {
   "cell_type": "markdown",
   "metadata": {
    "id": "6dq9H9N1ZoDg"
   },
   "source": [
    "## Renda Mensal\n",
    "    -Podemos que as faixas salariais parecem reais, sem outliers"
   ]
  },
  {
   "cell_type": "code",
   "execution_count": 11,
   "metadata": {
    "ExecuteTime": {
     "end_time": "2020-10-07T00:39:27.146643Z",
     "start_time": "2020-10-07T00:39:26.928228Z"
    },
    "id": "IANudLpiZoDh",
    "outputId": "30b1f670-ce80-4454-abd5-842e09fa33f0"
   },
   "outputs": [
    {
     "data": {
      "text/plain": [
       "<matplotlib.axes._subplots.AxesSubplot at 0x15277fbfd60>"
      ]
     },
     "execution_count": 11,
     "metadata": {},
     "output_type": "execute_result"
    },
    {
     "data": {
      "image/png": "[encoded data removed]",
      "text/plain": [
       "<Figure size 432x288 with 1 Axes>"
      ]
     },
     "metadata": {
      "needs_background": "light"
     },
     "output_type": "display_data"
    }
   ],
   "source": [
    "sns.distplot(df_dum['Renda Mensal Presumida (R$)'])"
   ]
  },
  {
   "cell_type": "markdown",
   "metadata": {},
   "source": [
    "## Verificando corelação de variaveis\n",
    "    -Aparentemente a Idade e o Saldo são variaveis mais relacionada com o churn\n",
    "    -Verificamos que quanto mais velha a pessoa, maior o indie de chunr\n",
    "    \n",
    "    entre 18 e 22 anos, a taxa de churn é de 5.97%\n",
    "    entre 23 e 49 anos, a taxa de chrun é de 19.7%\n",
    "    acima dos 50 anos, a taxa de chunr é de 81%"
   ]
  },
  {
   "cell_type": "code",
   "execution_count": 13,
   "metadata": {
    "ExecuteTime": {
     "end_time": "2020-10-07T00:39:47.803368Z",
     "start_time": "2020-10-07T00:39:47.656752Z"
    }
   },
   "outputs": [
    {
     "data": {
      "text/plain": [
       "<matplotlib.axes._subplots.AxesSubplot at 0x1527902c9d0>"
      ]
     },
     "execution_count": 13,
     "metadata": {},
     "output_type": "execute_result"
    },
    {
     "data": {
      "image/png": "[encoded data removed]",
      "text/plain": [
       "<Figure size 432x288 with 1 Axes>"
      ]
     },
     "metadata": {
      "needs_background": "light"
     },
     "output_type": "display_data"
    }
   ],
   "source": [
    "df_dum.corr()['Churn_2_meses'].sort_values(ascending = False).plot(kind='bar')"
   ]
  },
  {
   "cell_type": "code",
   "execution_count": 16,
   "metadata": {
    "ExecuteTime": {
     "end_time": "2020-10-07T00:48:27.928483Z",
     "start_time": "2020-10-07T00:48:27.923497Z"
    }
   },
   "outputs": [
    {
     "data": {
      "text/plain": [
       "92"
      ]
     },
     "execution_count": 16,
     "metadata": {},
     "output_type": "execute_result"
    }
   ],
   "source": [
    "df_dum.Idade.max()"
   ]
  },
  {
   "cell_type": "code",
   "execution_count": 18,
   "metadata": {
    "ExecuteTime": {
     "end_time": "2020-10-07T00:51:29.643527Z",
     "start_time": "2020-10-07T00:51:29.639569Z"
    }
   },
   "outputs": [],
   "source": [
    "classes = [18, 22, 26, 30, 34, 38, 42, 46, 50, 54, 58, 62, 66, 70, 74, 78, 82, 86, 92]"
   ]
  },
  {
   "cell_type": "code",
   "execution_count": 40,
   "metadata": {
    "ExecuteTime": {
     "end_time": "2020-10-07T02:04:47.094262Z",
     "start_time": "2020-10-07T02:04:47.088312Z"
    }
   },
   "outputs": [
    {
     "data": {
      "text/plain": [
       "0    134\n",
       "1      8\n",
       "Name: Churn_2_meses, dtype: int64"
      ]
     },
     "execution_count": 40,
     "metadata": {},
     "output_type": "execute_result"
    }
   ],
   "source": [
    "#até 22 anos, a taxa de churn é de 5.97%\n",
    "df_dum[df_dum['Idade'] < 22]['Churn_2_meses'].value_counts()"
   ]
  },
  {
   "cell_type": "code",
   "execution_count": 49,
   "metadata": {
    "ExecuteTime": {
     "end_time": "2020-10-07T02:16:25.049558Z",
     "start_time": "2020-10-07T02:16:25.040581Z"
    }
   },
   "outputs": [
    {
     "name": "stderr",
     "output_type": "stream",
     "text": [
      "<ipython-input-49-5b4d1fac3862>:1: UserWarning: Boolean Series key will be reindexed to match DataFrame index.\n",
      "  df_dum[22<df_dum.Idade][df_dum.Idade < 50]['Churn_2_meses'].value_counts()\n"
     ]
    },
    {
     "data": {
      "text/plain": [
       "0    6996\n",
       "1    1383\n",
       "Name: Churn_2_meses, dtype: int64"
      ]
     },
     "execution_count": 49,
     "metadata": {},
     "output_type": "execute_result"
    }
   ],
   "source": [
    "#entre 23 e 49 anos, a taxa de chrun é de 19.7%\n",
    "df_dum[22<df_dum.Idade][df_dum.Idade < 50]['Churn_2_meses'].value_counts()"
   ]
  },
  {
   "cell_type": "code",
   "execution_count": 52,
   "metadata": {
    "ExecuteTime": {
     "end_time": "2020-10-07T02:21:27.303265Z",
     "start_time": "2020-10-07T02:21:27.295286Z"
    }
   },
   "outputs": [
    {
     "data": {
      "text/plain": [
       "0    698\n",
       "1    563\n",
       "Name: Churn_2_meses, dtype: int64"
      ]
     },
     "execution_count": 52,
     "metadata": {},
     "output_type": "execute_result"
    }
   ],
   "source": [
    "#acima dos 50 anos, a taxa de chunr é de 81%\n",
    "df_dum[df_dum.Idade > 50]['Churn_2_meses'].value_counts()"
   ]
  },
  {
   "cell_type": "markdown",
   "metadata": {},
   "source": [
    "# Separando em bases de treino e teste\n",
    "\n",
    "-O p valor de todas as variaveis é bem alto, com excessão do tempo como cliente e ter cartão, por tanto iremos dropar essas colunas"
   ]
  },
  {
   "cell_type": "code",
   "execution_count": 15,
   "metadata": {
    "ExecuteTime": {
     "end_time": "2020-10-08T23:21:47.250480Z",
     "start_time": "2020-10-08T23:21:47.239477Z"
    }
   },
   "outputs": [],
   "source": [
    "y = df_dum.Churn_2_meses\n",
    "x = df_dum.drop('Churn_2_meses', axis = 1)\n",
    "\n",
    "x_train, x_test, y_train, y_test = train_test_split(x, y,\n",
    "                                                    random_state=42, stratify=y)"
   ]
  },
  {
   "cell_type": "code",
   "execution_count": 138,
   "metadata": {
    "ExecuteTime": {
     "end_time": "2020-10-07T03:09:51.833719Z",
     "start_time": "2020-10-07T03:09:51.785871Z"
    }
   },
   "outputs": [
    {
     "data": {
      "text/html": [
       "<table class=\"simpletable\">\n",
       "<caption>Generalized Linear Model Regression Results</caption>\n",
       "<tr>\n",
       "  <th>Dep. Variable:</th>     <td>Churn_2_meses</td>  <th>  No. Observations:  </th>  <td>  7500</td> \n",
       "</tr>\n",
       "<tr>\n",
       "  <th>Model:</th>                  <td>GLM</td>       <th>  Df Residuals:      </th>  <td>  7488</td> \n",
       "</tr>\n",
       "<tr>\n",
       "  <th>Model Family:</th>        <td>Binomial</td>     <th>  Df Model:          </th>  <td>    11</td> \n",
       "</tr>\n",
       "<tr>\n",
       "  <th>Link Function:</th>         <td>logit</td>      <th>  Scale:             </th> <td>  1.0000</td>\n",
       "</tr>\n",
       "<tr>\n",
       "  <th>Method:</th>                <td>IRLS</td>       <th>  Log-Likelihood:    </th> <td> -3236.8</td>\n",
       "</tr>\n",
       "<tr>\n",
       "  <th>Date:</th>            <td>Wed, 07 Oct 2020</td> <th>  Deviance:          </th> <td>  6473.6</td>\n",
       "</tr>\n",
       "<tr>\n",
       "  <th>Time:</th>                <td>00:09:51</td>     <th>  Pearson chi2:      </th> <td>7.53e+03</td>\n",
       "</tr>\n",
       "<tr>\n",
       "  <th>No. Iterations:</th>          <td>5</td>        <th>                     </th>     <td> </td>   \n",
       "</tr>\n",
       "<tr>\n",
       "  <th>Covariance Type:</th>     <td>nonrobust</td>    <th>                     </th>     <td> </td>   \n",
       "</tr>\n",
       "</table>\n",
       "<table class=\"simpletable\">\n",
       "<tr>\n",
       "               <td></td>                  <th>coef</th>     <th>std err</th>      <th>z</th>      <th>P>|z|</th>  <th>[0.025</th>    <th>0.975]</th>  \n",
       "</tr>\n",
       "<tr>\n",
       "  <th>const</th>                       <td>   -2.3909</td> <td>    0.291</td> <td>   -8.229</td> <td> 0.000</td> <td>   -2.960</td> <td>   -1.821</td>\n",
       "</tr>\n",
       "<tr>\n",
       "  <th>Score Crédito</th>               <td>   -0.0009</td> <td>    0.000</td> <td>   -2.858</td> <td> 0.004</td> <td>   -0.002</td> <td>   -0.000</td>\n",
       "</tr>\n",
       "<tr>\n",
       "  <th>Idade</th>                       <td>    0.0686</td> <td>    0.003</td> <td>   23.556</td> <td> 0.000</td> <td>    0.063</td> <td>    0.074</td>\n",
       "</tr>\n",
       "<tr>\n",
       "  <th>Tempo como cliente (meses)</th>  <td>   -0.0015</td> <td>    0.011</td> <td>   -0.137</td> <td> 0.891</td> <td>   -0.023</td> <td>    0.020</td>\n",
       "</tr>\n",
       "<tr>\n",
       "  <th>Saldo</th>                       <td> 2.569e-06</td> <td> 5.93e-07</td> <td>    4.331</td> <td> 0.000</td> <td> 1.41e-06</td> <td> 3.73e-06</td>\n",
       "</tr>\n",
       "<tr>\n",
       "  <th>Número de produtos</th>          <td>   -0.0979</td> <td>    0.054</td> <td>   -1.799</td> <td> 0.072</td> <td>   -0.205</td> <td>    0.009</td>\n",
       "</tr>\n",
       "<tr>\n",
       "  <th>Possui Cartao de Crédito</th>    <td>   -0.0632</td> <td>    0.068</td> <td>   -0.927</td> <td> 0.354</td> <td>   -0.197</td> <td>    0.070</td>\n",
       "</tr>\n",
       "<tr>\n",
       "  <th>Assina mensalidade</th>          <td>   -1.0255</td> <td>    0.066</td> <td>  -15.544</td> <td> 0.000</td> <td>   -1.155</td> <td>   -0.896</td>\n",
       "</tr>\n",
       "<tr>\n",
       "  <th>Renda Mensal Presumida (R$)</th> <td> 2.415e-05</td> <td> 1.31e-05</td> <td>    1.841</td> <td> 0.066</td> <td>-1.57e-06</td> <td> 4.99e-05</td>\n",
       "</tr>\n",
       "<tr>\n",
       "  <th>Estado_Rio de Janeiro</th>       <td>   -0.7789</td> <td>    0.090</td> <td>   -8.649</td> <td> 0.000</td> <td>   -0.955</td> <td>   -0.602</td>\n",
       "</tr>\n",
       "<tr>\n",
       "  <th>Estado_São Paulo</th>            <td>   -0.8151</td> <td>    0.078</td> <td>  -10.456</td> <td> 0.000</td> <td>   -0.968</td> <td>   -0.662</td>\n",
       "</tr>\n",
       "<tr>\n",
       "  <th>Gênero_Masculino</th>            <td>   -0.5163</td> <td>    0.063</td> <td>   -8.249</td> <td> 0.000</td> <td>   -0.639</td> <td>   -0.394</td>\n",
       "</tr>\n",
       "</table>"
      ],
      "text/plain": [
       "<class 'statsmodels.iolib.summary.Summary'>\n",
       "\"\"\"\n",
       "                 Generalized Linear Model Regression Results                  \n",
       "==============================================================================\n",
       "Dep. Variable:          Churn_2_meses   No. Observations:                 7500\n",
       "Model:                            GLM   Df Residuals:                     7488\n",
       "Model Family:                Binomial   Df Model:                           11\n",
       "Link Function:                  logit   Scale:                          1.0000\n",
       "Method:                          IRLS   Log-Likelihood:                -3236.8\n",
       "Date:                Wed, 07 Oct 2020   Deviance:                       6473.6\n",
       "Time:                        00:09:51   Pearson chi2:                 7.53e+03\n",
       "No. Iterations:                     5                                         \n",
       "Covariance Type:            nonrobust                                         \n",
       "===============================================================================================\n",
       "                                  coef    std err          z      P>|z|      [0.025      0.975]\n",
       "-----------------------------------------------------------------------------------------------\n",
       "const                          -2.3909      0.291     -8.229      0.000      -2.960      -1.821\n",
       "Score Crédito                  -0.0009      0.000     -2.858      0.004      -0.002      -0.000\n",
       "Idade                           0.0686      0.003     23.556      0.000       0.063       0.074\n",
       "Tempo como cliente (meses)     -0.0015      0.011     -0.137      0.891      -0.023       0.020\n",
       "Saldo                        2.569e-06   5.93e-07      4.331      0.000    1.41e-06    3.73e-06\n",
       "Número de produtos             -0.0979      0.054     -1.799      0.072      -0.205       0.009\n",
       "Possui Cartao de Crédito       -0.0632      0.068     -0.927      0.354      -0.197       0.070\n",
       "Assina mensalidade             -1.0255      0.066    -15.544      0.000      -1.155      -0.896\n",
       "Renda Mensal Presumida (R$)  2.415e-05   1.31e-05      1.841      0.066   -1.57e-06    4.99e-05\n",
       "Estado_Rio de Janeiro          -0.7789      0.090     -8.649      0.000      -0.955      -0.602\n",
       "Estado_São Paulo               -0.8151      0.078    -10.456      0.000      -0.968      -0.662\n",
       "Gênero_Masculino               -0.5163      0.063     -8.249      0.000      -0.639      -0.394\n",
       "===============================================================================================\n",
       "\"\"\""
      ]
     },
     "execution_count": 138,
     "metadata": {},
     "output_type": "execute_result"
    }
   ],
   "source": [
    "x_train_sm = sm.add_constant(x_train)\n",
    "lr_sm = GLM(y_train, x_train_sm, family=sm.families.Binomial()).fit()\n",
    "lr_sm.summary()"
   ]
  },
  {
   "cell_type": "code",
   "execution_count": 143,
   "metadata": {
    "ExecuteTime": {
     "end_time": "2020-10-07T03:12:22.002349Z",
     "start_time": "2020-10-07T03:12:21.992386Z"
    }
   },
   "outputs": [],
   "source": [
    "y = df_dum.Churn_2_meses\n",
    "x = df_dum.drop(['Churn_2_meses','Tempo como cliente (meses)', 'Possui Cartao de Crédito'], axis = 1)\n",
    "\n",
    "x_train, x_test, y_train, y_test = train_test_split(x, y,\n",
    "                                                    random_state=42, stratify=y)"
   ]
  },
  {
   "cell_type": "code",
   "execution_count": 144,
   "metadata": {
    "ExecuteTime": {
     "end_time": "2020-10-07T03:12:25.272139Z",
     "start_time": "2020-10-07T03:12:25.233238Z"
    }
   },
   "outputs": [
    {
     "data": {
      "text/html": [
       "<table class=\"simpletable\">\n",
       "<caption>Generalized Linear Model Regression Results</caption>\n",
       "<tr>\n",
       "  <th>Dep. Variable:</th>     <td>Churn_2_meses</td>  <th>  No. Observations:  </th>  <td>  7500</td> \n",
       "</tr>\n",
       "<tr>\n",
       "  <th>Model:</th>                  <td>GLM</td>       <th>  Df Residuals:      </th>  <td>  7490</td> \n",
       "</tr>\n",
       "<tr>\n",
       "  <th>Model Family:</th>        <td>Binomial</td>     <th>  Df Model:          </th>  <td>     9</td> \n",
       "</tr>\n",
       "<tr>\n",
       "  <th>Link Function:</th>         <td>logit</td>      <th>  Scale:             </th> <td>  1.0000</td>\n",
       "</tr>\n",
       "<tr>\n",
       "  <th>Method:</th>                <td>IRLS</td>       <th>  Log-Likelihood:    </th> <td> -3237.3</td>\n",
       "</tr>\n",
       "<tr>\n",
       "  <th>Date:</th>            <td>Wed, 07 Oct 2020</td> <th>  Deviance:          </th> <td>  6474.5</td>\n",
       "</tr>\n",
       "<tr>\n",
       "  <th>Time:</th>                <td>00:12:25</td>     <th>  Pearson chi2:      </th> <td>7.53e+03</td>\n",
       "</tr>\n",
       "<tr>\n",
       "  <th>No. Iterations:</th>          <td>5</td>        <th>                     </th>     <td> </td>   \n",
       "</tr>\n",
       "<tr>\n",
       "  <th>Covariance Type:</th>     <td>nonrobust</td>    <th>                     </th>     <td> </td>   \n",
       "</tr>\n",
       "</table>\n",
       "<table class=\"simpletable\">\n",
       "<tr>\n",
       "               <td></td>                  <th>coef</th>     <th>std err</th>      <th>z</th>      <th>P>|z|</th>  <th>[0.025</th>    <th>0.975]</th>  \n",
       "</tr>\n",
       "<tr>\n",
       "  <th>const</th>                       <td>   -2.4470</td> <td>    0.281</td> <td>   -8.696</td> <td> 0.000</td> <td>   -2.999</td> <td>   -1.895</td>\n",
       "</tr>\n",
       "<tr>\n",
       "  <th>Score Crédito</th>               <td>   -0.0009</td> <td>    0.000</td> <td>   -2.846</td> <td> 0.004</td> <td>   -0.002</td> <td>   -0.000</td>\n",
       "</tr>\n",
       "<tr>\n",
       "  <th>Idade</th>                       <td>    0.0686</td> <td>    0.003</td> <td>   23.568</td> <td> 0.000</td> <td>    0.063</td> <td>    0.074</td>\n",
       "</tr>\n",
       "<tr>\n",
       "  <th>Saldo</th>                       <td> 2.576e-06</td> <td> 5.93e-07</td> <td>    4.343</td> <td> 0.000</td> <td> 1.41e-06</td> <td> 3.74e-06</td>\n",
       "</tr>\n",
       "<tr>\n",
       "  <th>Número de produtos</th>          <td>   -0.0984</td> <td>    0.054</td> <td>   -1.809</td> <td> 0.071</td> <td>   -0.205</td> <td>    0.008</td>\n",
       "</tr>\n",
       "<tr>\n",
       "  <th>Assina mensalidade</th>          <td>   -1.0244</td> <td>    0.066</td> <td>  -15.543</td> <td> 0.000</td> <td>   -1.154</td> <td>   -0.895</td>\n",
       "</tr>\n",
       "<tr>\n",
       "  <th>Renda Mensal Presumida (R$)</th> <td>  2.41e-05</td> <td> 1.31e-05</td> <td>    1.837</td> <td> 0.066</td> <td>-1.61e-06</td> <td> 4.98e-05</td>\n",
       "</tr>\n",
       "<tr>\n",
       "  <th>Estado_Rio de Janeiro</th>       <td>   -0.7769</td> <td>    0.090</td> <td>   -8.630</td> <td> 0.000</td> <td>   -0.953</td> <td>   -0.600</td>\n",
       "</tr>\n",
       "<tr>\n",
       "  <th>Estado_São Paulo</th>            <td>   -0.8142</td> <td>    0.078</td> <td>  -10.446</td> <td> 0.000</td> <td>   -0.967</td> <td>   -0.661</td>\n",
       "</tr>\n",
       "<tr>\n",
       "  <th>Gênero_Masculino</th>            <td>   -0.5163</td> <td>    0.063</td> <td>   -8.249</td> <td> 0.000</td> <td>   -0.639</td> <td>   -0.394</td>\n",
       "</tr>\n",
       "</table>"
      ],
      "text/plain": [
       "<class 'statsmodels.iolib.summary.Summary'>\n",
       "\"\"\"\n",
       "                 Generalized Linear Model Regression Results                  \n",
       "==============================================================================\n",
       "Dep. Variable:          Churn_2_meses   No. Observations:                 7500\n",
       "Model:                            GLM   Df Residuals:                     7490\n",
       "Model Family:                Binomial   Df Model:                            9\n",
       "Link Function:                  logit   Scale:                          1.0000\n",
       "Method:                          IRLS   Log-Likelihood:                -3237.3\n",
       "Date:                Wed, 07 Oct 2020   Deviance:                       6474.5\n",
       "Time:                        00:12:25   Pearson chi2:                 7.53e+03\n",
       "No. Iterations:                     5                                         \n",
       "Covariance Type:            nonrobust                                         \n",
       "===============================================================================================\n",
       "                                  coef    std err          z      P>|z|      [0.025      0.975]\n",
       "-----------------------------------------------------------------------------------------------\n",
       "const                          -2.4470      0.281     -8.696      0.000      -2.999      -1.895\n",
       "Score Crédito                  -0.0009      0.000     -2.846      0.004      -0.002      -0.000\n",
       "Idade                           0.0686      0.003     23.568      0.000       0.063       0.074\n",
       "Saldo                        2.576e-06   5.93e-07      4.343      0.000    1.41e-06    3.74e-06\n",
       "Número de produtos             -0.0984      0.054     -1.809      0.071      -0.205       0.008\n",
       "Assina mensalidade             -1.0244      0.066    -15.543      0.000      -1.154      -0.895\n",
       "Renda Mensal Presumida (R$)   2.41e-05   1.31e-05      1.837      0.066   -1.61e-06    4.98e-05\n",
       "Estado_Rio de Janeiro          -0.7769      0.090     -8.630      0.000      -0.953      -0.600\n",
       "Estado_São Paulo               -0.8142      0.078    -10.446      0.000      -0.967      -0.661\n",
       "Gênero_Masculino               -0.5163      0.063     -8.249      0.000      -0.639      -0.394\n",
       "===============================================================================================\n",
       "\"\"\""
      ]
     },
     "execution_count": 144,
     "metadata": {},
     "output_type": "execute_result"
    }
   ],
   "source": [
    "x_train_sm = sm.add_constant(x_train)\n",
    "lr_sm = GLM(y_train, x_train_sm, family=sm.families.Binomial()).fit()\n",
    "lr_sm.summary()"
   ]
  },
  {
   "cell_type": "markdown",
   "metadata": {},
   "source": [
    "# Testando Modelos ╭( ͡° ͜ʖ ͡°)و"
   ]
  },
  {
   "cell_type": "markdown",
   "metadata": {},
   "source": [
    "## Regressão Logistica\n",
    "Por ser um problema binário vamos testar a regressão logistica.\n",
    "\n",
    "Obtivemos resultados péssimo, por tanto iremos testar outro modelo."
   ]
  },
  {
   "cell_type": "code",
   "execution_count": 145,
   "metadata": {
    "ExecuteTime": {
     "end_time": "2020-10-07T03:12:33.605148Z",
     "start_time": "2020-10-07T03:12:33.562266Z"
    }
   },
   "outputs": [],
   "source": [
    "lr = LogisticRegression()\n",
    "lr.fit(x_train, y_train)\n",
    "\n",
    "y_pred = lr.predict(x_test)"
   ]
  },
  {
   "cell_type": "code",
   "execution_count": 146,
   "metadata": {
    "ExecuteTime": {
     "end_time": "2020-10-07T03:12:34.173645Z",
     "start_time": "2020-10-07T03:12:34.118790Z"
    }
   },
   "outputs": [
    {
     "data": {
      "image/png": "[encoded data removed]",
      "text/plain": [
       "<Figure size 432x432 with 1 Axes>"
      ]
     },
     "metadata": {
      "needs_background": "light"
     },
     "output_type": "display_data"
    }
   ],
   "source": [
    "plt.figure(figsize=(6, 6))\n",
    "sns.heatmap(confusion_matrix(y_test, y_pred),\n",
    "            annot=True, cmap='Greens', cbar=False);"
   ]
  },
  {
   "cell_type": "code",
   "execution_count": 147,
   "metadata": {
    "ExecuteTime": {
     "end_time": "2020-10-07T03:12:36.255627Z",
     "start_time": "2020-10-07T03:12:36.246604Z"
    },
    "scrolled": true
   },
   "outputs": [
    {
     "name": "stdout",
     "output_type": "stream",
     "text": [
      "              precision    recall  f1-score   support\n",
      "\n",
      "           0       0.80      0.98      0.88      1991\n",
      "           1       0.48      0.06      0.10       509\n",
      "\n",
      "    accuracy                           0.80      2500\n",
      "   macro avg       0.64      0.52      0.49      2500\n",
      "weighted avg       0.74      0.80      0.73      2500\n",
      "\n"
     ]
    }
   ],
   "source": [
    "print(classification_report(y_test, y_pred))"
   ]
  },
  {
   "cell_type": "markdown",
   "metadata": {
    "ExecuteTime": {
     "end_time": "2020-10-07T03:00:49.139330Z",
     "start_time": "2020-10-07T03:00:49.031620Z"
    }
   },
   "source": [
    "## Random Forest\n",
    "Obtivemos resultados melhores, que a regressão, contudo ainda não satisfatórios, iremos testar por tanto mais um modelo."
   ]
  },
  {
   "cell_type": "code",
   "execution_count": 28,
   "metadata": {
    "ExecuteTime": {
     "end_time": "2020-10-08T23:24:32.650925Z",
     "start_time": "2020-10-08T23:24:32.647934Z"
    }
   },
   "outputs": [],
   "source": [
    "dt = DecisionTreeClassifier()"
   ]
  },
  {
   "cell_type": "code",
   "execution_count": 32,
   "metadata": {
    "ExecuteTime": {
     "end_time": "2020-10-08T23:25:17.409010Z",
     "start_time": "2020-10-08T23:24:54.573040Z"
    }
   },
   "outputs": [
    {
     "data": {
      "text/plain": [
       "RandomForestClassifier(max_features=0.5, max_samples=0.6, n_estimators=2500)"
      ]
     },
     "execution_count": 32,
     "metadata": {},
     "output_type": "execute_result"
    }
   ],
   "source": [
    "modelo = RandomForestClassifier(n_estimators = 2500,\n",
    "                                max_samples = 0.6,\n",
    "                                max_features = 0.5) \n",
    "\n",
    "modelo.fit(x_train, y_train)"
   ]
  },
  {
   "cell_type": "code",
   "execution_count": 30,
   "metadata": {
    "ExecuteTime": {
     "end_time": "2020-10-08T23:24:54.469453Z",
     "start_time": "2020-10-08T23:24:53.164245Z"
    }
   },
   "outputs": [],
   "source": [
    "y_pred_forest = modelo.predict(x_test)"
   ]
  },
  {
   "cell_type": "code",
   "execution_count": 31,
   "metadata": {
    "ExecuteTime": {
     "end_time": "2020-10-08T23:24:54.524166Z",
     "start_time": "2020-10-08T23:24:54.513196Z"
    }
   },
   "outputs": [
    {
     "name": "stdout",
     "output_type": "stream",
     "text": [
      "              precision    recall  f1-score   support\n",
      "\n",
      "           0       0.88      0.97      0.92      1991\n",
      "           1       0.78      0.48      0.59       509\n",
      "\n",
      "    accuracy                           0.87      2500\n",
      "   macro avg       0.83      0.72      0.76      2500\n",
      "weighted avg       0.86      0.87      0.85      2500\n",
      "\n"
     ]
    }
   ],
   "source": [
    "print(classification_report(y_test, y_pred_forest))"
   ]
  },
  {
   "cell_type": "markdown",
   "metadata": {
    "id": "Thj6rnK7gUIx"
   },
   "source": [
    "## Catboost"
   ]
  },
  {
   "cell_type": "code",
   "execution_count": 10,
   "metadata": {
    "ExecuteTime": {
     "end_time": "2020-10-09T00:18:50.287893Z",
     "start_time": "2020-10-09T00:18:50.276891Z"
    }
   },
   "outputs": [],
   "source": [
    "y = df.Churn_2_meses\n",
    "x = df.drop('Churn_2_meses', axis = 1)\n",
    "\n",
    "x_train, x_test, y_train, y_test = train_test_split(x, y,\n",
    "                                                    random_state=42, stratify=y)"
   ]
  },
  {
   "cell_type": "code",
   "execution_count": 20,
   "metadata": {
    "ExecuteTime": {
     "end_time": "2020-10-08T23:22:40.319550Z",
     "start_time": "2020-10-08T23:22:40.314566Z"
    }
   },
   "outputs": [
    {
     "data": {
      "text/plain": [
       "7500"
      ]
     },
     "execution_count": 20,
     "metadata": {},
     "output_type": "execute_result"
    }
   ],
   "source": [
    "len(y_train)"
   ]
  },
  {
   "cell_type": "code",
   "execution_count": 11,
   "metadata": {
    "ExecuteTime": {
     "end_time": "2020-10-09T00:18:55.050288Z",
     "start_time": "2020-10-09T00:18:55.047296Z"
    }
   },
   "outputs": [],
   "source": [
    "mod_cat = CatBoostClassifier(iterations= 2500, learning_rate= 0.1)"
   ]
  },
  {
   "cell_type": "code",
   "execution_count": 12,
   "metadata": {
    "ExecuteTime": {
     "end_time": "2020-10-09T00:18:55.725244Z",
     "start_time": "2020-10-09T00:18:55.712278Z"
    }
   },
   "outputs": [
    {
     "data": {
      "text/html": [
       "<div>\n",
       "<style scoped>\n",
       "    .dataframe tbody tr th:only-of-type {\n",
       "        vertical-align: middle;\n",
       "    }\n",
       "\n",
       "    .dataframe tbody tr th {\n",
       "        vertical-align: top;\n",
       "    }\n",
       "\n",
       "    .dataframe thead th {\n",
       "        text-align: right;\n",
       "    }\n",
       "</style>\n",
       "<table border=\"1\" class=\"dataframe\">\n",
       "  <thead>\n",
       "    <tr style=\"text-align: right;\">\n",
       "      <th></th>\n",
       "      <th>Estado</th>\n",
       "      <th>Gênero</th>\n",
       "    </tr>\n",
       "  </thead>\n",
       "  <tbody>\n",
       "    <tr>\n",
       "      <th>5866</th>\n",
       "      <td>São Paulo</td>\n",
       "      <td>Feminino</td>\n",
       "    </tr>\n",
       "    <tr>\n",
       "      <th>1938</th>\n",
       "      <td>São Paulo</td>\n",
       "      <td>Masculino</td>\n",
       "    </tr>\n",
       "    <tr>\n",
       "      <th>4194</th>\n",
       "      <td>Minas Gerais</td>\n",
       "      <td>Feminino</td>\n",
       "    </tr>\n",
       "    <tr>\n",
       "      <th>6332</th>\n",
       "      <td>São Paulo</td>\n",
       "      <td>Feminino</td>\n",
       "    </tr>\n",
       "    <tr>\n",
       "      <th>1</th>\n",
       "      <td>Rio de Janeiro</td>\n",
       "      <td>Feminino</td>\n",
       "    </tr>\n",
       "    <tr>\n",
       "      <th>...</th>\n",
       "      <td>...</td>\n",
       "      <td>...</td>\n",
       "    </tr>\n",
       "    <tr>\n",
       "      <th>3254</th>\n",
       "      <td>Minas Gerais</td>\n",
       "      <td>Masculino</td>\n",
       "    </tr>\n",
       "    <tr>\n",
       "      <th>4644</th>\n",
       "      <td>Rio de Janeiro</td>\n",
       "      <td>Masculino</td>\n",
       "    </tr>\n",
       "    <tr>\n",
       "      <th>8942</th>\n",
       "      <td>São Paulo</td>\n",
       "      <td>Feminino</td>\n",
       "    </tr>\n",
       "    <tr>\n",
       "      <th>2935</th>\n",
       "      <td>Rio de Janeiro</td>\n",
       "      <td>Masculino</td>\n",
       "    </tr>\n",
       "    <tr>\n",
       "      <th>6206</th>\n",
       "      <td>Rio de Janeiro</td>\n",
       "      <td>Masculino</td>\n",
       "    </tr>\n",
       "  </tbody>\n",
       "</table>\n",
       "<p>7500 rows × 2 columns</p>\n",
       "</div>"
      ],
      "text/plain": [
       "              Estado     Gênero\n",
       "5866       São Paulo   Feminino\n",
       "1938       São Paulo  Masculino\n",
       "4194    Minas Gerais   Feminino\n",
       "6332       São Paulo   Feminino\n",
       "1     Rio de Janeiro   Feminino\n",
       "...              ...        ...\n",
       "3254    Minas Gerais  Masculino\n",
       "4644  Rio de Janeiro  Masculino\n",
       "8942       São Paulo   Feminino\n",
       "2935  Rio de Janeiro  Masculino\n",
       "6206  Rio de Janeiro  Masculino\n",
       "\n",
       "[7500 rows x 2 columns]"
      ]
     },
     "execution_count": 12,
     "metadata": {},
     "output_type": "execute_result"
    }
   ],
   "source": [
    "x_train.select_dtypes(include= 'O')"
   ]
  },
  {
   "cell_type": "code",
   "execution_count": 13,
   "metadata": {
    "ExecuteTime": {
     "end_time": "2020-10-09T00:19:57.782312Z",
     "start_time": "2020-10-09T00:18:57.764403Z"
    },
    "scrolled": true
   },
   "outputs": [
    {
     "name": "stdout",
     "output_type": "stream",
     "text": [
      "0:\tlearn: 0.6185504\ttotal: 81.6ms\tremaining: 3m 23s\n",
      "1:\tlearn: 0.5608321\ttotal: 107ms\tremaining: 2m 13s\n",
      "2:\tlearn: 0.5216504\ttotal: 132ms\tremaining: 1m 49s\n",
      "3:\tlearn: 0.4870880\ttotal: 158ms\tremaining: 1m 38s\n",
      "4:\tlearn: 0.4566147\ttotal: 177ms\tremaining: 1m 28s\n",
      "5:\tlearn: 0.4377678\ttotal: 193ms\tremaining: 1m 20s\n",
      "6:\tlearn: 0.4228188\ttotal: 215ms\tremaining: 1m 16s\n",
      "7:\tlearn: 0.4063233\ttotal: 235ms\tremaining: 1m 13s\n",
      "8:\tlearn: 0.3935044\ttotal: 251ms\tremaining: 1m 9s\n",
      "9:\tlearn: 0.3825749\ttotal: 271ms\tremaining: 1m 7s\n",
      "10:\tlearn: 0.3738964\ttotal: 287ms\tremaining: 1m 5s\n",
      "11:\tlearn: 0.3710386\ttotal: 306ms\tremaining: 1m 3s\n",
      "12:\tlearn: 0.3660481\ttotal: 333ms\tremaining: 1m 3s\n",
      "13:\tlearn: 0.3616691\ttotal: 355ms\tremaining: 1m 2s\n",
      "14:\tlearn: 0.3580546\ttotal: 371ms\tremaining: 1m 1s\n",
      "15:\tlearn: 0.3548566\ttotal: 396ms\tremaining: 1m 1s\n",
      "16:\tlearn: 0.3510705\ttotal: 412ms\tremaining: 1m\n",
      "17:\tlearn: 0.3486818\ttotal: 433ms\tremaining: 59.8s\n",
      "18:\tlearn: 0.3454647\ttotal: 453ms\tremaining: 59.2s\n",
      "19:\tlearn: 0.3436521\ttotal: 477ms\tremaining: 59.1s\n",
      "20:\tlearn: 0.3418581\ttotal: 501ms\tremaining: 59.1s\n",
      "21:\tlearn: 0.3399048\ttotal: 526ms\tremaining: 59.3s\n",
      "22:\tlearn: 0.3376289\ttotal: 543ms\tremaining: 58.4s\n",
      "23:\tlearn: 0.3363763\ttotal: 565ms\tremaining: 58.3s\n",
      "24:\tlearn: 0.3351416\ttotal: 585ms\tremaining: 57.9s\n",
      "25:\tlearn: 0.3339706\ttotal: 609ms\tremaining: 57.9s\n",
      "26:\tlearn: 0.3326118\ttotal: 632ms\tremaining: 57.9s\n",
      "27:\tlearn: 0.3314624\ttotal: 658ms\tremaining: 58.1s\n",
      "28:\tlearn: 0.3303405\ttotal: 667ms\tremaining: 56.8s\n",
      "29:\tlearn: 0.3290536\ttotal: 689ms\tremaining: 56.7s\n",
      "30:\tlearn: 0.3280105\ttotal: 719ms\tremaining: 57.3s\n",
      "31:\tlearn: 0.3269527\ttotal: 744ms\tremaining: 57.3s\n",
      "32:\tlearn: 0.3263308\ttotal: 757ms\tremaining: 56.6s\n",
      "33:\tlearn: 0.3253824\ttotal: 773ms\tremaining: 56.1s\n",
      "34:\tlearn: 0.3242777\ttotal: 794ms\tremaining: 55.9s\n",
      "35:\tlearn: 0.3234371\ttotal: 814ms\tremaining: 55.7s\n",
      "36:\tlearn: 0.3234340\ttotal: 817ms\tremaining: 54.4s\n",
      "37:\tlearn: 0.3228559\ttotal: 832ms\tremaining: 53.9s\n",
      "38:\tlearn: 0.3225119\ttotal: 849ms\tremaining: 53.6s\n",
      "39:\tlearn: 0.3221091\ttotal: 862ms\tremaining: 53s\n",
      "40:\tlearn: 0.3212112\ttotal: 880ms\tremaining: 52.8s\n",
      "41:\tlearn: 0.3206619\ttotal: 899ms\tremaining: 52.6s\n",
      "42:\tlearn: 0.3203072\ttotal: 918ms\tremaining: 52.4s\n",
      "43:\tlearn: 0.3200066\ttotal: 938ms\tremaining: 52.4s\n",
      "44:\tlearn: 0.3195699\ttotal: 958ms\tremaining: 52.3s\n",
      "45:\tlearn: 0.3189030\ttotal: 979ms\tremaining: 52.2s\n",
      "46:\tlearn: 0.3180357\ttotal: 996ms\tremaining: 52s\n",
      "47:\tlearn: 0.3171463\ttotal: 1.01s\tremaining: 51.8s\n",
      "48:\tlearn: 0.3169495\ttotal: 1.03s\tremaining: 51.3s\n",
      "49:\tlearn: 0.3161627\ttotal: 1.05s\tremaining: 51.3s\n",
      "50:\tlearn: 0.3158179\ttotal: 1.08s\tremaining: 51.7s\n",
      "51:\tlearn: 0.3151633\ttotal: 1.1s\tremaining: 51.6s\n",
      "52:\tlearn: 0.3143960\ttotal: 1.12s\tremaining: 51.7s\n",
      "53:\tlearn: 0.3137942\ttotal: 1.14s\tremaining: 51.8s\n",
      "54:\tlearn: 0.3131959\ttotal: 1.16s\tremaining: 51.7s\n",
      "55:\tlearn: 0.3129050\ttotal: 1.17s\tremaining: 51.2s\n",
      "56:\tlearn: 0.3123916\ttotal: 1.2s\tremaining: 51.4s\n",
      "57:\tlearn: 0.3117928\ttotal: 1.22s\tremaining: 51.5s\n",
      "58:\tlearn: 0.3114794\ttotal: 1.25s\tremaining: 51.5s\n",
      "59:\tlearn: 0.3112312\ttotal: 1.26s\tremaining: 51.3s\n",
      "60:\tlearn: 0.3108273\ttotal: 1.28s\tremaining: 51.3s\n",
      "61:\tlearn: 0.3104281\ttotal: 1.31s\tremaining: 51.5s\n",
      "62:\tlearn: 0.3098786\ttotal: 1.33s\tremaining: 51.6s\n",
      "63:\tlearn: 0.3094507\ttotal: 1.35s\tremaining: 51.6s\n",
      "64:\tlearn: 0.3094222\ttotal: 1.36s\tremaining: 51s\n",
      "65:\tlearn: 0.3092409\ttotal: 1.38s\tremaining: 50.9s\n",
      "66:\tlearn: 0.3083411\ttotal: 1.4s\tremaining: 51s\n",
      "67:\tlearn: 0.3078959\ttotal: 1.42s\tremaining: 50.9s\n",
      "68:\tlearn: 0.3075399\ttotal: 1.44s\tremaining: 50.7s\n",
      "69:\tlearn: 0.3070744\ttotal: 1.46s\tremaining: 50.7s\n",
      "70:\tlearn: 0.3070741\ttotal: 1.46s\tremaining: 50.1s\n",
      "71:\tlearn: 0.3067872\ttotal: 1.47s\tremaining: 49.6s\n",
      "72:\tlearn: 0.3061521\ttotal: 1.49s\tremaining: 49.6s\n",
      "73:\tlearn: 0.3053598\ttotal: 1.52s\tremaining: 49.7s\n",
      "74:\tlearn: 0.3051888\ttotal: 1.52s\tremaining: 49.3s\n",
      "75:\tlearn: 0.3048010\ttotal: 1.55s\tremaining: 49.4s\n",
      "76:\tlearn: 0.3042141\ttotal: 1.57s\tremaining: 49.4s\n",
      "77:\tlearn: 0.3037416\ttotal: 1.59s\tremaining: 49.3s\n",
      "78:\tlearn: 0.3030130\ttotal: 1.61s\tremaining: 49.4s\n",
      "79:\tlearn: 0.3025937\ttotal: 1.63s\tremaining: 49.4s\n",
      "80:\tlearn: 0.3018919\ttotal: 1.66s\tremaining: 49.5s\n",
      "81:\tlearn: 0.3014161\ttotal: 1.68s\tremaining: 49.5s\n",
      "82:\tlearn: 0.3011327\ttotal: 1.7s\tremaining: 49.4s\n",
      "83:\tlearn: 0.3008568\ttotal: 1.72s\tremaining: 49.4s\n",
      "84:\tlearn: 0.3002239\ttotal: 1.75s\tremaining: 49.7s\n",
      "85:\tlearn: 0.2996289\ttotal: 1.78s\tremaining: 49.9s\n",
      "86:\tlearn: 0.2992218\ttotal: 1.8s\tremaining: 50.1s\n",
      "87:\tlearn: 0.2990918\ttotal: 1.82s\tremaining: 50s\n",
      "88:\tlearn: 0.2987106\ttotal: 1.84s\tremaining: 50s\n",
      "89:\tlearn: 0.2983278\ttotal: 1.86s\tremaining: 49.9s\n",
      "90:\tlearn: 0.2975640\ttotal: 1.89s\tremaining: 50s\n",
      "91:\tlearn: 0.2971963\ttotal: 1.91s\tremaining: 50s\n",
      "92:\tlearn: 0.2967791\ttotal: 1.93s\tremaining: 49.9s\n",
      "93:\tlearn: 0.2962396\ttotal: 1.95s\tremaining: 50s\n",
      "94:\tlearn: 0.2956742\ttotal: 1.98s\tremaining: 50.2s\n",
      "95:\tlearn: 0.2950358\ttotal: 2.01s\tremaining: 50.2s\n",
      "96:\tlearn: 0.2950329\ttotal: 2.01s\tremaining: 49.8s\n",
      "97:\tlearn: 0.2945490\ttotal: 2.03s\tremaining: 49.9s\n",
      "98:\tlearn: 0.2940455\ttotal: 2.06s\tremaining: 50s\n",
      "99:\tlearn: 0.2934321\ttotal: 2.08s\tremaining: 50s\n",
      "100:\tlearn: 0.2928906\ttotal: 2.11s\tremaining: 50.1s\n",
      "101:\tlearn: 0.2925400\ttotal: 2.13s\tremaining: 50.2s\n",
      "102:\tlearn: 0.2922052\ttotal: 2.16s\tremaining: 50.2s\n",
      "103:\tlearn: 0.2915564\ttotal: 2.18s\tremaining: 50.3s\n",
      "104:\tlearn: 0.2910824\ttotal: 2.21s\tremaining: 50.5s\n",
      "105:\tlearn: 0.2907494\ttotal: 2.23s\tremaining: 50.4s\n",
      "106:\tlearn: 0.2902285\ttotal: 2.26s\tremaining: 50.5s\n",
      "107:\tlearn: 0.2898043\ttotal: 2.29s\tremaining: 50.8s\n",
      "108:\tlearn: 0.2895088\ttotal: 2.33s\tremaining: 51.1s\n",
      "109:\tlearn: 0.2891472\ttotal: 2.35s\tremaining: 51.1s\n",
      "110:\tlearn: 0.2887452\ttotal: 2.38s\tremaining: 51.1s\n",
      "111:\tlearn: 0.2881508\ttotal: 2.4s\tremaining: 51.2s\n",
      "112:\tlearn: 0.2876208\ttotal: 2.42s\tremaining: 51.2s\n",
      "113:\tlearn: 0.2871647\ttotal: 2.45s\tremaining: 51.2s\n",
      "114:\tlearn: 0.2865335\ttotal: 2.47s\tremaining: 51.2s\n",
      "115:\tlearn: 0.2859515\ttotal: 2.5s\tremaining: 51.3s\n",
      "116:\tlearn: 0.2851842\ttotal: 2.52s\tremaining: 51.2s\n",
      "117:\tlearn: 0.2848887\ttotal: 2.53s\tremaining: 51.1s\n",
      "118:\tlearn: 0.2843693\ttotal: 2.56s\tremaining: 51.1s\n",
      "119:\tlearn: 0.2838999\ttotal: 2.58s\tremaining: 51.2s\n",
      "120:\tlearn: 0.2835561\ttotal: 2.6s\tremaining: 51.1s\n",
      "121:\tlearn: 0.2829689\ttotal: 2.63s\tremaining: 51.3s\n",
      "122:\tlearn: 0.2825172\ttotal: 2.65s\tremaining: 51.1s\n",
      "123:\tlearn: 0.2821700\ttotal: 2.67s\tremaining: 51.2s\n",
      "124:\tlearn: 0.2818235\ttotal: 2.69s\tremaining: 51.1s\n",
      "125:\tlearn: 0.2817802\ttotal: 2.7s\tremaining: 50.9s\n",
      "126:\tlearn: 0.2813522\ttotal: 2.73s\tremaining: 50.9s\n",
      "127:\tlearn: 0.2810179\ttotal: 2.75s\tremaining: 51s\n",
      "128:\tlearn: 0.2804996\ttotal: 2.78s\tremaining: 51.1s\n",
      "129:\tlearn: 0.2801208\ttotal: 2.81s\tremaining: 51.2s\n",
      "130:\tlearn: 0.2792686\ttotal: 2.83s\tremaining: 51.3s\n",
      "131:\tlearn: 0.2788916\ttotal: 2.86s\tremaining: 51.4s\n",
      "132:\tlearn: 0.2785333\ttotal: 2.89s\tremaining: 51.5s\n",
      "133:\tlearn: 0.2781990\ttotal: 2.92s\tremaining: 51.5s\n",
      "134:\tlearn: 0.2777887\ttotal: 2.95s\tremaining: 51.6s\n",
      "135:\tlearn: 0.2776236\ttotal: 2.96s\tremaining: 51.5s\n",
      "136:\tlearn: 0.2772384\ttotal: 2.99s\tremaining: 51.5s\n",
      "137:\tlearn: 0.2767737\ttotal: 3.01s\tremaining: 51.5s\n",
      "138:\tlearn: 0.2758488\ttotal: 3.03s\tremaining: 51.4s\n",
      "139:\tlearn: 0.2754293\ttotal: 3.06s\tremaining: 51.5s\n",
      "140:\tlearn: 0.2748724\ttotal: 3.08s\tremaining: 51.6s\n",
      "141:\tlearn: 0.2743195\ttotal: 3.1s\tremaining: 51.6s\n",
      "142:\tlearn: 0.2736201\ttotal: 3.13s\tremaining: 51.6s\n",
      "143:\tlearn: 0.2730411\ttotal: 3.15s\tremaining: 51.6s\n",
      "144:\tlearn: 0.2726475\ttotal: 3.18s\tremaining: 51.6s\n",
      "145:\tlearn: 0.2721282\ttotal: 3.2s\tremaining: 51.6s\n",
      "146:\tlearn: 0.2717746\ttotal: 3.22s\tremaining: 51.6s\n",
      "147:\tlearn: 0.2712680\ttotal: 3.25s\tremaining: 51.7s\n",
      "148:\tlearn: 0.2708539\ttotal: 3.27s\tremaining: 51.7s\n",
      "149:\tlearn: 0.2706034\ttotal: 3.3s\tremaining: 51.7s\n",
      "150:\tlearn: 0.2703425\ttotal: 3.33s\tremaining: 51.9s\n",
      "151:\tlearn: 0.2700779\ttotal: 3.36s\tremaining: 51.9s\n",
      "152:\tlearn: 0.2699054\ttotal: 3.38s\tremaining: 51.8s\n",
      "153:\tlearn: 0.2695804\ttotal: 3.4s\tremaining: 51.8s\n",
      "154:\tlearn: 0.2690124\ttotal: 3.42s\tremaining: 51.8s\n",
      "155:\tlearn: 0.2687614\ttotal: 3.44s\tremaining: 51.7s\n",
      "156:\tlearn: 0.2682706\ttotal: 3.47s\tremaining: 51.7s\n",
      "157:\tlearn: 0.2680003\ttotal: 3.49s\tremaining: 51.7s\n",
      "158:\tlearn: 0.2676554\ttotal: 3.51s\tremaining: 51.7s\n",
      "159:\tlearn: 0.2673316\ttotal: 3.54s\tremaining: 51.7s\n",
      "160:\tlearn: 0.2670330\ttotal: 3.56s\tremaining: 51.7s\n",
      "161:\tlearn: 0.2666073\ttotal: 3.58s\tremaining: 51.7s\n",
      "162:\tlearn: 0.2663317\ttotal: 3.6s\tremaining: 51.7s\n",
      "163:\tlearn: 0.2659747\ttotal: 3.63s\tremaining: 51.7s\n",
      "164:\tlearn: 0.2655417\ttotal: 3.65s\tremaining: 51.7s\n"
     ]
    },
    {
     "name": "stdout",
     "output_type": "stream",
     "text": [
      "165:\tlearn: 0.2655261\ttotal: 3.66s\tremaining: 51.5s\n",
      "166:\tlearn: 0.2649130\ttotal: 3.68s\tremaining: 51.5s\n",
      "167:\tlearn: 0.2645529\ttotal: 3.71s\tremaining: 51.6s\n",
      "168:\tlearn: 0.2643340\ttotal: 3.73s\tremaining: 51.4s\n",
      "169:\tlearn: 0.2638074\ttotal: 3.75s\tremaining: 51.4s\n",
      "170:\tlearn: 0.2632851\ttotal: 3.77s\tremaining: 51.4s\n",
      "171:\tlearn: 0.2630220\ttotal: 3.8s\tremaining: 51.4s\n",
      "172:\tlearn: 0.2625500\ttotal: 3.82s\tremaining: 51.4s\n",
      "173:\tlearn: 0.2621707\ttotal: 3.84s\tremaining: 51.4s\n",
      "174:\tlearn: 0.2618797\ttotal: 3.86s\tremaining: 51.3s\n",
      "175:\tlearn: 0.2614850\ttotal: 3.88s\tremaining: 51.3s\n",
      "176:\tlearn: 0.2611685\ttotal: 3.9s\tremaining: 51.2s\n",
      "177:\tlearn: 0.2608738\ttotal: 3.92s\tremaining: 51.2s\n",
      "178:\tlearn: 0.2603343\ttotal: 3.95s\tremaining: 51.2s\n",
      "179:\tlearn: 0.2601485\ttotal: 3.96s\tremaining: 51.1s\n",
      "180:\tlearn: 0.2598324\ttotal: 3.99s\tremaining: 51.1s\n",
      "181:\tlearn: 0.2596364\ttotal: 4.01s\tremaining: 51.1s\n",
      "182:\tlearn: 0.2593809\ttotal: 4.04s\tremaining: 51.1s\n",
      "183:\tlearn: 0.2589434\ttotal: 4.07s\tremaining: 51.2s\n",
      "184:\tlearn: 0.2586745\ttotal: 4.09s\tremaining: 51.1s\n",
      "185:\tlearn: 0.2583200\ttotal: 4.11s\tremaining: 51.2s\n",
      "186:\tlearn: 0.2575683\ttotal: 4.13s\tremaining: 51.1s\n",
      "187:\tlearn: 0.2574081\ttotal: 4.16s\tremaining: 51.1s\n",
      "188:\tlearn: 0.2570393\ttotal: 4.18s\tremaining: 51.1s\n",
      "189:\tlearn: 0.2568341\ttotal: 4.2s\tremaining: 51.1s\n",
      "190:\tlearn: 0.2565662\ttotal: 4.22s\tremaining: 51.1s\n",
      "191:\tlearn: 0.2561129\ttotal: 4.24s\tremaining: 51s\n",
      "192:\tlearn: 0.2556627\ttotal: 4.27s\tremaining: 51.1s\n",
      "193:\tlearn: 0.2552893\ttotal: 4.29s\tremaining: 51s\n",
      "194:\tlearn: 0.2549030\ttotal: 4.31s\tremaining: 51s\n",
      "195:\tlearn: 0.2545238\ttotal: 4.34s\tremaining: 51s\n",
      "196:\tlearn: 0.2540727\ttotal: 4.36s\tremaining: 51s\n",
      "197:\tlearn: 0.2536324\ttotal: 4.39s\tremaining: 51.1s\n",
      "198:\tlearn: 0.2534702\ttotal: 4.41s\tremaining: 51s\n",
      "199:\tlearn: 0.2532353\ttotal: 4.43s\tremaining: 51s\n",
      "200:\tlearn: 0.2529679\ttotal: 4.46s\tremaining: 51.1s\n",
      "201:\tlearn: 0.2527529\ttotal: 4.49s\tremaining: 51.1s\n",
      "202:\tlearn: 0.2523861\ttotal: 4.52s\tremaining: 51.1s\n",
      "203:\tlearn: 0.2519889\ttotal: 4.55s\tremaining: 51.2s\n",
      "204:\tlearn: 0.2516879\ttotal: 4.58s\tremaining: 51.3s\n",
      "205:\tlearn: 0.2513659\ttotal: 4.61s\tremaining: 51.3s\n",
      "206:\tlearn: 0.2510613\ttotal: 4.63s\tremaining: 51.3s\n",
      "207:\tlearn: 0.2506836\ttotal: 4.66s\tremaining: 51.3s\n",
      "208:\tlearn: 0.2503211\ttotal: 4.67s\tremaining: 51.3s\n",
      "209:\tlearn: 0.2497653\ttotal: 4.71s\tremaining: 51.3s\n",
      "210:\tlearn: 0.2492097\ttotal: 4.73s\tremaining: 51.4s\n",
      "211:\tlearn: 0.2489767\ttotal: 4.75s\tremaining: 51.3s\n",
      "212:\tlearn: 0.2487103\ttotal: 4.77s\tremaining: 51.3s\n",
      "213:\tlearn: 0.2483310\ttotal: 4.8s\tremaining: 51.3s\n",
      "214:\tlearn: 0.2480170\ttotal: 4.82s\tremaining: 51.3s\n",
      "215:\tlearn: 0.2479946\ttotal: 4.83s\tremaining: 51s\n",
      "216:\tlearn: 0.2479671\ttotal: 4.83s\tremaining: 50.9s\n",
      "217:\tlearn: 0.2477494\ttotal: 4.86s\tremaining: 50.9s\n",
      "218:\tlearn: 0.2475036\ttotal: 4.88s\tremaining: 50.9s\n",
      "219:\tlearn: 0.2472900\ttotal: 4.9s\tremaining: 50.8s\n",
      "220:\tlearn: 0.2469322\ttotal: 4.95s\tremaining: 51.1s\n",
      "221:\tlearn: 0.2465469\ttotal: 4.97s\tremaining: 51s\n",
      "222:\tlearn: 0.2463204\ttotal: 4.99s\tremaining: 51s\n",
      "223:\tlearn: 0.2460223\ttotal: 5.02s\tremaining: 51s\n",
      "224:\tlearn: 0.2455626\ttotal: 5.05s\tremaining: 51s\n",
      "225:\tlearn: 0.2452317\ttotal: 5.07s\tremaining: 51.1s\n",
      "226:\tlearn: 0.2447823\ttotal: 5.11s\tremaining: 51.1s\n",
      "227:\tlearn: 0.2442950\ttotal: 5.13s\tremaining: 51.1s\n",
      "228:\tlearn: 0.2439150\ttotal: 5.15s\tremaining: 51.1s\n",
      "229:\tlearn: 0.2434808\ttotal: 5.17s\tremaining: 51.1s\n",
      "230:\tlearn: 0.2430351\ttotal: 5.2s\tremaining: 51s\n",
      "231:\tlearn: 0.2425818\ttotal: 5.22s\tremaining: 51.1s\n",
      "232:\tlearn: 0.2422890\ttotal: 5.25s\tremaining: 51.1s\n",
      "233:\tlearn: 0.2421211\ttotal: 5.28s\tremaining: 51.1s\n",
      "234:\tlearn: 0.2416876\ttotal: 5.31s\tremaining: 51.2s\n",
      "235:\tlearn: 0.2414348\ttotal: 5.33s\tremaining: 51.1s\n",
      "236:\tlearn: 0.2411616\ttotal: 5.36s\tremaining: 51.2s\n",
      "237:\tlearn: 0.2409272\ttotal: 5.38s\tremaining: 51.2s\n",
      "238:\tlearn: 0.2408100\ttotal: 5.4s\tremaining: 51.1s\n",
      "239:\tlearn: 0.2402137\ttotal: 5.43s\tremaining: 51.1s\n",
      "240:\tlearn: 0.2399484\ttotal: 5.45s\tremaining: 51.1s\n",
      "241:\tlearn: 0.2396928\ttotal: 5.48s\tremaining: 51.1s\n",
      "242:\tlearn: 0.2394453\ttotal: 5.51s\tremaining: 51.2s\n",
      "243:\tlearn: 0.2391072\ttotal: 5.54s\tremaining: 51.2s\n",
      "244:\tlearn: 0.2388691\ttotal: 5.56s\tremaining: 51.2s\n",
      "245:\tlearn: 0.2384117\ttotal: 5.58s\tremaining: 51.1s\n",
      "246:\tlearn: 0.2380879\ttotal: 5.61s\tremaining: 51.1s\n",
      "247:\tlearn: 0.2379063\ttotal: 5.62s\tremaining: 51.1s\n",
      "248:\tlearn: 0.2374618\ttotal: 5.65s\tremaining: 51.1s\n",
      "249:\tlearn: 0.2371475\ttotal: 5.67s\tremaining: 51.1s\n",
      "250:\tlearn: 0.2365513\ttotal: 5.7s\tremaining: 51.1s\n",
      "251:\tlearn: 0.2361949\ttotal: 5.73s\tremaining: 51.1s\n",
      "252:\tlearn: 0.2359100\ttotal: 5.75s\tremaining: 51.1s\n",
      "253:\tlearn: 0.2354375\ttotal: 5.78s\tremaining: 51.1s\n",
      "254:\tlearn: 0.2352276\ttotal: 5.81s\tremaining: 51.2s\n",
      "255:\tlearn: 0.2350065\ttotal: 5.84s\tremaining: 51.2s\n",
      "256:\tlearn: 0.2349176\ttotal: 5.85s\tremaining: 51.1s\n",
      "257:\tlearn: 0.2346666\ttotal: 5.87s\tremaining: 51s\n",
      "258:\tlearn: 0.2343494\ttotal: 5.9s\tremaining: 51s\n",
      "259:\tlearn: 0.2340068\ttotal: 5.92s\tremaining: 51s\n",
      "260:\tlearn: 0.2337335\ttotal: 5.94s\tremaining: 50.9s\n",
      "261:\tlearn: 0.2334552\ttotal: 5.96s\tremaining: 50.9s\n",
      "262:\tlearn: 0.2332289\ttotal: 5.98s\tremaining: 50.9s\n",
      "263:\tlearn: 0.2330464\ttotal: 6s\tremaining: 50.9s\n",
      "264:\tlearn: 0.2327878\ttotal: 6.02s\tremaining: 50.8s\n",
      "265:\tlearn: 0.2324225\ttotal: 6.05s\tremaining: 50.8s\n",
      "266:\tlearn: 0.2322172\ttotal: 6.08s\tremaining: 50.8s\n",
      "267:\tlearn: 0.2320270\ttotal: 6.1s\tremaining: 50.8s\n",
      "268:\tlearn: 0.2316389\ttotal: 6.13s\tremaining: 50.8s\n",
      "269:\tlearn: 0.2312629\ttotal: 6.16s\tremaining: 50.9s\n",
      "270:\tlearn: 0.2308710\ttotal: 6.18s\tremaining: 50.9s\n",
      "271:\tlearn: 0.2305381\ttotal: 6.21s\tremaining: 50.9s\n",
      "272:\tlearn: 0.2304014\ttotal: 6.23s\tremaining: 50.9s\n",
      "273:\tlearn: 0.2301591\ttotal: 6.25s\tremaining: 50.8s\n",
      "274:\tlearn: 0.2297020\ttotal: 6.28s\tremaining: 50.8s\n",
      "275:\tlearn: 0.2295697\ttotal: 6.3s\tremaining: 50.8s\n",
      "276:\tlearn: 0.2292433\ttotal: 6.33s\tremaining: 50.8s\n",
      "277:\tlearn: 0.2290831\ttotal: 6.35s\tremaining: 50.8s\n",
      "278:\tlearn: 0.2286059\ttotal: 6.38s\tremaining: 50.8s\n",
      "279:\tlearn: 0.2283290\ttotal: 6.41s\tremaining: 50.8s\n",
      "280:\tlearn: 0.2279909\ttotal: 6.43s\tremaining: 50.8s\n",
      "281:\tlearn: 0.2277086\ttotal: 6.46s\tremaining: 50.8s\n",
      "282:\tlearn: 0.2273811\ttotal: 6.48s\tremaining: 50.8s\n",
      "283:\tlearn: 0.2271301\ttotal: 6.5s\tremaining: 50.7s\n",
      "284:\tlearn: 0.2269793\ttotal: 6.53s\tremaining: 50.7s\n",
      "285:\tlearn: 0.2266988\ttotal: 6.56s\tremaining: 50.8s\n",
      "286:\tlearn: 0.2264199\ttotal: 6.58s\tremaining: 50.8s\n",
      "287:\tlearn: 0.2261287\ttotal: 6.61s\tremaining: 50.7s\n",
      "288:\tlearn: 0.2257126\ttotal: 6.63s\tremaining: 50.8s\n",
      "289:\tlearn: 0.2254951\ttotal: 6.67s\tremaining: 50.8s\n",
      "290:\tlearn: 0.2251776\ttotal: 6.7s\tremaining: 50.8s\n",
      "291:\tlearn: 0.2250141\ttotal: 6.72s\tremaining: 50.8s\n",
      "292:\tlearn: 0.2247531\ttotal: 6.74s\tremaining: 50.8s\n",
      "293:\tlearn: 0.2245416\ttotal: 6.78s\tremaining: 50.8s\n",
      "294:\tlearn: 0.2242136\ttotal: 6.8s\tremaining: 50.8s\n",
      "295:\tlearn: 0.2238956\ttotal: 6.83s\tremaining: 50.8s\n",
      "296:\tlearn: 0.2236448\ttotal: 6.85s\tremaining: 50.8s\n",
      "297:\tlearn: 0.2231988\ttotal: 6.88s\tremaining: 50.8s\n",
      "298:\tlearn: 0.2230123\ttotal: 6.9s\tremaining: 50.8s\n",
      "299:\tlearn: 0.2226140\ttotal: 6.92s\tremaining: 50.8s\n",
      "300:\tlearn: 0.2222144\ttotal: 6.95s\tremaining: 50.7s\n",
      "301:\tlearn: 0.2221691\ttotal: 6.96s\tremaining: 50.7s\n",
      "302:\tlearn: 0.2219600\ttotal: 6.99s\tremaining: 50.7s\n",
      "303:\tlearn: 0.2213671\ttotal: 7.01s\tremaining: 50.6s\n",
      "304:\tlearn: 0.2209059\ttotal: 7.03s\tremaining: 50.6s\n",
      "305:\tlearn: 0.2206164\ttotal: 7.06s\tremaining: 50.6s\n",
      "306:\tlearn: 0.2205707\ttotal: 7.07s\tremaining: 50.5s\n",
      "307:\tlearn: 0.2201727\ttotal: 7.1s\tremaining: 50.5s\n",
      "308:\tlearn: 0.2198310\ttotal: 7.12s\tremaining: 50.5s\n",
      "309:\tlearn: 0.2193880\ttotal: 7.15s\tremaining: 50.5s\n",
      "310:\tlearn: 0.2190221\ttotal: 7.18s\tremaining: 50.5s\n",
      "311:\tlearn: 0.2187608\ttotal: 7.21s\tremaining: 50.5s\n",
      "312:\tlearn: 0.2184845\ttotal: 7.23s\tremaining: 50.5s\n",
      "313:\tlearn: 0.2181691\ttotal: 7.25s\tremaining: 50.5s\n",
      "314:\tlearn: 0.2178469\ttotal: 7.28s\tremaining: 50.5s\n",
      "315:\tlearn: 0.2176516\ttotal: 7.29s\tremaining: 50.4s\n",
      "316:\tlearn: 0.2172707\ttotal: 7.32s\tremaining: 50.4s\n",
      "317:\tlearn: 0.2170107\ttotal: 7.34s\tremaining: 50.4s\n",
      "318:\tlearn: 0.2167355\ttotal: 7.37s\tremaining: 50.4s\n",
      "319:\tlearn: 0.2164160\ttotal: 7.39s\tremaining: 50.4s\n",
      "320:\tlearn: 0.2162860\ttotal: 7.41s\tremaining: 50.3s\n",
      "321:\tlearn: 0.2159398\ttotal: 7.43s\tremaining: 50.3s\n",
      "322:\tlearn: 0.2157389\ttotal: 7.46s\tremaining: 50.3s\n",
      "323:\tlearn: 0.2155301\ttotal: 7.48s\tremaining: 50.2s\n",
      "324:\tlearn: 0.2152761\ttotal: 7.5s\tremaining: 50.2s\n",
      "325:\tlearn: 0.2150812\ttotal: 7.52s\tremaining: 50.2s\n",
      "326:\tlearn: 0.2147550\ttotal: 7.55s\tremaining: 50.2s\n"
     ]
    },
    {
     "name": "stdout",
     "output_type": "stream",
     "text": [
      "327:\tlearn: 0.2145360\ttotal: 7.57s\tremaining: 50.2s\n",
      "328:\tlearn: 0.2143309\ttotal: 7.6s\tremaining: 50.1s\n",
      "329:\tlearn: 0.2140575\ttotal: 7.62s\tremaining: 50.1s\n",
      "330:\tlearn: 0.2139080\ttotal: 7.64s\tremaining: 50.1s\n",
      "331:\tlearn: 0.2137320\ttotal: 7.66s\tremaining: 50s\n",
      "332:\tlearn: 0.2135696\ttotal: 7.68s\tremaining: 50s\n",
      "333:\tlearn: 0.2131976\ttotal: 7.7s\tremaining: 50s\n",
      "334:\tlearn: 0.2130120\ttotal: 7.73s\tremaining: 49.9s\n",
      "335:\tlearn: 0.2128051\ttotal: 7.75s\tremaining: 49.9s\n",
      "336:\tlearn: 0.2126513\ttotal: 7.78s\tremaining: 49.9s\n",
      "337:\tlearn: 0.2123118\ttotal: 7.8s\tremaining: 49.9s\n",
      "338:\tlearn: 0.2120204\ttotal: 7.83s\tremaining: 49.9s\n",
      "339:\tlearn: 0.2116034\ttotal: 7.85s\tremaining: 49.9s\n",
      "340:\tlearn: 0.2112741\ttotal: 7.88s\tremaining: 49.9s\n",
      "341:\tlearn: 0.2107934\ttotal: 7.91s\tremaining: 49.9s\n",
      "342:\tlearn: 0.2107755\ttotal: 7.93s\tremaining: 49.9s\n",
      "343:\tlearn: 0.2106892\ttotal: 7.95s\tremaining: 49.8s\n",
      "344:\tlearn: 0.2102866\ttotal: 7.97s\tremaining: 49.8s\n",
      "345:\tlearn: 0.2100732\ttotal: 8s\tremaining: 49.8s\n",
      "346:\tlearn: 0.2096967\ttotal: 8.03s\tremaining: 49.8s\n",
      "347:\tlearn: 0.2095895\ttotal: 8.04s\tremaining: 49.7s\n",
      "348:\tlearn: 0.2090375\ttotal: 8.07s\tremaining: 49.7s\n",
      "349:\tlearn: 0.2087544\ttotal: 8.1s\tremaining: 49.8s\n",
      "350:\tlearn: 0.2085256\ttotal: 8.13s\tremaining: 49.8s\n",
      "351:\tlearn: 0.2081034\ttotal: 8.15s\tremaining: 49.8s\n",
      "352:\tlearn: 0.2078202\ttotal: 8.18s\tremaining: 49.8s\n",
      "353:\tlearn: 0.2077459\ttotal: 8.2s\tremaining: 49.7s\n",
      "354:\tlearn: 0.2075011\ttotal: 8.23s\tremaining: 49.7s\n",
      "355:\tlearn: 0.2071673\ttotal: 8.24s\tremaining: 49.6s\n",
      "356:\tlearn: 0.2069217\ttotal: 8.26s\tremaining: 49.6s\n",
      "357:\tlearn: 0.2065860\ttotal: 8.28s\tremaining: 49.5s\n",
      "358:\tlearn: 0.2063727\ttotal: 8.3s\tremaining: 49.5s\n",
      "359:\tlearn: 0.2060408\ttotal: 8.32s\tremaining: 49.5s\n",
      "360:\tlearn: 0.2057425\ttotal: 8.35s\tremaining: 49.5s\n",
      "361:\tlearn: 0.2053985\ttotal: 8.37s\tremaining: 49.4s\n",
      "362:\tlearn: 0.2050924\ttotal: 8.39s\tremaining: 49.4s\n",
      "363:\tlearn: 0.2049093\ttotal: 8.4s\tremaining: 49.3s\n",
      "364:\tlearn: 0.2047192\ttotal: 8.42s\tremaining: 49.3s\n",
      "365:\tlearn: 0.2045269\ttotal: 8.44s\tremaining: 49.2s\n",
      "366:\tlearn: 0.2043004\ttotal: 8.46s\tremaining: 49.2s\n",
      "367:\tlearn: 0.2040773\ttotal: 8.47s\tremaining: 49.1s\n",
      "368:\tlearn: 0.2038219\ttotal: 8.5s\tremaining: 49.1s\n",
      "369:\tlearn: 0.2035545\ttotal: 8.52s\tremaining: 49s\n",
      "370:\tlearn: 0.2030693\ttotal: 8.55s\tremaining: 49s\n",
      "371:\tlearn: 0.2027487\ttotal: 8.56s\tremaining: 49s\n",
      "372:\tlearn: 0.2024476\ttotal: 8.59s\tremaining: 49s\n",
      "373:\tlearn: 0.2021166\ttotal: 8.62s\tremaining: 49s\n",
      "374:\tlearn: 0.2019275\ttotal: 8.65s\tremaining: 49s\n",
      "375:\tlearn: 0.2017064\ttotal: 8.67s\tremaining: 49s\n",
      "376:\tlearn: 0.2015191\ttotal: 8.71s\tremaining: 49.1s\n",
      "377:\tlearn: 0.2013258\ttotal: 8.75s\tremaining: 49.1s\n",
      "378:\tlearn: 0.2009547\ttotal: 8.77s\tremaining: 49.1s\n",
      "379:\tlearn: 0.2007425\ttotal: 8.8s\tremaining: 49.1s\n",
      "380:\tlearn: 0.2004432\ttotal: 8.82s\tremaining: 49.1s\n",
      "381:\tlearn: 0.2002512\ttotal: 8.85s\tremaining: 49s\n",
      "382:\tlearn: 0.2000033\ttotal: 8.87s\tremaining: 49s\n",
      "383:\tlearn: 0.1996971\ttotal: 8.9s\tremaining: 49s\n",
      "384:\tlearn: 0.1991781\ttotal: 8.93s\tremaining: 49s\n",
      "385:\tlearn: 0.1987840\ttotal: 8.96s\tremaining: 49.1s\n",
      "386:\tlearn: 0.1986917\ttotal: 8.98s\tremaining: 49s\n",
      "387:\tlearn: 0.1985966\ttotal: 9s\tremaining: 49s\n",
      "388:\tlearn: 0.1984907\ttotal: 9.02s\tremaining: 49s\n",
      "389:\tlearn: 0.1983389\ttotal: 9.05s\tremaining: 49s\n",
      "390:\tlearn: 0.1982263\ttotal: 9.07s\tremaining: 48.9s\n",
      "391:\tlearn: 0.1981209\ttotal: 9.1s\tremaining: 48.9s\n",
      "392:\tlearn: 0.1979703\ttotal: 9.13s\tremaining: 49s\n",
      "393:\tlearn: 0.1978410\ttotal: 9.15s\tremaining: 48.9s\n",
      "394:\tlearn: 0.1976553\ttotal: 9.16s\tremaining: 48.8s\n",
      "395:\tlearn: 0.1975142\ttotal: 9.19s\tremaining: 48.8s\n",
      "396:\tlearn: 0.1973230\ttotal: 9.22s\tremaining: 48.8s\n",
      "397:\tlearn: 0.1970952\ttotal: 9.24s\tremaining: 48.8s\n",
      "398:\tlearn: 0.1968966\ttotal: 9.27s\tremaining: 48.8s\n",
      "399:\tlearn: 0.1967449\ttotal: 9.29s\tremaining: 48.8s\n",
      "400:\tlearn: 0.1964544\ttotal: 9.32s\tremaining: 48.8s\n",
      "401:\tlearn: 0.1963185\ttotal: 9.34s\tremaining: 48.8s\n",
      "402:\tlearn: 0.1962306\ttotal: 9.37s\tremaining: 48.7s\n",
      "403:\tlearn: 0.1961395\ttotal: 9.39s\tremaining: 48.7s\n",
      "404:\tlearn: 0.1960458\ttotal: 9.41s\tremaining: 48.7s\n",
      "405:\tlearn: 0.1959193\ttotal: 9.44s\tremaining: 48.7s\n",
      "406:\tlearn: 0.1956129\ttotal: 9.46s\tremaining: 48.7s\n",
      "407:\tlearn: 0.1953163\ttotal: 9.48s\tremaining: 48.6s\n",
      "408:\tlearn: 0.1951998\ttotal: 9.51s\tremaining: 48.6s\n",
      "409:\tlearn: 0.1951032\ttotal: 9.53s\tremaining: 48.6s\n",
      "410:\tlearn: 0.1949790\ttotal: 9.55s\tremaining: 48.5s\n",
      "411:\tlearn: 0.1946963\ttotal: 9.57s\tremaining: 48.5s\n",
      "412:\tlearn: 0.1944658\ttotal: 9.6s\tremaining: 48.5s\n",
      "413:\tlearn: 0.1942339\ttotal: 9.63s\tremaining: 48.5s\n",
      "414:\tlearn: 0.1939905\ttotal: 9.65s\tremaining: 48.5s\n",
      "415:\tlearn: 0.1935648\ttotal: 9.67s\tremaining: 48.5s\n",
      "416:\tlearn: 0.1932670\ttotal: 9.7s\tremaining: 48.4s\n",
      "417:\tlearn: 0.1929168\ttotal: 9.72s\tremaining: 48.4s\n",
      "418:\tlearn: 0.1925764\ttotal: 9.75s\tremaining: 48.4s\n",
      "419:\tlearn: 0.1923032\ttotal: 9.76s\tremaining: 48.3s\n",
      "420:\tlearn: 0.1921638\ttotal: 9.78s\tremaining: 48.3s\n",
      "421:\tlearn: 0.1920637\ttotal: 9.81s\tremaining: 48.3s\n",
      "422:\tlearn: 0.1919514\ttotal: 9.83s\tremaining: 48.3s\n",
      "423:\tlearn: 0.1917010\ttotal: 9.84s\tremaining: 48.2s\n",
      "424:\tlearn: 0.1916103\ttotal: 9.87s\tremaining: 48.2s\n",
      "425:\tlearn: 0.1913808\ttotal: 9.89s\tremaining: 48.2s\n",
      "426:\tlearn: 0.1911156\ttotal: 9.92s\tremaining: 48.1s\n",
      "427:\tlearn: 0.1908929\ttotal: 9.94s\tremaining: 48.1s\n",
      "428:\tlearn: 0.1907692\ttotal: 9.95s\tremaining: 48.1s\n",
      "429:\tlearn: 0.1907259\ttotal: 9.97s\tremaining: 48s\n",
      "430:\tlearn: 0.1905577\ttotal: 9.99s\tremaining: 48s\n",
      "431:\tlearn: 0.1900089\ttotal: 10s\tremaining: 48s\n",
      "432:\tlearn: 0.1898149\ttotal: 10.1s\tremaining: 48s\n",
      "433:\tlearn: 0.1896503\ttotal: 10.1s\tremaining: 48s\n",
      "434:\tlearn: 0.1893194\ttotal: 10.1s\tremaining: 48s\n",
      "435:\tlearn: 0.1891066\ttotal: 10.1s\tremaining: 48s\n",
      "436:\tlearn: 0.1885890\ttotal: 10.2s\tremaining: 48s\n",
      "437:\tlearn: 0.1881965\ttotal: 10.2s\tremaining: 47.9s\n",
      "438:\tlearn: 0.1879370\ttotal: 10.2s\tremaining: 47.9s\n",
      "439:\tlearn: 0.1877171\ttotal: 10.2s\tremaining: 47.9s\n",
      "440:\tlearn: 0.1875157\ttotal: 10.3s\tremaining: 47.9s\n",
      "441:\tlearn: 0.1872806\ttotal: 10.3s\tremaining: 47.8s\n",
      "442:\tlearn: 0.1870823\ttotal: 10.3s\tremaining: 47.8s\n",
      "443:\tlearn: 0.1869177\ttotal: 10.3s\tremaining: 47.8s\n",
      "444:\tlearn: 0.1867236\ttotal: 10.4s\tremaining: 47.8s\n",
      "445:\tlearn: 0.1864732\ttotal: 10.4s\tremaining: 47.8s\n",
      "446:\tlearn: 0.1863551\ttotal: 10.4s\tremaining: 47.8s\n",
      "447:\tlearn: 0.1860251\ttotal: 10.4s\tremaining: 47.7s\n",
      "448:\tlearn: 0.1859148\ttotal: 10.4s\tremaining: 47.7s\n",
      "449:\tlearn: 0.1856171\ttotal: 10.5s\tremaining: 47.7s\n",
      "450:\tlearn: 0.1854099\ttotal: 10.5s\tremaining: 47.6s\n",
      "451:\tlearn: 0.1851232\ttotal: 10.5s\tremaining: 47.6s\n",
      "452:\tlearn: 0.1849636\ttotal: 10.5s\tremaining: 47.6s\n",
      "453:\tlearn: 0.1847185\ttotal: 10.6s\tremaining: 47.6s\n",
      "454:\tlearn: 0.1845680\ttotal: 10.6s\tremaining: 47.5s\n",
      "455:\tlearn: 0.1843196\ttotal: 10.6s\tremaining: 47.5s\n",
      "456:\tlearn: 0.1840935\ttotal: 10.6s\tremaining: 47.4s\n",
      "457:\tlearn: 0.1838356\ttotal: 10.6s\tremaining: 47.4s\n",
      "458:\tlearn: 0.1834604\ttotal: 10.7s\tremaining: 47.4s\n",
      "459:\tlearn: 0.1833747\ttotal: 10.7s\tremaining: 47.4s\n",
      "460:\tlearn: 0.1831177\ttotal: 10.7s\tremaining: 47.4s\n",
      "461:\tlearn: 0.1829471\ttotal: 10.7s\tremaining: 47.4s\n",
      "462:\tlearn: 0.1829318\ttotal: 10.8s\tremaining: 47.3s\n",
      "463:\tlearn: 0.1826866\ttotal: 10.8s\tremaining: 47.3s\n",
      "464:\tlearn: 0.1825422\ttotal: 10.8s\tremaining: 47.3s\n",
      "465:\tlearn: 0.1822831\ttotal: 10.8s\tremaining: 47.3s\n",
      "466:\tlearn: 0.1821037\ttotal: 10.9s\tremaining: 47.3s\n",
      "467:\tlearn: 0.1817798\ttotal: 10.9s\tremaining: 47.3s\n",
      "468:\tlearn: 0.1816107\ttotal: 10.9s\tremaining: 47.3s\n",
      "469:\tlearn: 0.1814746\ttotal: 10.9s\tremaining: 47.2s\n",
      "470:\tlearn: 0.1812960\ttotal: 11s\tremaining: 47.2s\n",
      "471:\tlearn: 0.1812170\ttotal: 11s\tremaining: 47.2s\n",
      "472:\tlearn: 0.1809808\ttotal: 11s\tremaining: 47.2s\n",
      "473:\tlearn: 0.1805371\ttotal: 11s\tremaining: 47.2s\n",
      "474:\tlearn: 0.1803118\ttotal: 11.1s\tremaining: 47.2s\n",
      "475:\tlearn: 0.1801082\ttotal: 11.1s\tremaining: 47.2s\n",
      "476:\tlearn: 0.1799974\ttotal: 11.1s\tremaining: 47.2s\n",
      "477:\tlearn: 0.1798416\ttotal: 11.2s\tremaining: 47.2s\n",
      "478:\tlearn: 0.1796859\ttotal: 11.2s\tremaining: 47.2s\n",
      "479:\tlearn: 0.1794901\ttotal: 11.2s\tremaining: 47.2s\n",
      "480:\tlearn: 0.1792631\ttotal: 11.2s\tremaining: 47.2s\n",
      "481:\tlearn: 0.1791700\ttotal: 11.3s\tremaining: 47.1s\n",
      "482:\tlearn: 0.1789789\ttotal: 11.3s\tremaining: 47.1s\n",
      "483:\tlearn: 0.1786969\ttotal: 11.3s\tremaining: 47.1s\n",
      "484:\tlearn: 0.1785566\ttotal: 11.3s\tremaining: 47.1s\n",
      "485:\tlearn: 0.1783254\ttotal: 11.4s\tremaining: 47.1s\n",
      "486:\tlearn: 0.1781272\ttotal: 11.4s\tremaining: 47s\n",
      "487:\tlearn: 0.1780681\ttotal: 11.4s\tremaining: 46.9s\n",
      "488:\tlearn: 0.1778811\ttotal: 11.4s\tremaining: 46.9s\n"
     ]
    },
    {
     "name": "stdout",
     "output_type": "stream",
     "text": [
      "489:\tlearn: 0.1777265\ttotal: 11.4s\tremaining: 46.9s\n",
      "490:\tlearn: 0.1773908\ttotal: 11.5s\tremaining: 46.9s\n",
      "491:\tlearn: 0.1772225\ttotal: 11.5s\tremaining: 46.8s\n",
      "492:\tlearn: 0.1770969\ttotal: 11.5s\tremaining: 46.8s\n",
      "493:\tlearn: 0.1769698\ttotal: 11.5s\tremaining: 46.8s\n",
      "494:\tlearn: 0.1768356\ttotal: 11.6s\tremaining: 46.8s\n",
      "495:\tlearn: 0.1767334\ttotal: 11.6s\tremaining: 46.8s\n",
      "496:\tlearn: 0.1764107\ttotal: 11.6s\tremaining: 46.8s\n",
      "497:\tlearn: 0.1761358\ttotal: 11.6s\tremaining: 46.8s\n",
      "498:\tlearn: 0.1759970\ttotal: 11.7s\tremaining: 46.8s\n",
      "499:\tlearn: 0.1757926\ttotal: 11.7s\tremaining: 46.7s\n",
      "500:\tlearn: 0.1756000\ttotal: 11.7s\tremaining: 46.7s\n",
      "501:\tlearn: 0.1754304\ttotal: 11.7s\tremaining: 46.7s\n",
      "502:\tlearn: 0.1753602\ttotal: 11.8s\tremaining: 46.7s\n",
      "503:\tlearn: 0.1753323\ttotal: 11.8s\tremaining: 46.7s\n",
      "504:\tlearn: 0.1751032\ttotal: 11.8s\tremaining: 46.7s\n",
      "505:\tlearn: 0.1749525\ttotal: 11.8s\tremaining: 46.7s\n",
      "506:\tlearn: 0.1748253\ttotal: 11.9s\tremaining: 46.7s\n",
      "507:\tlearn: 0.1746840\ttotal: 11.9s\tremaining: 46.6s\n",
      "508:\tlearn: 0.1744804\ttotal: 11.9s\tremaining: 46.6s\n",
      "509:\tlearn: 0.1743090\ttotal: 11.9s\tremaining: 46.6s\n",
      "510:\tlearn: 0.1741339\ttotal: 12s\tremaining: 46.6s\n",
      "511:\tlearn: 0.1740312\ttotal: 12s\tremaining: 46.6s\n",
      "512:\tlearn: 0.1738714\ttotal: 12s\tremaining: 46.6s\n",
      "513:\tlearn: 0.1737055\ttotal: 12s\tremaining: 46.5s\n",
      "514:\tlearn: 0.1736409\ttotal: 12.1s\tremaining: 46.5s\n",
      "515:\tlearn: 0.1734610\ttotal: 12.1s\tremaining: 46.5s\n",
      "516:\tlearn: 0.1732424\ttotal: 12.1s\tremaining: 46.5s\n",
      "517:\tlearn: 0.1730454\ttotal: 12.1s\tremaining: 46.4s\n",
      "518:\tlearn: 0.1728147\ttotal: 12.2s\tremaining: 46.4s\n",
      "519:\tlearn: 0.1725414\ttotal: 12.2s\tremaining: 46.4s\n",
      "520:\tlearn: 0.1722786\ttotal: 12.2s\tremaining: 46.4s\n",
      "521:\tlearn: 0.1721461\ttotal: 12.2s\tremaining: 46.4s\n",
      "522:\tlearn: 0.1721434\ttotal: 12.2s\tremaining: 46.3s\n",
      "523:\tlearn: 0.1719714\ttotal: 12.3s\tremaining: 46.3s\n",
      "524:\tlearn: 0.1718009\ttotal: 12.3s\tremaining: 46.3s\n",
      "525:\tlearn: 0.1717216\ttotal: 12.3s\tremaining: 46.2s\n",
      "526:\tlearn: 0.1715688\ttotal: 12.3s\tremaining: 46.2s\n",
      "527:\tlearn: 0.1713068\ttotal: 12.4s\tremaining: 46.2s\n",
      "528:\tlearn: 0.1709529\ttotal: 12.4s\tremaining: 46.2s\n",
      "529:\tlearn: 0.1707557\ttotal: 12.4s\tremaining: 46.2s\n",
      "530:\tlearn: 0.1705473\ttotal: 12.5s\tremaining: 46.2s\n",
      "531:\tlearn: 0.1704606\ttotal: 12.5s\tremaining: 46.2s\n",
      "532:\tlearn: 0.1703576\ttotal: 12.5s\tremaining: 46.2s\n",
      "533:\tlearn: 0.1702470\ttotal: 12.5s\tremaining: 46.2s\n",
      "534:\tlearn: 0.1701228\ttotal: 12.6s\tremaining: 46.2s\n",
      "535:\tlearn: 0.1699219\ttotal: 12.6s\tremaining: 46.1s\n",
      "536:\tlearn: 0.1696557\ttotal: 12.6s\tremaining: 46.2s\n",
      "537:\tlearn: 0.1691750\ttotal: 12.6s\tremaining: 46.1s\n",
      "538:\tlearn: 0.1690404\ttotal: 12.7s\tremaining: 46.1s\n",
      "539:\tlearn: 0.1687625\ttotal: 12.7s\tremaining: 46.1s\n",
      "540:\tlearn: 0.1685633\ttotal: 12.7s\tremaining: 46.1s\n",
      "541:\tlearn: 0.1682072\ttotal: 12.7s\tremaining: 46s\n",
      "542:\tlearn: 0.1680735\ttotal: 12.8s\tremaining: 46s\n",
      "543:\tlearn: 0.1679704\ttotal: 12.8s\tremaining: 46s\n",
      "544:\tlearn: 0.1678588\ttotal: 12.8s\tremaining: 45.9s\n",
      "545:\tlearn: 0.1676309\ttotal: 12.8s\tremaining: 45.9s\n",
      "546:\tlearn: 0.1674565\ttotal: 12.8s\tremaining: 45.9s\n",
      "547:\tlearn: 0.1672540\ttotal: 12.9s\tremaining: 45.9s\n",
      "548:\tlearn: 0.1670277\ttotal: 12.9s\tremaining: 45.8s\n",
      "549:\tlearn: 0.1667579\ttotal: 12.9s\tremaining: 45.8s\n",
      "550:\tlearn: 0.1665085\ttotal: 12.9s\tremaining: 45.8s\n",
      "551:\tlearn: 0.1663895\ttotal: 13s\tremaining: 45.8s\n",
      "552:\tlearn: 0.1661226\ttotal: 13s\tremaining: 45.7s\n",
      "553:\tlearn: 0.1659326\ttotal: 13s\tremaining: 45.7s\n",
      "554:\tlearn: 0.1658027\ttotal: 13s\tremaining: 45.7s\n",
      "555:\tlearn: 0.1657046\ttotal: 13.1s\tremaining: 45.7s\n",
      "556:\tlearn: 0.1655490\ttotal: 13.1s\tremaining: 45.7s\n",
      "557:\tlearn: 0.1654044\ttotal: 13.1s\tremaining: 45.6s\n",
      "558:\tlearn: 0.1653213\ttotal: 13.1s\tremaining: 45.6s\n",
      "559:\tlearn: 0.1650987\ttotal: 13.2s\tremaining: 45.6s\n",
      "560:\tlearn: 0.1649370\ttotal: 13.2s\tremaining: 45.6s\n",
      "561:\tlearn: 0.1647008\ttotal: 13.2s\tremaining: 45.5s\n",
      "562:\tlearn: 0.1646331\ttotal: 13.2s\tremaining: 45.5s\n",
      "563:\tlearn: 0.1645009\ttotal: 13.2s\tremaining: 45.5s\n",
      "564:\tlearn: 0.1642003\ttotal: 13.3s\tremaining: 45.5s\n",
      "565:\tlearn: 0.1638635\ttotal: 13.3s\tremaining: 45.5s\n",
      "566:\tlearn: 0.1637196\ttotal: 13.3s\tremaining: 45.4s\n",
      "567:\tlearn: 0.1635897\ttotal: 13.4s\tremaining: 45.4s\n",
      "568:\tlearn: 0.1633769\ttotal: 13.4s\tremaining: 45.4s\n",
      "569:\tlearn: 0.1631598\ttotal: 13.4s\tremaining: 45.4s\n",
      "570:\tlearn: 0.1629399\ttotal: 13.4s\tremaining: 45.4s\n",
      "571:\tlearn: 0.1625961\ttotal: 13.5s\tremaining: 45.3s\n",
      "572:\tlearn: 0.1624016\ttotal: 13.5s\tremaining: 45.3s\n",
      "573:\tlearn: 0.1622767\ttotal: 13.5s\tremaining: 45.3s\n",
      "574:\tlearn: 0.1621914\ttotal: 13.5s\tremaining: 45.3s\n",
      "575:\tlearn: 0.1621278\ttotal: 13.5s\tremaining: 45.2s\n",
      "576:\tlearn: 0.1619657\ttotal: 13.6s\tremaining: 45.2s\n",
      "577:\tlearn: 0.1616687\ttotal: 13.6s\tremaining: 45.2s\n",
      "578:\tlearn: 0.1615112\ttotal: 13.6s\tremaining: 45.2s\n",
      "579:\tlearn: 0.1612700\ttotal: 13.6s\tremaining: 45.2s\n",
      "580:\tlearn: 0.1610866\ttotal: 13.7s\tremaining: 45.1s\n",
      "581:\tlearn: 0.1609525\ttotal: 13.7s\tremaining: 45.1s\n",
      "582:\tlearn: 0.1608756\ttotal: 13.7s\tremaining: 45.1s\n",
      "583:\tlearn: 0.1607329\ttotal: 13.7s\tremaining: 45.1s\n",
      "584:\tlearn: 0.1605038\ttotal: 13.8s\tremaining: 45s\n",
      "585:\tlearn: 0.1602583\ttotal: 13.8s\tremaining: 45s\n",
      "586:\tlearn: 0.1601137\ttotal: 13.8s\tremaining: 45s\n",
      "587:\tlearn: 0.1598772\ttotal: 13.8s\tremaining: 45s\n",
      "588:\tlearn: 0.1596081\ttotal: 13.9s\tremaining: 45s\n",
      "589:\tlearn: 0.1594075\ttotal: 13.9s\tremaining: 44.9s\n",
      "590:\tlearn: 0.1591911\ttotal: 13.9s\tremaining: 44.9s\n",
      "591:\tlearn: 0.1590441\ttotal: 13.9s\tremaining: 44.9s\n",
      "592:\tlearn: 0.1587786\ttotal: 14s\tremaining: 44.9s\n",
      "593:\tlearn: 0.1586177\ttotal: 14s\tremaining: 44.8s\n",
      "594:\tlearn: 0.1584863\ttotal: 14s\tremaining: 44.8s\n",
      "595:\tlearn: 0.1583558\ttotal: 14s\tremaining: 44.8s\n",
      "596:\tlearn: 0.1581298\ttotal: 14s\tremaining: 44.8s\n",
      "597:\tlearn: 0.1577932\ttotal: 14.1s\tremaining: 44.7s\n",
      "598:\tlearn: 0.1577114\ttotal: 14.1s\tremaining: 44.7s\n",
      "599:\tlearn: 0.1575878\ttotal: 14.1s\tremaining: 44.7s\n",
      "600:\tlearn: 0.1574249\ttotal: 14.1s\tremaining: 44.7s\n",
      "601:\tlearn: 0.1573999\ttotal: 14.2s\tremaining: 44.7s\n",
      "602:\tlearn: 0.1570885\ttotal: 14.2s\tremaining: 44.6s\n",
      "603:\tlearn: 0.1570448\ttotal: 14.2s\tremaining: 44.6s\n",
      "604:\tlearn: 0.1567848\ttotal: 14.2s\tremaining: 44.6s\n",
      "605:\tlearn: 0.1565593\ttotal: 14.3s\tremaining: 44.6s\n",
      "606:\tlearn: 0.1563165\ttotal: 14.3s\tremaining: 44.6s\n",
      "607:\tlearn: 0.1561745\ttotal: 14.3s\tremaining: 44.5s\n",
      "608:\tlearn: 0.1559999\ttotal: 14.3s\tremaining: 44.5s\n",
      "609:\tlearn: 0.1558401\ttotal: 14.4s\tremaining: 44.5s\n",
      "610:\tlearn: 0.1556585\ttotal: 14.4s\tremaining: 44.5s\n",
      "611:\tlearn: 0.1554568\ttotal: 14.4s\tremaining: 44.5s\n",
      "612:\tlearn: 0.1553353\ttotal: 14.4s\tremaining: 44.5s\n",
      "613:\tlearn: 0.1551942\ttotal: 14.5s\tremaining: 44.4s\n",
      "614:\tlearn: 0.1551241\ttotal: 14.5s\tremaining: 44.4s\n",
      "615:\tlearn: 0.1549990\ttotal: 14.5s\tremaining: 44.4s\n",
      "616:\tlearn: 0.1549006\ttotal: 14.5s\tremaining: 44.4s\n",
      "617:\tlearn: 0.1547031\ttotal: 14.6s\tremaining: 44.3s\n",
      "618:\tlearn: 0.1546018\ttotal: 14.6s\tremaining: 44.3s\n",
      "619:\tlearn: 0.1544931\ttotal: 14.6s\tremaining: 44.3s\n",
      "620:\tlearn: 0.1544772\ttotal: 14.6s\tremaining: 44.3s\n",
      "621:\tlearn: 0.1543360\ttotal: 14.7s\tremaining: 44.2s\n",
      "622:\tlearn: 0.1541225\ttotal: 14.7s\tremaining: 44.2s\n",
      "623:\tlearn: 0.1540040\ttotal: 14.7s\tremaining: 44.2s\n",
      "624:\tlearn: 0.1538937\ttotal: 14.7s\tremaining: 44.2s\n",
      "625:\tlearn: 0.1537230\ttotal: 14.7s\tremaining: 44.2s\n",
      "626:\tlearn: 0.1535622\ttotal: 14.8s\tremaining: 44.1s\n",
      "627:\tlearn: 0.1533679\ttotal: 14.8s\tremaining: 44.1s\n",
      "628:\tlearn: 0.1531974\ttotal: 14.8s\tremaining: 44.1s\n",
      "629:\tlearn: 0.1530001\ttotal: 14.8s\tremaining: 44.1s\n",
      "630:\tlearn: 0.1528147\ttotal: 14.9s\tremaining: 44s\n",
      "631:\tlearn: 0.1526068\ttotal: 14.9s\tremaining: 44s\n",
      "632:\tlearn: 0.1524656\ttotal: 14.9s\tremaining: 44s\n",
      "633:\tlearn: 0.1524125\ttotal: 14.9s\tremaining: 43.9s\n",
      "634:\tlearn: 0.1522211\ttotal: 14.9s\tremaining: 43.9s\n",
      "635:\tlearn: 0.1520348\ttotal: 15s\tremaining: 43.9s\n",
      "636:\tlearn: 0.1520169\ttotal: 15s\tremaining: 43.8s\n",
      "637:\tlearn: 0.1518120\ttotal: 15s\tremaining: 43.8s\n",
      "638:\tlearn: 0.1515309\ttotal: 15s\tremaining: 43.8s\n",
      "639:\tlearn: 0.1514467\ttotal: 15.1s\tremaining: 43.7s\n",
      "640:\tlearn: 0.1513669\ttotal: 15.1s\tremaining: 43.7s\n",
      "641:\tlearn: 0.1512865\ttotal: 15.1s\tremaining: 43.7s\n",
      "642:\tlearn: 0.1511804\ttotal: 15.1s\tremaining: 43.6s\n",
      "643:\tlearn: 0.1510514\ttotal: 15.1s\tremaining: 43.6s\n",
      "644:\tlearn: 0.1507946\ttotal: 15.2s\tremaining: 43.6s\n",
      "645:\tlearn: 0.1506826\ttotal: 15.2s\tremaining: 43.6s\n",
      "646:\tlearn: 0.1505406\ttotal: 15.2s\tremaining: 43.5s\n",
      "647:\tlearn: 0.1503327\ttotal: 15.2s\tremaining: 43.5s\n",
      "648:\tlearn: 0.1501680\ttotal: 15.2s\tremaining: 43.5s\n",
      "649:\tlearn: 0.1498130\ttotal: 15.3s\tremaining: 43.4s\n",
      "650:\tlearn: 0.1497299\ttotal: 15.3s\tremaining: 43.4s\n",
      "651:\tlearn: 0.1496861\ttotal: 15.3s\tremaining: 43.4s\n"
     ]
    },
    {
     "name": "stdout",
     "output_type": "stream",
     "text": [
      "652:\tlearn: 0.1496032\ttotal: 15.3s\tremaining: 43.4s\n",
      "653:\tlearn: 0.1495466\ttotal: 15.4s\tremaining: 43.3s\n",
      "654:\tlearn: 0.1494629\ttotal: 15.4s\tremaining: 43.3s\n",
      "655:\tlearn: 0.1492472\ttotal: 15.4s\tremaining: 43.3s\n",
      "656:\tlearn: 0.1491420\ttotal: 15.4s\tremaining: 43.3s\n",
      "657:\tlearn: 0.1489705\ttotal: 15.4s\tremaining: 43.2s\n",
      "658:\tlearn: 0.1487860\ttotal: 15.5s\tremaining: 43.2s\n",
      "659:\tlearn: 0.1486192\ttotal: 15.5s\tremaining: 43.2s\n",
      "660:\tlearn: 0.1484333\ttotal: 15.5s\tremaining: 43.2s\n",
      "661:\tlearn: 0.1482998\ttotal: 15.5s\tremaining: 43.1s\n",
      "662:\tlearn: 0.1481357\ttotal: 15.6s\tremaining: 43.1s\n",
      "663:\tlearn: 0.1479439\ttotal: 15.6s\tremaining: 43.1s\n",
      "664:\tlearn: 0.1478742\ttotal: 15.6s\tremaining: 43.1s\n",
      "665:\tlearn: 0.1477672\ttotal: 15.6s\tremaining: 43.1s\n",
      "666:\tlearn: 0.1475161\ttotal: 15.7s\tremaining: 43s\n",
      "667:\tlearn: 0.1473062\ttotal: 15.7s\tremaining: 43s\n",
      "668:\tlearn: 0.1471562\ttotal: 15.7s\tremaining: 43s\n",
      "669:\tlearn: 0.1468615\ttotal: 15.7s\tremaining: 43s\n",
      "670:\tlearn: 0.1467519\ttotal: 15.8s\tremaining: 43s\n",
      "671:\tlearn: 0.1466698\ttotal: 15.8s\tremaining: 42.9s\n",
      "672:\tlearn: 0.1463050\ttotal: 15.8s\tremaining: 42.9s\n",
      "673:\tlearn: 0.1462276\ttotal: 15.8s\tremaining: 42.9s\n",
      "674:\tlearn: 0.1460120\ttotal: 15.9s\tremaining: 42.9s\n",
      "675:\tlearn: 0.1458848\ttotal: 15.9s\tremaining: 42.9s\n",
      "676:\tlearn: 0.1457525\ttotal: 15.9s\tremaining: 42.9s\n",
      "677:\tlearn: 0.1456161\ttotal: 15.9s\tremaining: 42.9s\n",
      "678:\tlearn: 0.1454855\ttotal: 16s\tremaining: 42.8s\n",
      "679:\tlearn: 0.1453825\ttotal: 16s\tremaining: 42.8s\n",
      "680:\tlearn: 0.1452817\ttotal: 16s\tremaining: 42.8s\n",
      "681:\tlearn: 0.1449027\ttotal: 16s\tremaining: 42.8s\n",
      "682:\tlearn: 0.1448194\ttotal: 16.1s\tremaining: 42.8s\n",
      "683:\tlearn: 0.1446816\ttotal: 16.1s\tremaining: 42.7s\n",
      "684:\tlearn: 0.1444937\ttotal: 16.1s\tremaining: 42.7s\n",
      "685:\tlearn: 0.1444136\ttotal: 16.1s\tremaining: 42.7s\n",
      "686:\tlearn: 0.1442339\ttotal: 16.2s\tremaining: 42.7s\n",
      "687:\tlearn: 0.1440971\ttotal: 16.2s\tremaining: 42.6s\n",
      "688:\tlearn: 0.1438901\ttotal: 16.2s\tremaining: 42.6s\n",
      "689:\tlearn: 0.1437751\ttotal: 16.2s\tremaining: 42.6s\n",
      "690:\tlearn: 0.1436985\ttotal: 16.3s\tremaining: 42.6s\n",
      "691:\tlearn: 0.1435763\ttotal: 16.3s\tremaining: 42.6s\n",
      "692:\tlearn: 0.1432296\ttotal: 16.3s\tremaining: 42.5s\n",
      "693:\tlearn: 0.1430398\ttotal: 16.3s\tremaining: 42.5s\n",
      "694:\tlearn: 0.1428740\ttotal: 16.4s\tremaining: 42.5s\n",
      "695:\tlearn: 0.1427131\ttotal: 16.4s\tremaining: 42.5s\n",
      "696:\tlearn: 0.1425751\ttotal: 16.4s\tremaining: 42.5s\n",
      "697:\tlearn: 0.1424067\ttotal: 16.4s\tremaining: 42.4s\n",
      "698:\tlearn: 0.1421983\ttotal: 16.5s\tremaining: 42.4s\n",
      "699:\tlearn: 0.1419635\ttotal: 16.5s\tremaining: 42.4s\n",
      "700:\tlearn: 0.1418377\ttotal: 16.5s\tremaining: 42.4s\n",
      "701:\tlearn: 0.1417033\ttotal: 16.5s\tremaining: 42.3s\n",
      "702:\tlearn: 0.1416059\ttotal: 16.5s\tremaining: 42.3s\n",
      "703:\tlearn: 0.1413924\ttotal: 16.6s\tremaining: 42.3s\n",
      "704:\tlearn: 0.1412641\ttotal: 16.6s\tremaining: 42.2s\n",
      "705:\tlearn: 0.1411744\ttotal: 16.6s\tremaining: 42.2s\n",
      "706:\tlearn: 0.1410464\ttotal: 16.6s\tremaining: 42.2s\n",
      "707:\tlearn: 0.1408157\ttotal: 16.7s\tremaining: 42.2s\n",
      "708:\tlearn: 0.1406896\ttotal: 16.7s\tremaining: 42.2s\n",
      "709:\tlearn: 0.1405520\ttotal: 16.7s\tremaining: 42.2s\n",
      "710:\tlearn: 0.1403210\ttotal: 16.8s\tremaining: 42.2s\n",
      "711:\tlearn: 0.1402724\ttotal: 16.8s\tremaining: 42.1s\n",
      "712:\tlearn: 0.1401175\ttotal: 16.8s\tremaining: 42.1s\n",
      "713:\tlearn: 0.1400728\ttotal: 16.8s\tremaining: 42.1s\n",
      "714:\tlearn: 0.1399174\ttotal: 16.9s\tremaining: 42.1s\n",
      "715:\tlearn: 0.1397930\ttotal: 16.9s\tremaining: 42.1s\n",
      "716:\tlearn: 0.1397024\ttotal: 16.9s\tremaining: 42s\n",
      "717:\tlearn: 0.1395646\ttotal: 16.9s\tremaining: 42s\n",
      "718:\tlearn: 0.1395037\ttotal: 16.9s\tremaining: 42s\n",
      "719:\tlearn: 0.1393850\ttotal: 17s\tremaining: 42s\n",
      "720:\tlearn: 0.1392477\ttotal: 17s\tremaining: 41.9s\n",
      "721:\tlearn: 0.1391883\ttotal: 17s\tremaining: 41.9s\n",
      "722:\tlearn: 0.1390911\ttotal: 17s\tremaining: 41.9s\n",
      "723:\tlearn: 0.1389402\ttotal: 17.1s\tremaining: 41.8s\n",
      "724:\tlearn: 0.1386875\ttotal: 17.1s\tremaining: 41.8s\n",
      "725:\tlearn: 0.1385163\ttotal: 17.1s\tremaining: 41.8s\n",
      "726:\tlearn: 0.1383353\ttotal: 17.1s\tremaining: 41.8s\n",
      "727:\tlearn: 0.1381966\ttotal: 17.2s\tremaining: 41.8s\n",
      "728:\tlearn: 0.1379943\ttotal: 17.2s\tremaining: 41.7s\n",
      "729:\tlearn: 0.1379503\ttotal: 17.2s\tremaining: 41.7s\n",
      "730:\tlearn: 0.1378030\ttotal: 17.2s\tremaining: 41.7s\n",
      "731:\tlearn: 0.1376222\ttotal: 17.3s\tremaining: 41.7s\n",
      "732:\tlearn: 0.1373984\ttotal: 17.3s\tremaining: 41.6s\n",
      "733:\tlearn: 0.1372821\ttotal: 17.3s\tremaining: 41.6s\n",
      "734:\tlearn: 0.1371949\ttotal: 17.3s\tremaining: 41.6s\n",
      "735:\tlearn: 0.1370524\ttotal: 17.4s\tremaining: 41.7s\n",
      "736:\tlearn: 0.1368767\ttotal: 17.5s\tremaining: 41.8s\n",
      "737:\tlearn: 0.1368021\ttotal: 17.5s\tremaining: 41.8s\n",
      "738:\tlearn: 0.1367597\ttotal: 17.6s\tremaining: 41.8s\n",
      "739:\tlearn: 0.1365837\ttotal: 17.6s\tremaining: 41.9s\n",
      "740:\tlearn: 0.1364133\ttotal: 17.6s\tremaining: 41.9s\n",
      "741:\tlearn: 0.1362781\ttotal: 17.7s\tremaining: 41.9s\n",
      "742:\tlearn: 0.1360682\ttotal: 17.7s\tremaining: 41.8s\n",
      "743:\tlearn: 0.1359352\ttotal: 17.7s\tremaining: 41.8s\n",
      "744:\tlearn: 0.1357667\ttotal: 17.7s\tremaining: 41.8s\n",
      "745:\tlearn: 0.1356215\ttotal: 17.7s\tremaining: 41.7s\n",
      "746:\tlearn: 0.1354914\ttotal: 17.8s\tremaining: 41.7s\n",
      "747:\tlearn: 0.1352962\ttotal: 17.8s\tremaining: 41.7s\n",
      "748:\tlearn: 0.1351923\ttotal: 17.9s\tremaining: 41.8s\n",
      "749:\tlearn: 0.1351031\ttotal: 17.9s\tremaining: 41.8s\n",
      "750:\tlearn: 0.1349090\ttotal: 18s\tremaining: 41.8s\n",
      "751:\tlearn: 0.1348316\ttotal: 18s\tremaining: 41.8s\n",
      "752:\tlearn: 0.1347946\ttotal: 18s\tremaining: 41.8s\n",
      "753:\tlearn: 0.1346753\ttotal: 18s\tremaining: 41.8s\n",
      "754:\tlearn: 0.1344442\ttotal: 18.1s\tremaining: 41.8s\n",
      "755:\tlearn: 0.1342225\ttotal: 18.1s\tremaining: 41.8s\n",
      "756:\tlearn: 0.1340759\ttotal: 18.1s\tremaining: 41.8s\n",
      "757:\tlearn: 0.1339569\ttotal: 18.2s\tremaining: 41.8s\n",
      "758:\tlearn: 0.1338651\ttotal: 18.2s\tremaining: 41.7s\n",
      "759:\tlearn: 0.1338168\ttotal: 18.2s\tremaining: 41.7s\n",
      "760:\tlearn: 0.1336817\ttotal: 18.2s\tremaining: 41.7s\n",
      "761:\tlearn: 0.1335818\ttotal: 18.3s\tremaining: 41.6s\n",
      "762:\tlearn: 0.1333995\ttotal: 18.3s\tremaining: 41.6s\n",
      "763:\tlearn: 0.1332738\ttotal: 18.3s\tremaining: 41.6s\n",
      "764:\tlearn: 0.1331854\ttotal: 18.3s\tremaining: 41.6s\n",
      "765:\tlearn: 0.1330468\ttotal: 18.4s\tremaining: 41.6s\n",
      "766:\tlearn: 0.1328549\ttotal: 18.4s\tremaining: 41.6s\n",
      "767:\tlearn: 0.1327656\ttotal: 18.4s\tremaining: 41.5s\n",
      "768:\tlearn: 0.1327011\ttotal: 18.4s\tremaining: 41.5s\n",
      "769:\tlearn: 0.1326105\ttotal: 18.5s\tremaining: 41.5s\n",
      "770:\tlearn: 0.1325049\ttotal: 18.5s\tremaining: 41.5s\n",
      "771:\tlearn: 0.1323556\ttotal: 18.5s\tremaining: 41.5s\n",
      "772:\tlearn: 0.1321914\ttotal: 18.6s\tremaining: 41.5s\n",
      "773:\tlearn: 0.1320551\ttotal: 18.6s\tremaining: 41.5s\n",
      "774:\tlearn: 0.1320108\ttotal: 18.6s\tremaining: 41.5s\n",
      "775:\tlearn: 0.1318722\ttotal: 18.7s\tremaining: 41.4s\n",
      "776:\tlearn: 0.1317479\ttotal: 18.7s\tremaining: 41.4s\n",
      "777:\tlearn: 0.1315751\ttotal: 18.7s\tremaining: 41.4s\n",
      "778:\tlearn: 0.1314491\ttotal: 18.7s\tremaining: 41.4s\n",
      "779:\tlearn: 0.1313000\ttotal: 18.7s\tremaining: 41.3s\n",
      "780:\tlearn: 0.1312109\ttotal: 18.8s\tremaining: 41.3s\n",
      "781:\tlearn: 0.1311083\ttotal: 18.8s\tremaining: 41.3s\n",
      "782:\tlearn: 0.1308981\ttotal: 18.8s\tremaining: 41.3s\n",
      "783:\tlearn: 0.1308234\ttotal: 18.8s\tremaining: 41.2s\n",
      "784:\tlearn: 0.1307912\ttotal: 18.9s\tremaining: 41.2s\n",
      "785:\tlearn: 0.1307187\ttotal: 18.9s\tremaining: 41.2s\n",
      "786:\tlearn: 0.1305930\ttotal: 18.9s\tremaining: 41.2s\n",
      "787:\tlearn: 0.1305213\ttotal: 18.9s\tremaining: 41.1s\n",
      "788:\tlearn: 0.1304175\ttotal: 18.9s\tremaining: 41.1s\n",
      "789:\tlearn: 0.1302421\ttotal: 19s\tremaining: 41.1s\n",
      "790:\tlearn: 0.1301910\ttotal: 19s\tremaining: 41s\n",
      "791:\tlearn: 0.1300594\ttotal: 19s\tremaining: 41s\n",
      "792:\tlearn: 0.1299362\ttotal: 19s\tremaining: 41s\n",
      "793:\tlearn: 0.1297907\ttotal: 19s\tremaining: 40.9s\n",
      "794:\tlearn: 0.1296536\ttotal: 19.1s\tremaining: 40.9s\n",
      "795:\tlearn: 0.1294801\ttotal: 19.1s\tremaining: 40.9s\n",
      "796:\tlearn: 0.1292630\ttotal: 19.1s\tremaining: 40.8s\n",
      "797:\tlearn: 0.1290134\ttotal: 19.1s\tremaining: 40.8s\n",
      "798:\tlearn: 0.1288192\ttotal: 19.2s\tremaining: 40.8s\n",
      "799:\tlearn: 0.1287657\ttotal: 19.2s\tremaining: 40.8s\n",
      "800:\tlearn: 0.1286029\ttotal: 19.2s\tremaining: 40.8s\n",
      "801:\tlearn: 0.1284923\ttotal: 19.3s\tremaining: 40.8s\n",
      "802:\tlearn: 0.1283795\ttotal: 19.3s\tremaining: 40.8s\n",
      "803:\tlearn: 0.1282461\ttotal: 19.3s\tremaining: 40.8s\n",
      "804:\tlearn: 0.1281242\ttotal: 19.4s\tremaining: 40.7s\n",
      "805:\tlearn: 0.1280142\ttotal: 19.4s\tremaining: 40.7s\n",
      "806:\tlearn: 0.1279521\ttotal: 19.4s\tremaining: 40.7s\n",
      "807:\tlearn: 0.1278977\ttotal: 19.4s\tremaining: 40.7s\n",
      "808:\tlearn: 0.1278231\ttotal: 19.4s\tremaining: 40.6s\n",
      "809:\tlearn: 0.1277264\ttotal: 19.5s\tremaining: 40.6s\n",
      "810:\tlearn: 0.1275696\ttotal: 19.5s\tremaining: 40.6s\n",
      "811:\tlearn: 0.1274379\ttotal: 19.5s\tremaining: 40.6s\n",
      "812:\tlearn: 0.1273532\ttotal: 19.5s\tremaining: 40.5s\n"
     ]
    },
    {
     "name": "stdout",
     "output_type": "stream",
     "text": [
      "813:\tlearn: 0.1272477\ttotal: 19.6s\tremaining: 40.5s\n",
      "814:\tlearn: 0.1271128\ttotal: 19.6s\tremaining: 40.5s\n",
      "815:\tlearn: 0.1270031\ttotal: 19.6s\tremaining: 40.5s\n",
      "816:\tlearn: 0.1268211\ttotal: 19.6s\tremaining: 40.4s\n",
      "817:\tlearn: 0.1266683\ttotal: 19.7s\tremaining: 40.4s\n",
      "818:\tlearn: 0.1266227\ttotal: 19.7s\tremaining: 40.4s\n",
      "819:\tlearn: 0.1265275\ttotal: 19.7s\tremaining: 40.3s\n",
      "820:\tlearn: 0.1264298\ttotal: 19.7s\tremaining: 40.3s\n",
      "821:\tlearn: 0.1262797\ttotal: 19.7s\tremaining: 40.3s\n",
      "822:\tlearn: 0.1261212\ttotal: 19.8s\tremaining: 40.3s\n",
      "823:\tlearn: 0.1260258\ttotal: 19.8s\tremaining: 40.2s\n",
      "824:\tlearn: 0.1259367\ttotal: 19.8s\tremaining: 40.2s\n",
      "825:\tlearn: 0.1257410\ttotal: 19.8s\tremaining: 40.2s\n",
      "826:\tlearn: 0.1256137\ttotal: 19.9s\tremaining: 40.2s\n",
      "827:\tlearn: 0.1255243\ttotal: 19.9s\tremaining: 40.1s\n",
      "828:\tlearn: 0.1253326\ttotal: 19.9s\tremaining: 40.1s\n",
      "829:\tlearn: 0.1251323\ttotal: 19.9s\tremaining: 40.1s\n",
      "830:\tlearn: 0.1249661\ttotal: 19.9s\tremaining: 40.1s\n",
      "831:\tlearn: 0.1247607\ttotal: 20s\tremaining: 40s\n",
      "832:\tlearn: 0.1246760\ttotal: 20s\tremaining: 40s\n",
      "833:\tlearn: 0.1245374\ttotal: 20s\tremaining: 40s\n",
      "834:\tlearn: 0.1244304\ttotal: 20s\tremaining: 39.9s\n",
      "835:\tlearn: 0.1243590\ttotal: 20.1s\tremaining: 39.9s\n",
      "836:\tlearn: 0.1242939\ttotal: 20.1s\tremaining: 39.9s\n",
      "837:\tlearn: 0.1241507\ttotal: 20.1s\tremaining: 39.9s\n",
      "838:\tlearn: 0.1241041\ttotal: 20.1s\tremaining: 39.8s\n",
      "839:\tlearn: 0.1240394\ttotal: 20.1s\tremaining: 39.8s\n",
      "840:\tlearn: 0.1238917\ttotal: 20.2s\tremaining: 39.8s\n",
      "841:\tlearn: 0.1236415\ttotal: 20.2s\tremaining: 39.7s\n",
      "842:\tlearn: 0.1235576\ttotal: 20.2s\tremaining: 39.7s\n",
      "843:\tlearn: 0.1233748\ttotal: 20.2s\tremaining: 39.7s\n",
      "844:\tlearn: 0.1231480\ttotal: 20.3s\tremaining: 39.7s\n",
      "845:\tlearn: 0.1230310\ttotal: 20.3s\tremaining: 39.7s\n",
      "846:\tlearn: 0.1229557\ttotal: 20.3s\tremaining: 39.6s\n",
      "847:\tlearn: 0.1229304\ttotal: 20.3s\tremaining: 39.6s\n",
      "848:\tlearn: 0.1228364\ttotal: 20.3s\tremaining: 39.6s\n",
      "849:\tlearn: 0.1228121\ttotal: 20.4s\tremaining: 39.5s\n",
      "850:\tlearn: 0.1226910\ttotal: 20.4s\tremaining: 39.5s\n",
      "851:\tlearn: 0.1225666\ttotal: 20.4s\tremaining: 39.5s\n",
      "852:\tlearn: 0.1225079\ttotal: 20.4s\tremaining: 39.5s\n",
      "853:\tlearn: 0.1221984\ttotal: 20.5s\tremaining: 39.4s\n",
      "854:\tlearn: 0.1220665\ttotal: 20.5s\tremaining: 39.4s\n",
      "855:\tlearn: 0.1220378\ttotal: 20.5s\tremaining: 39.4s\n",
      "856:\tlearn: 0.1219226\ttotal: 20.5s\tremaining: 39.4s\n",
      "857:\tlearn: 0.1218126\ttotal: 20.6s\tremaining: 39.4s\n",
      "858:\tlearn: 0.1216287\ttotal: 20.6s\tremaining: 39.4s\n",
      "859:\tlearn: 0.1215602\ttotal: 20.6s\tremaining: 39.3s\n",
      "860:\tlearn: 0.1214690\ttotal: 20.7s\tremaining: 39.3s\n",
      "861:\tlearn: 0.1213189\ttotal: 20.7s\tremaining: 39.3s\n",
      "862:\tlearn: 0.1211313\ttotal: 20.7s\tremaining: 39.3s\n",
      "863:\tlearn: 0.1209838\ttotal: 20.7s\tremaining: 39.2s\n",
      "864:\tlearn: 0.1208095\ttotal: 20.8s\tremaining: 39.2s\n",
      "865:\tlearn: 0.1206957\ttotal: 20.8s\tremaining: 39.2s\n",
      "866:\tlearn: 0.1205870\ttotal: 20.8s\tremaining: 39.2s\n",
      "867:\tlearn: 0.1204219\ttotal: 20.9s\tremaining: 39.2s\n",
      "868:\tlearn: 0.1203091\ttotal: 20.9s\tremaining: 39.2s\n",
      "869:\tlearn: 0.1202268\ttotal: 20.9s\tremaining: 39.1s\n",
      "870:\tlearn: 0.1201177\ttotal: 20.9s\tremaining: 39.1s\n",
      "871:\tlearn: 0.1200002\ttotal: 21s\tremaining: 39.1s\n",
      "872:\tlearn: 0.1199324\ttotal: 21s\tremaining: 39.1s\n",
      "873:\tlearn: 0.1198559\ttotal: 21s\tremaining: 39.1s\n",
      "874:\tlearn: 0.1197537\ttotal: 21s\tremaining: 39.1s\n",
      "875:\tlearn: 0.1196734\ttotal: 21.1s\tremaining: 39.1s\n",
      "876:\tlearn: 0.1193874\ttotal: 21.1s\tremaining: 39s\n",
      "877:\tlearn: 0.1192514\ttotal: 21.1s\tremaining: 39s\n",
      "878:\tlearn: 0.1190808\ttotal: 21.2s\tremaining: 39s\n",
      "879:\tlearn: 0.1189825\ttotal: 21.2s\tremaining: 39s\n",
      "880:\tlearn: 0.1187964\ttotal: 21.2s\tremaining: 39s\n",
      "881:\tlearn: 0.1186274\ttotal: 21.2s\tremaining: 39s\n",
      "882:\tlearn: 0.1185239\ttotal: 21.3s\tremaining: 38.9s\n",
      "883:\tlearn: 0.1184164\ttotal: 21.3s\tremaining: 38.9s\n",
      "884:\tlearn: 0.1183645\ttotal: 21.3s\tremaining: 38.9s\n",
      "885:\tlearn: 0.1182256\ttotal: 21.4s\tremaining: 38.9s\n",
      "886:\tlearn: 0.1181096\ttotal: 21.4s\tremaining: 38.9s\n",
      "887:\tlearn: 0.1180160\ttotal: 21.4s\tremaining: 38.9s\n",
      "888:\tlearn: 0.1179573\ttotal: 21.4s\tremaining: 38.9s\n",
      "889:\tlearn: 0.1178640\ttotal: 21.5s\tremaining: 38.8s\n",
      "890:\tlearn: 0.1177458\ttotal: 21.5s\tremaining: 38.8s\n",
      "891:\tlearn: 0.1176558\ttotal: 21.5s\tremaining: 38.8s\n",
      "892:\tlearn: 0.1175341\ttotal: 21.6s\tremaining: 38.8s\n",
      "893:\tlearn: 0.1174130\ttotal: 21.6s\tremaining: 38.8s\n",
      "894:\tlearn: 0.1172813\ttotal: 21.6s\tremaining: 38.8s\n",
      "895:\tlearn: 0.1171650\ttotal: 21.6s\tremaining: 38.7s\n",
      "896:\tlearn: 0.1170666\ttotal: 21.7s\tremaining: 38.7s\n",
      "897:\tlearn: 0.1170142\ttotal: 21.7s\tremaining: 38.7s\n",
      "898:\tlearn: 0.1169807\ttotal: 21.7s\tremaining: 38.7s\n",
      "899:\tlearn: 0.1168727\ttotal: 21.7s\tremaining: 38.6s\n",
      "900:\tlearn: 0.1166456\ttotal: 21.8s\tremaining: 38.6s\n",
      "901:\tlearn: 0.1164831\ttotal: 21.8s\tremaining: 38.6s\n",
      "902:\tlearn: 0.1163827\ttotal: 21.8s\tremaining: 38.6s\n",
      "903:\tlearn: 0.1162630\ttotal: 21.8s\tremaining: 38.6s\n",
      "904:\tlearn: 0.1161520\ttotal: 21.9s\tremaining: 38.6s\n",
      "905:\tlearn: 0.1161382\ttotal: 21.9s\tremaining: 38.5s\n",
      "906:\tlearn: 0.1160582\ttotal: 21.9s\tremaining: 38.5s\n",
      "907:\tlearn: 0.1159059\ttotal: 22s\tremaining: 38.5s\n",
      "908:\tlearn: 0.1158779\ttotal: 22s\tremaining: 38.5s\n",
      "909:\tlearn: 0.1157946\ttotal: 22s\tremaining: 38.5s\n",
      "910:\tlearn: 0.1155918\ttotal: 22.1s\tremaining: 38.5s\n",
      "911:\tlearn: 0.1154842\ttotal: 22.1s\tremaining: 38.4s\n",
      "912:\tlearn: 0.1153766\ttotal: 22.1s\tremaining: 38.4s\n",
      "913:\tlearn: 0.1152725\ttotal: 22.1s\tremaining: 38.4s\n",
      "914:\tlearn: 0.1152209\ttotal: 22.2s\tremaining: 38.4s\n",
      "915:\tlearn: 0.1150609\ttotal: 22.2s\tremaining: 38.4s\n",
      "916:\tlearn: 0.1148653\ttotal: 22.2s\tremaining: 38.4s\n",
      "917:\tlearn: 0.1147433\ttotal: 22.3s\tremaining: 38.3s\n",
      "918:\tlearn: 0.1146729\ttotal: 22.3s\tremaining: 38.3s\n",
      "919:\tlearn: 0.1145736\ttotal: 22.3s\tremaining: 38.3s\n",
      "920:\tlearn: 0.1144060\ttotal: 22.4s\tremaining: 38.3s\n",
      "921:\tlearn: 0.1143099\ttotal: 22.4s\tremaining: 38.3s\n",
      "922:\tlearn: 0.1142305\ttotal: 22.4s\tremaining: 38.3s\n",
      "923:\tlearn: 0.1140121\ttotal: 22.4s\tremaining: 38.3s\n",
      "924:\tlearn: 0.1138817\ttotal: 22.5s\tremaining: 38.3s\n",
      "925:\tlearn: 0.1137472\ttotal: 22.5s\tremaining: 38.2s\n",
      "926:\tlearn: 0.1136525\ttotal: 22.5s\tremaining: 38.3s\n",
      "927:\tlearn: 0.1135476\ttotal: 22.6s\tremaining: 38.2s\n",
      "928:\tlearn: 0.1134683\ttotal: 22.6s\tremaining: 38.2s\n",
      "929:\tlearn: 0.1134615\ttotal: 22.6s\tremaining: 38.2s\n",
      "930:\tlearn: 0.1133694\ttotal: 22.6s\tremaining: 38.1s\n",
      "931:\tlearn: 0.1131705\ttotal: 22.7s\tremaining: 38.1s\n",
      "932:\tlearn: 0.1130526\ttotal: 22.7s\tremaining: 38.1s\n",
      "933:\tlearn: 0.1129681\ttotal: 22.7s\tremaining: 38.1s\n",
      "934:\tlearn: 0.1129528\ttotal: 22.7s\tremaining: 38.1s\n",
      "935:\tlearn: 0.1128338\ttotal: 22.8s\tremaining: 38s\n",
      "936:\tlearn: 0.1127793\ttotal: 22.8s\tremaining: 38s\n",
      "937:\tlearn: 0.1126933\ttotal: 22.8s\tremaining: 38s\n",
      "938:\tlearn: 0.1125801\ttotal: 22.8s\tremaining: 38s\n",
      "939:\tlearn: 0.1123867\ttotal: 22.9s\tremaining: 37.9s\n",
      "940:\tlearn: 0.1122727\ttotal: 22.9s\tremaining: 37.9s\n",
      "941:\tlearn: 0.1121777\ttotal: 22.9s\tremaining: 37.9s\n",
      "942:\tlearn: 0.1120644\ttotal: 22.9s\tremaining: 37.9s\n",
      "943:\tlearn: 0.1119506\ttotal: 23s\tremaining: 37.9s\n",
      "944:\tlearn: 0.1118591\ttotal: 23s\tremaining: 37.8s\n",
      "945:\tlearn: 0.1118525\ttotal: 23s\tremaining: 37.8s\n",
      "946:\tlearn: 0.1118053\ttotal: 23s\tremaining: 37.8s\n",
      "947:\tlearn: 0.1117261\ttotal: 23.1s\tremaining: 37.8s\n",
      "948:\tlearn: 0.1115983\ttotal: 23.1s\tremaining: 37.7s\n",
      "949:\tlearn: 0.1115129\ttotal: 23.1s\tremaining: 37.7s\n",
      "950:\tlearn: 0.1114505\ttotal: 23.1s\tremaining: 37.7s\n",
      "951:\tlearn: 0.1113216\ttotal: 23.2s\tremaining: 37.7s\n",
      "952:\tlearn: 0.1111549\ttotal: 23.2s\tremaining: 37.7s\n",
      "953:\tlearn: 0.1110314\ttotal: 23.2s\tremaining: 37.6s\n",
      "954:\tlearn: 0.1108972\ttotal: 23.3s\tremaining: 37.6s\n",
      "955:\tlearn: 0.1108197\ttotal: 23.3s\tremaining: 37.6s\n",
      "956:\tlearn: 0.1107633\ttotal: 23.3s\tremaining: 37.6s\n",
      "957:\tlearn: 0.1106698\ttotal: 23.3s\tremaining: 37.6s\n",
      "958:\tlearn: 0.1104468\ttotal: 23.4s\tremaining: 37.5s\n",
      "959:\tlearn: 0.1103735\ttotal: 23.4s\tremaining: 37.5s\n",
      "960:\tlearn: 0.1102304\ttotal: 23.4s\tremaining: 37.5s\n",
      "961:\tlearn: 0.1100750\ttotal: 23.4s\tremaining: 37.5s\n",
      "962:\tlearn: 0.1100027\ttotal: 23.5s\tremaining: 37.4s\n",
      "963:\tlearn: 0.1099638\ttotal: 23.5s\tremaining: 37.4s\n",
      "964:\tlearn: 0.1098309\ttotal: 23.5s\tremaining: 37.4s\n",
      "965:\tlearn: 0.1097727\ttotal: 23.6s\tremaining: 37.4s\n",
      "966:\tlearn: 0.1096767\ttotal: 23.6s\tremaining: 37.4s\n",
      "967:\tlearn: 0.1095902\ttotal: 23.6s\tremaining: 37.4s\n",
      "968:\tlearn: 0.1094870\ttotal: 23.6s\tremaining: 37.3s\n",
      "969:\tlearn: 0.1094166\ttotal: 23.7s\tremaining: 37.3s\n",
      "970:\tlearn: 0.1093127\ttotal: 23.7s\tremaining: 37.3s\n",
      "971:\tlearn: 0.1091874\ttotal: 23.7s\tremaining: 37.3s\n",
      "972:\tlearn: 0.1090528\ttotal: 23.8s\tremaining: 37.3s\n",
      "973:\tlearn: 0.1089139\ttotal: 23.8s\tremaining: 37.3s\n",
      "974:\tlearn: 0.1087447\ttotal: 23.8s\tremaining: 37.2s\n",
      "975:\tlearn: 0.1087125\ttotal: 23.8s\tremaining: 37.2s\n",
      "976:\tlearn: 0.1086623\ttotal: 23.8s\tremaining: 37.2s\n"
     ]
    },
    {
     "name": "stdout",
     "output_type": "stream",
     "text": [
      "977:\tlearn: 0.1085269\ttotal: 23.9s\tremaining: 37.1s\n",
      "978:\tlearn: 0.1084477\ttotal: 23.9s\tremaining: 37.1s\n",
      "979:\tlearn: 0.1083968\ttotal: 23.9s\tremaining: 37.1s\n",
      "980:\tlearn: 0.1083404\ttotal: 23.9s\tremaining: 37.1s\n",
      "981:\tlearn: 0.1082414\ttotal: 24s\tremaining: 37s\n",
      "982:\tlearn: 0.1081565\ttotal: 24s\tremaining: 37s\n",
      "983:\tlearn: 0.1080973\ttotal: 24s\tremaining: 37s\n",
      "984:\tlearn: 0.1079372\ttotal: 24s\tremaining: 37s\n",
      "985:\tlearn: 0.1078279\ttotal: 24.1s\tremaining: 36.9s\n",
      "986:\tlearn: 0.1077212\ttotal: 24.1s\tremaining: 36.9s\n",
      "987:\tlearn: 0.1076188\ttotal: 24.1s\tremaining: 36.9s\n",
      "988:\tlearn: 0.1074973\ttotal: 24.1s\tremaining: 36.9s\n",
      "989:\tlearn: 0.1073533\ttotal: 24.1s\tremaining: 36.8s\n",
      "990:\tlearn: 0.1072834\ttotal: 24.2s\tremaining: 36.8s\n",
      "991:\tlearn: 0.1071327\ttotal: 24.2s\tremaining: 36.8s\n",
      "992:\tlearn: 0.1069063\ttotal: 24.2s\tremaining: 36.7s\n",
      "993:\tlearn: 0.1068245\ttotal: 24.2s\tremaining: 36.7s\n",
      "994:\tlearn: 0.1067245\ttotal: 24.3s\tremaining: 36.7s\n",
      "995:\tlearn: 0.1066637\ttotal: 24.3s\tremaining: 36.7s\n",
      "996:\tlearn: 0.1065889\ttotal: 24.3s\tremaining: 36.6s\n",
      "997:\tlearn: 0.1065614\ttotal: 24.3s\tremaining: 36.6s\n",
      "998:\tlearn: 0.1064548\ttotal: 24.4s\tremaining: 36.6s\n",
      "999:\tlearn: 0.1062746\ttotal: 24.4s\tremaining: 36.6s\n",
      "1000:\tlearn: 0.1061286\ttotal: 24.4s\tremaining: 36.6s\n",
      "1001:\tlearn: 0.1059179\ttotal: 24.4s\tremaining: 36.5s\n",
      "1002:\tlearn: 0.1058369\ttotal: 24.5s\tremaining: 36.5s\n",
      "1003:\tlearn: 0.1057146\ttotal: 24.5s\tremaining: 36.5s\n",
      "1004:\tlearn: 0.1056623\ttotal: 24.5s\tremaining: 36.5s\n",
      "1005:\tlearn: 0.1055921\ttotal: 24.6s\tremaining: 36.5s\n",
      "1006:\tlearn: 0.1054361\ttotal: 24.6s\tremaining: 36.5s\n",
      "1007:\tlearn: 0.1052705\ttotal: 24.6s\tremaining: 36.5s\n",
      "1008:\tlearn: 0.1052116\ttotal: 24.7s\tremaining: 36.4s\n",
      "1009:\tlearn: 0.1051020\ttotal: 24.7s\tremaining: 36.4s\n",
      "1010:\tlearn: 0.1050444\ttotal: 24.7s\tremaining: 36.4s\n",
      "1011:\tlearn: 0.1049871\ttotal: 24.8s\tremaining: 36.4s\n",
      "1012:\tlearn: 0.1048691\ttotal: 24.8s\tremaining: 36.4s\n",
      "1013:\tlearn: 0.1047785\ttotal: 24.8s\tremaining: 36.3s\n",
      "1014:\tlearn: 0.1046742\ttotal: 24.8s\tremaining: 36.3s\n",
      "1015:\tlearn: 0.1045245\ttotal: 24.8s\tremaining: 36.3s\n",
      "1016:\tlearn: 0.1044506\ttotal: 24.9s\tremaining: 36.3s\n",
      "1017:\tlearn: 0.1043413\ttotal: 24.9s\tremaining: 36.3s\n",
      "1018:\tlearn: 0.1042952\ttotal: 24.9s\tremaining: 36.2s\n",
      "1019:\tlearn: 0.1041630\ttotal: 25s\tremaining: 36.2s\n",
      "1020:\tlearn: 0.1040203\ttotal: 25s\tremaining: 36.2s\n",
      "1021:\tlearn: 0.1038564\ttotal: 25s\tremaining: 36.1s\n",
      "1022:\tlearn: 0.1037759\ttotal: 25s\tremaining: 36.1s\n",
      "1023:\tlearn: 0.1036893\ttotal: 25s\tremaining: 36.1s\n",
      "1024:\tlearn: 0.1036029\ttotal: 25.1s\tremaining: 36s\n",
      "1025:\tlearn: 0.1034657\ttotal: 25.1s\tremaining: 36s\n",
      "1026:\tlearn: 0.1033099\ttotal: 25.1s\tremaining: 36s\n",
      "1027:\tlearn: 0.1032363\ttotal: 25.1s\tremaining: 36s\n",
      "1028:\tlearn: 0.1031090\ttotal: 25.1s\tremaining: 35.9s\n",
      "1029:\tlearn: 0.1030723\ttotal: 25.2s\tremaining: 35.9s\n",
      "1030:\tlearn: 0.1029359\ttotal: 25.2s\tremaining: 35.9s\n",
      "1031:\tlearn: 0.1027961\ttotal: 25.2s\tremaining: 35.8s\n",
      "1032:\tlearn: 0.1026939\ttotal: 25.2s\tremaining: 35.8s\n",
      "1033:\tlearn: 0.1026017\ttotal: 25.2s\tremaining: 35.8s\n",
      "1034:\tlearn: 0.1024910\ttotal: 25.3s\tremaining: 35.8s\n",
      "1035:\tlearn: 0.1023740\ttotal: 25.3s\tremaining: 35.7s\n",
      "1036:\tlearn: 0.1022787\ttotal: 25.3s\tremaining: 35.7s\n",
      "1037:\tlearn: 0.1021967\ttotal: 25.3s\tremaining: 35.7s\n",
      "1038:\tlearn: 0.1021267\ttotal: 25.4s\tremaining: 35.7s\n",
      "1039:\tlearn: 0.1019718\ttotal: 25.4s\tremaining: 35.6s\n",
      "1040:\tlearn: 0.1018663\ttotal: 25.4s\tremaining: 35.6s\n",
      "1041:\tlearn: 0.1017044\ttotal: 25.4s\tremaining: 35.6s\n",
      "1042:\tlearn: 0.1016479\ttotal: 25.4s\tremaining: 35.5s\n",
      "1043:\tlearn: 0.1015948\ttotal: 25.5s\tremaining: 35.5s\n",
      "1044:\tlearn: 0.1014480\ttotal: 25.5s\tremaining: 35.5s\n",
      "1045:\tlearn: 0.1013143\ttotal: 25.5s\tremaining: 35.5s\n",
      "1046:\tlearn: 0.1012127\ttotal: 25.5s\tremaining: 35.4s\n",
      "1047:\tlearn: 0.1011576\ttotal: 25.6s\tremaining: 35.4s\n",
      "1048:\tlearn: 0.1011218\ttotal: 25.6s\tremaining: 35.4s\n",
      "1049:\tlearn: 0.1010808\ttotal: 25.6s\tremaining: 35.4s\n",
      "1050:\tlearn: 0.1010520\ttotal: 25.6s\tremaining: 35.3s\n",
      "1051:\tlearn: 0.1009846\ttotal: 25.6s\tremaining: 35.3s\n",
      "1052:\tlearn: 0.1009416\ttotal: 25.7s\tremaining: 35.3s\n",
      "1053:\tlearn: 0.1008581\ttotal: 25.7s\tremaining: 35.3s\n",
      "1054:\tlearn: 0.1007512\ttotal: 25.7s\tremaining: 35.2s\n",
      "1055:\tlearn: 0.1007130\ttotal: 25.7s\tremaining: 35.2s\n",
      "1056:\tlearn: 0.1006698\ttotal: 25.8s\tremaining: 35.2s\n",
      "1057:\tlearn: 0.1004864\ttotal: 25.8s\tremaining: 35.1s\n",
      "1058:\tlearn: 0.1003739\ttotal: 25.8s\tremaining: 35.1s\n",
      "1059:\tlearn: 0.1003413\ttotal: 25.8s\tremaining: 35.1s\n",
      "1060:\tlearn: 0.1002469\ttotal: 25.8s\tremaining: 35s\n",
      "1061:\tlearn: 0.0999947\ttotal: 25.9s\tremaining: 35s\n",
      "1062:\tlearn: 0.0998953\ttotal: 25.9s\tremaining: 35s\n",
      "1063:\tlearn: 0.0997981\ttotal: 25.9s\tremaining: 35s\n",
      "1064:\tlearn: 0.0997244\ttotal: 25.9s\tremaining: 34.9s\n",
      "1065:\tlearn: 0.0996754\ttotal: 25.9s\tremaining: 34.9s\n",
      "1066:\tlearn: 0.0995450\ttotal: 26s\tremaining: 34.9s\n",
      "1067:\tlearn: 0.0993809\ttotal: 26s\tremaining: 34.8s\n",
      "1068:\tlearn: 0.0993048\ttotal: 26s\tremaining: 34.8s\n",
      "1069:\tlearn: 0.0992031\ttotal: 26s\tremaining: 34.8s\n",
      "1070:\tlearn: 0.0990553\ttotal: 26.1s\tremaining: 34.8s\n",
      "1071:\tlearn: 0.0989660\ttotal: 26.1s\tremaining: 34.8s\n",
      "1072:\tlearn: 0.0988433\ttotal: 26.1s\tremaining: 34.7s\n",
      "1073:\tlearn: 0.0987694\ttotal: 26.1s\tremaining: 34.7s\n",
      "1074:\tlearn: 0.0986715\ttotal: 26.2s\tremaining: 34.7s\n",
      "1075:\tlearn: 0.0986248\ttotal: 26.2s\tremaining: 34.7s\n",
      "1076:\tlearn: 0.0985340\ttotal: 26.2s\tremaining: 34.6s\n",
      "1077:\tlearn: 0.0984423\ttotal: 26.2s\tremaining: 34.6s\n",
      "1078:\tlearn: 0.0983003\ttotal: 26.3s\tremaining: 34.6s\n",
      "1079:\tlearn: 0.0981869\ttotal: 26.3s\tremaining: 34.6s\n",
      "1080:\tlearn: 0.0980778\ttotal: 26.3s\tremaining: 34.6s\n",
      "1081:\tlearn: 0.0979545\ttotal: 26.3s\tremaining: 34.5s\n",
      "1082:\tlearn: 0.0979344\ttotal: 26.4s\tremaining: 34.5s\n",
      "1083:\tlearn: 0.0978710\ttotal: 26.4s\tremaining: 34.5s\n",
      "1084:\tlearn: 0.0977786\ttotal: 26.4s\tremaining: 34.5s\n",
      "1085:\tlearn: 0.0977149\ttotal: 26.5s\tremaining: 34.4s\n",
      "1086:\tlearn: 0.0976559\ttotal: 26.5s\tremaining: 34.4s\n",
      "1087:\tlearn: 0.0975202\ttotal: 26.5s\tremaining: 34.4s\n",
      "1088:\tlearn: 0.0974323\ttotal: 26.5s\tremaining: 34.4s\n",
      "1089:\tlearn: 0.0972277\ttotal: 26.6s\tremaining: 34.4s\n",
      "1090:\tlearn: 0.0971779\ttotal: 26.6s\tremaining: 34.3s\n",
      "1091:\tlearn: 0.0970654\ttotal: 26.6s\tremaining: 34.3s\n",
      "1092:\tlearn: 0.0969672\ttotal: 26.6s\tremaining: 34.3s\n",
      "1093:\tlearn: 0.0968899\ttotal: 26.7s\tremaining: 34.3s\n",
      "1094:\tlearn: 0.0967721\ttotal: 26.7s\tremaining: 34.2s\n",
      "1095:\tlearn: 0.0967047\ttotal: 26.7s\tremaining: 34.2s\n",
      "1096:\tlearn: 0.0966051\ttotal: 26.7s\tremaining: 34.2s\n",
      "1097:\tlearn: 0.0965478\ttotal: 26.7s\tremaining: 34.1s\n",
      "1098:\tlearn: 0.0963880\ttotal: 26.8s\tremaining: 34.1s\n",
      "1099:\tlearn: 0.0963144\ttotal: 26.8s\tremaining: 34.1s\n",
      "1100:\tlearn: 0.0961982\ttotal: 26.8s\tremaining: 34.1s\n",
      "1101:\tlearn: 0.0961293\ttotal: 26.8s\tremaining: 34s\n",
      "1102:\tlearn: 0.0960792\ttotal: 26.8s\tremaining: 34s\n",
      "1103:\tlearn: 0.0959530\ttotal: 26.9s\tremaining: 34s\n",
      "1104:\tlearn: 0.0957736\ttotal: 26.9s\tremaining: 34s\n",
      "1105:\tlearn: 0.0957272\ttotal: 26.9s\tremaining: 33.9s\n",
      "1106:\tlearn: 0.0955819\ttotal: 27s\tremaining: 33.9s\n",
      "1107:\tlearn: 0.0954772\ttotal: 27s\tremaining: 33.9s\n",
      "1108:\tlearn: 0.0953797\ttotal: 27s\tremaining: 33.9s\n",
      "1109:\tlearn: 0.0952944\ttotal: 27s\tremaining: 33.9s\n",
      "1110:\tlearn: 0.0951869\ttotal: 27.1s\tremaining: 33.8s\n",
      "1111:\tlearn: 0.0950111\ttotal: 27.1s\tremaining: 33.8s\n",
      "1112:\tlearn: 0.0949296\ttotal: 27.1s\tremaining: 33.8s\n",
      "1113:\tlearn: 0.0947997\ttotal: 27.2s\tremaining: 33.8s\n",
      "1114:\tlearn: 0.0947221\ttotal: 27.2s\tremaining: 33.8s\n",
      "1115:\tlearn: 0.0946031\ttotal: 27.2s\tremaining: 33.8s\n",
      "1116:\tlearn: 0.0944827\ttotal: 27.3s\tremaining: 33.8s\n",
      "1117:\tlearn: 0.0943987\ttotal: 27.3s\tremaining: 33.7s\n",
      "1118:\tlearn: 0.0943573\ttotal: 27.3s\tremaining: 33.7s\n",
      "1119:\tlearn: 0.0942706\ttotal: 27.3s\tremaining: 33.7s\n",
      "1120:\tlearn: 0.0941913\ttotal: 27.3s\tremaining: 33.6s\n",
      "1121:\tlearn: 0.0941597\ttotal: 27.4s\tremaining: 33.6s\n",
      "1122:\tlearn: 0.0940730\ttotal: 27.4s\tremaining: 33.6s\n",
      "1123:\tlearn: 0.0940021\ttotal: 27.4s\tremaining: 33.6s\n",
      "1124:\tlearn: 0.0938598\ttotal: 27.4s\tremaining: 33.5s\n",
      "1125:\tlearn: 0.0937783\ttotal: 27.5s\tremaining: 33.5s\n",
      "1126:\tlearn: 0.0936701\ttotal: 27.5s\tremaining: 33.5s\n",
      "1127:\tlearn: 0.0936082\ttotal: 27.5s\tremaining: 33.5s\n",
      "1128:\tlearn: 0.0935173\ttotal: 27.5s\tremaining: 33.5s\n",
      "1129:\tlearn: 0.0934252\ttotal: 27.6s\tremaining: 33.4s\n",
      "1130:\tlearn: 0.0934075\ttotal: 27.6s\tremaining: 33.4s\n",
      "1131:\tlearn: 0.0933709\ttotal: 27.6s\tremaining: 33.4s\n",
      "1132:\tlearn: 0.0932940\ttotal: 27.6s\tremaining: 33.4s\n",
      "1133:\tlearn: 0.0932579\ttotal: 27.7s\tremaining: 33.3s\n",
      "1134:\tlearn: 0.0932166\ttotal: 27.7s\tremaining: 33.3s\n",
      "1135:\tlearn: 0.0931500\ttotal: 27.7s\tremaining: 33.3s\n"
     ]
    },
    {
     "name": "stdout",
     "output_type": "stream",
     "text": [
      "1136:\tlearn: 0.0930643\ttotal: 27.7s\tremaining: 33.3s\n",
      "1137:\tlearn: 0.0929922\ttotal: 27.8s\tremaining: 33.2s\n",
      "1138:\tlearn: 0.0929464\ttotal: 27.8s\tremaining: 33.2s\n",
      "1139:\tlearn: 0.0928960\ttotal: 27.8s\tremaining: 33.2s\n",
      "1140:\tlearn: 0.0928165\ttotal: 27.8s\tremaining: 33.2s\n",
      "1141:\tlearn: 0.0926295\ttotal: 27.9s\tremaining: 33.1s\n",
      "1142:\tlearn: 0.0925201\ttotal: 27.9s\tremaining: 33.1s\n",
      "1143:\tlearn: 0.0924606\ttotal: 27.9s\tremaining: 33.1s\n",
      "1144:\tlearn: 0.0923512\ttotal: 27.9s\tremaining: 33.1s\n",
      "1145:\tlearn: 0.0922562\ttotal: 28s\tremaining: 33s\n",
      "1146:\tlearn: 0.0922228\ttotal: 28s\tremaining: 33s\n",
      "1147:\tlearn: 0.0921085\ttotal: 28s\tremaining: 33s\n",
      "1148:\tlearn: 0.0920518\ttotal: 28s\tremaining: 32.9s\n",
      "1149:\tlearn: 0.0919577\ttotal: 28s\tremaining: 32.9s\n",
      "1150:\tlearn: 0.0918893\ttotal: 28.1s\tremaining: 32.9s\n",
      "1151:\tlearn: 0.0917374\ttotal: 28.1s\tremaining: 32.9s\n",
      "1152:\tlearn: 0.0916283\ttotal: 28.1s\tremaining: 32.8s\n",
      "1153:\tlearn: 0.0915528\ttotal: 28.1s\tremaining: 32.8s\n",
      "1154:\tlearn: 0.0914550\ttotal: 28.2s\tremaining: 32.8s\n",
      "1155:\tlearn: 0.0913626\ttotal: 28.2s\tremaining: 32.8s\n",
      "1156:\tlearn: 0.0912854\ttotal: 28.2s\tremaining: 32.7s\n",
      "1157:\tlearn: 0.0912090\ttotal: 28.2s\tremaining: 32.7s\n",
      "1158:\tlearn: 0.0911242\ttotal: 28.3s\tremaining: 32.7s\n",
      "1159:\tlearn: 0.0910406\ttotal: 28.3s\tremaining: 32.7s\n",
      "1160:\tlearn: 0.0909958\ttotal: 28.3s\tremaining: 32.6s\n",
      "1161:\tlearn: 0.0909055\ttotal: 28.3s\tremaining: 32.6s\n",
      "1162:\tlearn: 0.0908374\ttotal: 28.3s\tremaining: 32.6s\n",
      "1163:\tlearn: 0.0907437\ttotal: 28.4s\tremaining: 32.6s\n",
      "1164:\tlearn: 0.0906805\ttotal: 28.4s\tremaining: 32.5s\n",
      "1165:\tlearn: 0.0905837\ttotal: 28.4s\tremaining: 32.5s\n",
      "1166:\tlearn: 0.0905012\ttotal: 28.4s\tremaining: 32.5s\n",
      "1167:\tlearn: 0.0904551\ttotal: 28.5s\tremaining: 32.5s\n",
      "1168:\tlearn: 0.0904285\ttotal: 28.5s\tremaining: 32.4s\n",
      "1169:\tlearn: 0.0903930\ttotal: 28.5s\tremaining: 32.4s\n",
      "1170:\tlearn: 0.0902976\ttotal: 28.5s\tremaining: 32.4s\n",
      "1171:\tlearn: 0.0902086\ttotal: 28.6s\tremaining: 32.4s\n",
      "1172:\tlearn: 0.0901452\ttotal: 28.6s\tremaining: 32.3s\n",
      "1173:\tlearn: 0.0900568\ttotal: 28.6s\tremaining: 32.3s\n",
      "1174:\tlearn: 0.0899137\ttotal: 28.6s\tremaining: 32.3s\n",
      "1175:\tlearn: 0.0898442\ttotal: 28.7s\tremaining: 32.3s\n",
      "1176:\tlearn: 0.0897804\ttotal: 28.7s\tremaining: 32.2s\n",
      "1177:\tlearn: 0.0895705\ttotal: 28.7s\tremaining: 32.2s\n",
      "1178:\tlearn: 0.0893902\ttotal: 28.7s\tremaining: 32.2s\n",
      "1179:\tlearn: 0.0892526\ttotal: 28.7s\tremaining: 32.2s\n",
      "1180:\tlearn: 0.0891429\ttotal: 28.8s\tremaining: 32.1s\n",
      "1181:\tlearn: 0.0889929\ttotal: 28.8s\tremaining: 32.1s\n",
      "1182:\tlearn: 0.0888426\ttotal: 28.8s\tremaining: 32.1s\n",
      "1183:\tlearn: 0.0887709\ttotal: 28.8s\tremaining: 32s\n",
      "1184:\tlearn: 0.0886850\ttotal: 28.9s\tremaining: 32s\n",
      "1185:\tlearn: 0.0886019\ttotal: 28.9s\tremaining: 32s\n",
      "1186:\tlearn: 0.0885482\ttotal: 28.9s\tremaining: 32s\n",
      "1187:\tlearn: 0.0884506\ttotal: 28.9s\tremaining: 32s\n",
      "1188:\tlearn: 0.0883342\ttotal: 29s\tremaining: 31.9s\n",
      "1189:\tlearn: 0.0882972\ttotal: 29s\tremaining: 31.9s\n",
      "1190:\tlearn: 0.0881976\ttotal: 29s\tremaining: 31.9s\n",
      "1191:\tlearn: 0.0881260\ttotal: 29s\tremaining: 31.9s\n",
      "1192:\tlearn: 0.0880478\ttotal: 29.1s\tremaining: 31.8s\n",
      "1193:\tlearn: 0.0879425\ttotal: 29.1s\tremaining: 31.8s\n",
      "1194:\tlearn: 0.0878915\ttotal: 29.1s\tremaining: 31.8s\n",
      "1195:\tlearn: 0.0878219\ttotal: 29.1s\tremaining: 31.7s\n",
      "1196:\tlearn: 0.0877975\ttotal: 29.1s\tremaining: 31.7s\n",
      "1197:\tlearn: 0.0877351\ttotal: 29.2s\tremaining: 31.7s\n",
      "1198:\tlearn: 0.0877152\ttotal: 29.2s\tremaining: 31.7s\n",
      "1199:\tlearn: 0.0876512\ttotal: 29.2s\tremaining: 31.6s\n",
      "1200:\tlearn: 0.0875568\ttotal: 29.2s\tremaining: 31.6s\n",
      "1201:\tlearn: 0.0874676\ttotal: 29.2s\tremaining: 31.6s\n",
      "1202:\tlearn: 0.0873908\ttotal: 29.3s\tremaining: 31.6s\n",
      "1203:\tlearn: 0.0873294\ttotal: 29.3s\tremaining: 31.5s\n",
      "1204:\tlearn: 0.0872720\ttotal: 29.3s\tremaining: 31.5s\n",
      "1205:\tlearn: 0.0872145\ttotal: 29.3s\tremaining: 31.5s\n",
      "1206:\tlearn: 0.0871044\ttotal: 29.4s\tremaining: 31.5s\n",
      "1207:\tlearn: 0.0869889\ttotal: 29.4s\tremaining: 31.4s\n",
      "1208:\tlearn: 0.0869120\ttotal: 29.4s\tremaining: 31.4s\n",
      "1209:\tlearn: 0.0868393\ttotal: 29.4s\tremaining: 31.4s\n",
      "1210:\tlearn: 0.0867143\ttotal: 29.4s\tremaining: 31.3s\n",
      "1211:\tlearn: 0.0866579\ttotal: 29.5s\tremaining: 31.3s\n",
      "1212:\tlearn: 0.0866103\ttotal: 29.5s\tremaining: 31.3s\n",
      "1213:\tlearn: 0.0865309\ttotal: 29.5s\tremaining: 31.3s\n",
      "1214:\tlearn: 0.0863719\ttotal: 29.5s\tremaining: 31.2s\n",
      "1215:\tlearn: 0.0863195\ttotal: 29.6s\tremaining: 31.2s\n",
      "1216:\tlearn: 0.0861781\ttotal: 29.6s\tremaining: 31.2s\n",
      "1217:\tlearn: 0.0861576\ttotal: 29.6s\tremaining: 31.1s\n",
      "1218:\tlearn: 0.0860690\ttotal: 29.6s\tremaining: 31.1s\n",
      "1219:\tlearn: 0.0859577\ttotal: 29.6s\tremaining: 31.1s\n",
      "1220:\tlearn: 0.0858436\ttotal: 29.7s\tremaining: 31.1s\n",
      "1221:\tlearn: 0.0857682\ttotal: 29.7s\tremaining: 31s\n",
      "1222:\tlearn: 0.0856731\ttotal: 29.7s\tremaining: 31s\n",
      "1223:\tlearn: 0.0855568\ttotal: 29.7s\tremaining: 31s\n",
      "1224:\tlearn: 0.0854666\ttotal: 29.7s\tremaining: 30.9s\n",
      "1225:\tlearn: 0.0853373\ttotal: 29.8s\tremaining: 30.9s\n",
      "1226:\tlearn: 0.0852628\ttotal: 29.8s\tremaining: 30.9s\n",
      "1227:\tlearn: 0.0851214\ttotal: 29.8s\tremaining: 30.9s\n",
      "1228:\tlearn: 0.0850613\ttotal: 29.8s\tremaining: 30.9s\n",
      "1229:\tlearn: 0.0849856\ttotal: 29.9s\tremaining: 30.8s\n",
      "1230:\tlearn: 0.0849478\ttotal: 29.9s\tremaining: 30.8s\n",
      "1231:\tlearn: 0.0849101\ttotal: 29.9s\tremaining: 30.8s\n",
      "1232:\tlearn: 0.0847750\ttotal: 29.9s\tremaining: 30.7s\n",
      "1233:\tlearn: 0.0846588\ttotal: 29.9s\tremaining: 30.7s\n",
      "1234:\tlearn: 0.0845554\ttotal: 30s\tremaining: 30.7s\n",
      "1235:\tlearn: 0.0844171\ttotal: 30s\tremaining: 30.7s\n",
      "1236:\tlearn: 0.0843089\ttotal: 30s\tremaining: 30.7s\n",
      "1237:\tlearn: 0.0842660\ttotal: 30.1s\tremaining: 30.6s\n",
      "1238:\tlearn: 0.0841682\ttotal: 30.1s\tremaining: 30.6s\n",
      "1239:\tlearn: 0.0841019\ttotal: 30.1s\tremaining: 30.6s\n",
      "1240:\tlearn: 0.0839784\ttotal: 30.1s\tremaining: 30.6s\n",
      "1241:\tlearn: 0.0839605\ttotal: 30.1s\tremaining: 30.5s\n",
      "1242:\tlearn: 0.0839196\ttotal: 30.2s\tremaining: 30.5s\n",
      "1243:\tlearn: 0.0838520\ttotal: 30.2s\tremaining: 30.5s\n",
      "1244:\tlearn: 0.0838198\ttotal: 30.2s\tremaining: 30.5s\n",
      "1245:\tlearn: 0.0837679\ttotal: 30.2s\tremaining: 30.4s\n",
      "1246:\tlearn: 0.0835836\ttotal: 30.3s\tremaining: 30.4s\n",
      "1247:\tlearn: 0.0835192\ttotal: 30.3s\tremaining: 30.4s\n",
      "1248:\tlearn: 0.0834447\ttotal: 30.3s\tremaining: 30.4s\n",
      "1249:\tlearn: 0.0833877\ttotal: 30.3s\tremaining: 30.3s\n",
      "1250:\tlearn: 0.0833385\ttotal: 30.3s\tremaining: 30.3s\n",
      "1251:\tlearn: 0.0832667\ttotal: 30.4s\tremaining: 30.3s\n",
      "1252:\tlearn: 0.0831377\ttotal: 30.4s\tremaining: 30.2s\n",
      "1253:\tlearn: 0.0829648\ttotal: 30.4s\tremaining: 30.2s\n",
      "1254:\tlearn: 0.0829168\ttotal: 30.4s\tremaining: 30.2s\n",
      "1255:\tlearn: 0.0828562\ttotal: 30.5s\tremaining: 30.2s\n",
      "1256:\tlearn: 0.0828450\ttotal: 30.5s\tremaining: 30.1s\n",
      "1257:\tlearn: 0.0827937\ttotal: 30.5s\tremaining: 30.1s\n",
      "1258:\tlearn: 0.0827616\ttotal: 30.5s\tremaining: 30.1s\n",
      "1259:\tlearn: 0.0826912\ttotal: 30.6s\tremaining: 30.1s\n",
      "1260:\tlearn: 0.0826253\ttotal: 30.6s\tremaining: 30s\n",
      "1261:\tlearn: 0.0825453\ttotal: 30.6s\tremaining: 30s\n",
      "1262:\tlearn: 0.0825037\ttotal: 30.6s\tremaining: 30s\n",
      "1263:\tlearn: 0.0823600\ttotal: 30.7s\tremaining: 30s\n",
      "1264:\tlearn: 0.0823006\ttotal: 30.7s\tremaining: 30s\n",
      "1265:\tlearn: 0.0822765\ttotal: 30.7s\tremaining: 29.9s\n",
      "1266:\tlearn: 0.0822212\ttotal: 30.7s\tremaining: 29.9s\n",
      "1267:\tlearn: 0.0820881\ttotal: 30.7s\tremaining: 29.9s\n",
      "1268:\tlearn: 0.0819497\ttotal: 30.8s\tremaining: 29.9s\n",
      "1269:\tlearn: 0.0818614\ttotal: 30.8s\tremaining: 29.8s\n",
      "1270:\tlearn: 0.0817849\ttotal: 30.8s\tremaining: 29.8s\n",
      "1271:\tlearn: 0.0817519\ttotal: 30.8s\tremaining: 29.8s\n",
      "1272:\tlearn: 0.0816364\ttotal: 30.9s\tremaining: 29.7s\n",
      "1273:\tlearn: 0.0815422\ttotal: 30.9s\tremaining: 29.7s\n",
      "1274:\tlearn: 0.0815061\ttotal: 30.9s\tremaining: 29.7s\n",
      "1275:\tlearn: 0.0814057\ttotal: 30.9s\tremaining: 29.7s\n",
      "1276:\tlearn: 0.0812991\ttotal: 31s\tremaining: 29.6s\n",
      "1277:\tlearn: 0.0811847\ttotal: 31s\tremaining: 29.6s\n",
      "1278:\tlearn: 0.0810779\ttotal: 31s\tremaining: 29.6s\n",
      "1279:\tlearn: 0.0810054\ttotal: 31s\tremaining: 29.6s\n",
      "1280:\tlearn: 0.0809093\ttotal: 31s\tremaining: 29.5s\n",
      "1281:\tlearn: 0.0808544\ttotal: 31.1s\tremaining: 29.5s\n",
      "1282:\tlearn: 0.0808274\ttotal: 31.1s\tremaining: 29.5s\n",
      "1283:\tlearn: 0.0807747\ttotal: 31.1s\tremaining: 29.5s\n",
      "1284:\tlearn: 0.0807129\ttotal: 31.1s\tremaining: 29.4s\n",
      "1285:\tlearn: 0.0806089\ttotal: 31.1s\tremaining: 29.4s\n",
      "1286:\tlearn: 0.0805658\ttotal: 31.2s\tremaining: 29.4s\n",
      "1287:\tlearn: 0.0804752\ttotal: 31.2s\tremaining: 29.3s\n",
      "1288:\tlearn: 0.0804368\ttotal: 31.2s\tremaining: 29.3s\n",
      "1289:\tlearn: 0.0803500\ttotal: 31.2s\tremaining: 29.3s\n",
      "1290:\tlearn: 0.0802452\ttotal: 31.2s\tremaining: 29.3s\n",
      "1291:\tlearn: 0.0801825\ttotal: 31.3s\tremaining: 29.2s\n",
      "1292:\tlearn: 0.0801056\ttotal: 31.3s\tremaining: 29.2s\n",
      "1293:\tlearn: 0.0800388\ttotal: 31.3s\tremaining: 29.2s\n",
      "1294:\tlearn: 0.0799222\ttotal: 31.3s\tremaining: 29.2s\n",
      "1295:\tlearn: 0.0798415\ttotal: 31.4s\tremaining: 29.1s\n",
      "1296:\tlearn: 0.0797709\ttotal: 31.4s\tremaining: 29.1s\n",
      "1297:\tlearn: 0.0796352\ttotal: 31.4s\tremaining: 29.1s\n",
      "1298:\tlearn: 0.0795520\ttotal: 31.4s\tremaining: 29.1s\n"
     ]
    },
    {
     "name": "stdout",
     "output_type": "stream",
     "text": [
      "1299:\tlearn: 0.0794004\ttotal: 31.5s\tremaining: 29s\n",
      "1300:\tlearn: 0.0793873\ttotal: 31.5s\tremaining: 29s\n",
      "1301:\tlearn: 0.0793197\ttotal: 31.5s\tremaining: 29s\n",
      "1302:\tlearn: 0.0791838\ttotal: 31.5s\tremaining: 28.9s\n",
      "1303:\tlearn: 0.0791065\ttotal: 31.5s\tremaining: 28.9s\n",
      "1304:\tlearn: 0.0790670\ttotal: 31.6s\tremaining: 28.9s\n",
      "1305:\tlearn: 0.0789512\ttotal: 31.6s\tremaining: 28.9s\n",
      "1306:\tlearn: 0.0788551\ttotal: 31.6s\tremaining: 28.8s\n",
      "1307:\tlearn: 0.0787946\ttotal: 31.6s\tremaining: 28.8s\n",
      "1308:\tlearn: 0.0787180\ttotal: 31.6s\tremaining: 28.8s\n",
      "1309:\tlearn: 0.0786498\ttotal: 31.7s\tremaining: 28.8s\n",
      "1310:\tlearn: 0.0785719\ttotal: 31.7s\tremaining: 28.7s\n",
      "1311:\tlearn: 0.0785220\ttotal: 31.7s\tremaining: 28.7s\n",
      "1312:\tlearn: 0.0785037\ttotal: 31.7s\tremaining: 28.7s\n",
      "1313:\tlearn: 0.0784805\ttotal: 31.8s\tremaining: 28.7s\n",
      "1314:\tlearn: 0.0784173\ttotal: 31.8s\tremaining: 28.6s\n",
      "1315:\tlearn: 0.0783273\ttotal: 31.8s\tremaining: 28.6s\n",
      "1316:\tlearn: 0.0782185\ttotal: 31.8s\tremaining: 28.6s\n",
      "1317:\tlearn: 0.0781682\ttotal: 31.8s\tremaining: 28.6s\n",
      "1318:\tlearn: 0.0781489\ttotal: 31.9s\tremaining: 28.5s\n",
      "1319:\tlearn: 0.0780345\ttotal: 31.9s\tremaining: 28.5s\n",
      "1320:\tlearn: 0.0779919\ttotal: 31.9s\tremaining: 28.5s\n",
      "1321:\tlearn: 0.0779258\ttotal: 31.9s\tremaining: 28.5s\n",
      "1322:\tlearn: 0.0778444\ttotal: 32s\tremaining: 28.4s\n",
      "1323:\tlearn: 0.0777315\ttotal: 32s\tremaining: 28.4s\n",
      "1324:\tlearn: 0.0777025\ttotal: 32s\tremaining: 28.4s\n",
      "1325:\tlearn: 0.0776384\ttotal: 32s\tremaining: 28.4s\n",
      "1326:\tlearn: 0.0775778\ttotal: 32.1s\tremaining: 28.3s\n",
      "1327:\tlearn: 0.0775128\ttotal: 32.1s\tremaining: 28.3s\n",
      "1328:\tlearn: 0.0774196\ttotal: 32.1s\tremaining: 28.3s\n",
      "1329:\tlearn: 0.0772869\ttotal: 32.1s\tremaining: 28.3s\n",
      "1330:\tlearn: 0.0772390\ttotal: 32.2s\tremaining: 28.2s\n",
      "1331:\tlearn: 0.0771552\ttotal: 32.2s\tremaining: 28.2s\n",
      "1332:\tlearn: 0.0770679\ttotal: 32.2s\tremaining: 28.2s\n",
      "1333:\tlearn: 0.0770289\ttotal: 32.2s\tremaining: 28.2s\n",
      "1334:\tlearn: 0.0769562\ttotal: 32.3s\tremaining: 28.1s\n",
      "1335:\tlearn: 0.0769049\ttotal: 32.3s\tremaining: 28.1s\n",
      "1336:\tlearn: 0.0768676\ttotal: 32.3s\tremaining: 28.1s\n",
      "1337:\tlearn: 0.0768411\ttotal: 32.3s\tremaining: 28.1s\n",
      "1338:\tlearn: 0.0767369\ttotal: 32.3s\tremaining: 28s\n",
      "1339:\tlearn: 0.0766156\ttotal: 32.4s\tremaining: 28s\n",
      "1340:\tlearn: 0.0765318\ttotal: 32.4s\tremaining: 28s\n",
      "1341:\tlearn: 0.0764921\ttotal: 32.4s\tremaining: 28s\n",
      "1342:\tlearn: 0.0764456\ttotal: 32.4s\tremaining: 27.9s\n",
      "1343:\tlearn: 0.0763753\ttotal: 32.5s\tremaining: 27.9s\n",
      "1344:\tlearn: 0.0763069\ttotal: 32.5s\tremaining: 27.9s\n",
      "1345:\tlearn: 0.0762770\ttotal: 32.5s\tremaining: 27.9s\n",
      "1346:\tlearn: 0.0762178\ttotal: 32.5s\tremaining: 27.8s\n",
      "1347:\tlearn: 0.0761482\ttotal: 32.6s\tremaining: 27.8s\n",
      "1348:\tlearn: 0.0759638\ttotal: 32.6s\tremaining: 27.8s\n",
      "1349:\tlearn: 0.0758803\ttotal: 32.6s\tremaining: 27.8s\n",
      "1350:\tlearn: 0.0758751\ttotal: 32.6s\tremaining: 27.7s\n",
      "1351:\tlearn: 0.0758546\ttotal: 32.6s\tremaining: 27.7s\n",
      "1352:\tlearn: 0.0757493\ttotal: 32.7s\tremaining: 27.7s\n",
      "1353:\tlearn: 0.0756667\ttotal: 32.7s\tremaining: 27.7s\n",
      "1354:\tlearn: 0.0755903\ttotal: 32.7s\tremaining: 27.6s\n",
      "1355:\tlearn: 0.0754771\ttotal: 32.7s\tremaining: 27.6s\n",
      "1356:\tlearn: 0.0754510\ttotal: 32.8s\tremaining: 27.6s\n",
      "1357:\tlearn: 0.0753883\ttotal: 32.8s\tremaining: 27.6s\n",
      "1358:\tlearn: 0.0753444\ttotal: 32.8s\tremaining: 27.5s\n",
      "1359:\tlearn: 0.0752234\ttotal: 32.8s\tremaining: 27.5s\n",
      "1360:\tlearn: 0.0752208\ttotal: 32.8s\tremaining: 27.5s\n",
      "1361:\tlearn: 0.0751779\ttotal: 32.8s\tremaining: 27.4s\n",
      "1362:\tlearn: 0.0751120\ttotal: 32.9s\tremaining: 27.4s\n",
      "1363:\tlearn: 0.0750780\ttotal: 32.9s\tremaining: 27.4s\n",
      "1364:\tlearn: 0.0750221\ttotal: 32.9s\tremaining: 27.4s\n",
      "1365:\tlearn: 0.0749546\ttotal: 32.9s\tremaining: 27.3s\n",
      "1366:\tlearn: 0.0749150\ttotal: 33s\tremaining: 27.3s\n",
      "1367:\tlearn: 0.0748729\ttotal: 33s\tremaining: 27.3s\n",
      "1368:\tlearn: 0.0747865\ttotal: 33s\tremaining: 27.3s\n",
      "1369:\tlearn: 0.0747073\ttotal: 33s\tremaining: 27.3s\n",
      "1370:\tlearn: 0.0746564\ttotal: 33.1s\tremaining: 27.2s\n",
      "1371:\tlearn: 0.0746046\ttotal: 33.1s\tremaining: 27.2s\n",
      "1372:\tlearn: 0.0745708\ttotal: 33.1s\tremaining: 27.2s\n",
      "1373:\tlearn: 0.0744834\ttotal: 33.1s\tremaining: 27.2s\n",
      "1374:\tlearn: 0.0744184\ttotal: 33.2s\tremaining: 27.1s\n",
      "1375:\tlearn: 0.0743641\ttotal: 33.2s\tremaining: 27.1s\n",
      "1376:\tlearn: 0.0742703\ttotal: 33.2s\tremaining: 27.1s\n",
      "1377:\tlearn: 0.0741665\ttotal: 33.2s\tremaining: 27.1s\n",
      "1378:\tlearn: 0.0740538\ttotal: 33.3s\tremaining: 27s\n",
      "1379:\tlearn: 0.0740359\ttotal: 33.3s\tremaining: 27s\n",
      "1380:\tlearn: 0.0739348\ttotal: 33.3s\tremaining: 27s\n",
      "1381:\tlearn: 0.0739026\ttotal: 33.3s\tremaining: 27s\n",
      "1382:\tlearn: 0.0738573\ttotal: 33.3s\tremaining: 26.9s\n",
      "1383:\tlearn: 0.0738275\ttotal: 33.4s\tremaining: 26.9s\n",
      "1384:\tlearn: 0.0737832\ttotal: 33.4s\tremaining: 26.9s\n",
      "1385:\tlearn: 0.0736826\ttotal: 33.4s\tremaining: 26.8s\n",
      "1386:\tlearn: 0.0736185\ttotal: 33.4s\tremaining: 26.8s\n",
      "1387:\tlearn: 0.0735535\ttotal: 33.5s\tremaining: 26.8s\n",
      "1388:\tlearn: 0.0734519\ttotal: 33.5s\tremaining: 26.8s\n",
      "1389:\tlearn: 0.0734316\ttotal: 33.5s\tremaining: 26.7s\n",
      "1390:\tlearn: 0.0733993\ttotal: 33.5s\tremaining: 26.7s\n",
      "1391:\tlearn: 0.0733726\ttotal: 33.5s\tremaining: 26.7s\n",
      "1392:\tlearn: 0.0733693\ttotal: 33.5s\tremaining: 26.7s\n",
      "1393:\tlearn: 0.0732939\ttotal: 33.6s\tremaining: 26.6s\n",
      "1394:\tlearn: 0.0732486\ttotal: 33.6s\tremaining: 26.6s\n",
      "1395:\tlearn: 0.0731891\ttotal: 33.6s\tremaining: 26.6s\n",
      "1396:\tlearn: 0.0731262\ttotal: 33.6s\tremaining: 26.6s\n",
      "1397:\tlearn: 0.0730885\ttotal: 33.6s\tremaining: 26.5s\n",
      "1398:\tlearn: 0.0730006\ttotal: 33.7s\tremaining: 26.5s\n",
      "1399:\tlearn: 0.0729357\ttotal: 33.7s\tremaining: 26.5s\n",
      "1400:\tlearn: 0.0728777\ttotal: 33.7s\tremaining: 26.4s\n",
      "1401:\tlearn: 0.0728183\ttotal: 33.7s\tremaining: 26.4s\n",
      "1402:\tlearn: 0.0727411\ttotal: 33.8s\tremaining: 26.4s\n",
      "1403:\tlearn: 0.0727028\ttotal: 33.8s\tremaining: 26.4s\n",
      "1404:\tlearn: 0.0726433\ttotal: 33.8s\tremaining: 26.3s\n",
      "1405:\tlearn: 0.0725736\ttotal: 33.8s\tremaining: 26.3s\n",
      "1406:\tlearn: 0.0725583\ttotal: 33.8s\tremaining: 26.3s\n",
      "1407:\tlearn: 0.0725309\ttotal: 33.9s\tremaining: 26.3s\n",
      "1408:\tlearn: 0.0724666\ttotal: 33.9s\tremaining: 26.2s\n",
      "1409:\tlearn: 0.0724345\ttotal: 33.9s\tremaining: 26.2s\n",
      "1410:\tlearn: 0.0723834\ttotal: 33.9s\tremaining: 26.2s\n",
      "1411:\tlearn: 0.0723526\ttotal: 34s\tremaining: 26.2s\n",
      "1412:\tlearn: 0.0722845\ttotal: 34s\tremaining: 26.1s\n",
      "1413:\tlearn: 0.0722112\ttotal: 34s\tremaining: 26.1s\n",
      "1414:\tlearn: 0.0721729\ttotal: 34s\tremaining: 26.1s\n",
      "1415:\tlearn: 0.0720711\ttotal: 34s\tremaining: 26.1s\n",
      "1416:\tlearn: 0.0719743\ttotal: 34.1s\tremaining: 26s\n",
      "1417:\tlearn: 0.0718378\ttotal: 34.1s\tremaining: 26s\n",
      "1418:\tlearn: 0.0718003\ttotal: 34.1s\tremaining: 26s\n",
      "1419:\tlearn: 0.0717294\ttotal: 34.1s\tremaining: 26s\n",
      "1420:\tlearn: 0.0716939\ttotal: 34.2s\tremaining: 25.9s\n",
      "1421:\tlearn: 0.0716219\ttotal: 34.2s\tremaining: 25.9s\n",
      "1422:\tlearn: 0.0714973\ttotal: 34.2s\tremaining: 25.9s\n",
      "1423:\tlearn: 0.0714630\ttotal: 34.2s\tremaining: 25.9s\n",
      "1424:\tlearn: 0.0714001\ttotal: 34.3s\tremaining: 25.8s\n",
      "1425:\tlearn: 0.0713357\ttotal: 34.3s\tremaining: 25.8s\n",
      "1426:\tlearn: 0.0712818\ttotal: 34.3s\tremaining: 25.8s\n",
      "1427:\tlearn: 0.0712414\ttotal: 34.3s\tremaining: 25.8s\n",
      "1428:\tlearn: 0.0712130\ttotal: 34.4s\tremaining: 25.8s\n",
      "1429:\tlearn: 0.0711322\ttotal: 34.4s\tremaining: 25.7s\n",
      "1430:\tlearn: 0.0710605\ttotal: 34.4s\tremaining: 25.7s\n",
      "1431:\tlearn: 0.0709934\ttotal: 34.4s\tremaining: 25.7s\n",
      "1432:\tlearn: 0.0708555\ttotal: 34.5s\tremaining: 25.7s\n",
      "1433:\tlearn: 0.0707817\ttotal: 34.5s\tremaining: 25.6s\n",
      "1434:\tlearn: 0.0706847\ttotal: 34.5s\tremaining: 25.6s\n",
      "1435:\tlearn: 0.0706591\ttotal: 34.5s\tremaining: 25.6s\n",
      "1436:\tlearn: 0.0706413\ttotal: 34.6s\tremaining: 25.6s\n",
      "1437:\tlearn: 0.0705717\ttotal: 34.6s\tremaining: 25.6s\n",
      "1438:\tlearn: 0.0705045\ttotal: 34.6s\tremaining: 25.5s\n",
      "1439:\tlearn: 0.0704801\ttotal: 34.7s\tremaining: 25.5s\n",
      "1440:\tlearn: 0.0703887\ttotal: 34.7s\tremaining: 25.5s\n",
      "1441:\tlearn: 0.0703680\ttotal: 34.7s\tremaining: 25.5s\n",
      "1442:\tlearn: 0.0703357\ttotal: 34.7s\tremaining: 25.4s\n",
      "1443:\tlearn: 0.0703226\ttotal: 34.8s\tremaining: 25.4s\n",
      "1444:\tlearn: 0.0701971\ttotal: 34.8s\tremaining: 25.4s\n",
      "1445:\tlearn: 0.0701001\ttotal: 34.8s\tremaining: 25.4s\n",
      "1446:\tlearn: 0.0700777\ttotal: 34.8s\tremaining: 25.3s\n",
      "1447:\tlearn: 0.0700220\ttotal: 34.9s\tremaining: 25.3s\n",
      "1448:\tlearn: 0.0700043\ttotal: 34.9s\tremaining: 25.3s\n",
      "1449:\tlearn: 0.0699613\ttotal: 34.9s\tremaining: 25.3s\n",
      "1450:\tlearn: 0.0698621\ttotal: 34.9s\tremaining: 25.3s\n",
      "1451:\tlearn: 0.0697867\ttotal: 35s\tremaining: 25.2s\n",
      "1452:\tlearn: 0.0697242\ttotal: 35s\tremaining: 25.2s\n",
      "1453:\tlearn: 0.0696921\ttotal: 35s\tremaining: 25.2s\n",
      "1454:\tlearn: 0.0696116\ttotal: 35s\tremaining: 25.2s\n",
      "1455:\tlearn: 0.0695221\ttotal: 35.1s\tremaining: 25.1s\n"
     ]
    },
    {
     "name": "stdout",
     "output_type": "stream",
     "text": [
      "1456:\tlearn: 0.0694236\ttotal: 35.1s\tremaining: 25.1s\n",
      "1457:\tlearn: 0.0693838\ttotal: 35.1s\tremaining: 25.1s\n",
      "1458:\tlearn: 0.0693403\ttotal: 35.2s\tremaining: 25.1s\n",
      "1459:\tlearn: 0.0693291\ttotal: 35.2s\tremaining: 25.1s\n",
      "1460:\tlearn: 0.0692783\ttotal: 35.2s\tremaining: 25s\n",
      "1461:\tlearn: 0.0692271\ttotal: 35.2s\tremaining: 25s\n",
      "1462:\tlearn: 0.0691380\ttotal: 35.3s\tremaining: 25s\n",
      "1463:\tlearn: 0.0690936\ttotal: 35.3s\tremaining: 25s\n",
      "1464:\tlearn: 0.0690488\ttotal: 35.3s\tremaining: 25s\n",
      "1465:\tlearn: 0.0690357\ttotal: 35.4s\tremaining: 24.9s\n",
      "1466:\tlearn: 0.0690168\ttotal: 35.4s\tremaining: 24.9s\n",
      "1467:\tlearn: 0.0689749\ttotal: 35.4s\tremaining: 24.9s\n",
      "1468:\tlearn: 0.0689527\ttotal: 35.4s\tremaining: 24.9s\n",
      "1469:\tlearn: 0.0688933\ttotal: 35.5s\tremaining: 24.8s\n",
      "1470:\tlearn: 0.0688095\ttotal: 35.5s\tremaining: 24.8s\n",
      "1471:\tlearn: 0.0687763\ttotal: 35.5s\tremaining: 24.8s\n",
      "1472:\tlearn: 0.0687276\ttotal: 35.5s\tremaining: 24.8s\n",
      "1473:\tlearn: 0.0686735\ttotal: 35.6s\tremaining: 24.7s\n",
      "1474:\tlearn: 0.0685864\ttotal: 35.6s\tremaining: 24.7s\n",
      "1475:\tlearn: 0.0685538\ttotal: 35.6s\tremaining: 24.7s\n",
      "1476:\tlearn: 0.0685230\ttotal: 35.6s\tremaining: 24.7s\n",
      "1477:\tlearn: 0.0684749\ttotal: 35.7s\tremaining: 24.7s\n",
      "1478:\tlearn: 0.0684161\ttotal: 35.7s\tremaining: 24.6s\n",
      "1479:\tlearn: 0.0683891\ttotal: 35.7s\tremaining: 24.6s\n",
      "1480:\tlearn: 0.0683626\ttotal: 35.8s\tremaining: 24.6s\n",
      "1481:\tlearn: 0.0683012\ttotal: 35.8s\tremaining: 24.6s\n",
      "1482:\tlearn: 0.0682702\ttotal: 35.8s\tremaining: 24.6s\n",
      "1483:\tlearn: 0.0682413\ttotal: 35.8s\tremaining: 24.5s\n",
      "1484:\tlearn: 0.0682162\ttotal: 35.8s\tremaining: 24.5s\n",
      "1485:\tlearn: 0.0681798\ttotal: 35.9s\tremaining: 24.5s\n",
      "1486:\tlearn: 0.0681421\ttotal: 35.9s\tremaining: 24.4s\n",
      "1487:\tlearn: 0.0680586\ttotal: 35.9s\tremaining: 24.4s\n",
      "1488:\tlearn: 0.0680028\ttotal: 35.9s\tremaining: 24.4s\n",
      "1489:\tlearn: 0.0679521\ttotal: 36s\tremaining: 24.4s\n",
      "1490:\tlearn: 0.0679140\ttotal: 36s\tremaining: 24.3s\n",
      "1491:\tlearn: 0.0678551\ttotal: 36s\tremaining: 24.3s\n",
      "1492:\tlearn: 0.0678154\ttotal: 36s\tremaining: 24.3s\n",
      "1493:\tlearn: 0.0677951\ttotal: 36s\tremaining: 24.3s\n",
      "1494:\tlearn: 0.0677120\ttotal: 36.1s\tremaining: 24.2s\n",
      "1495:\tlearn: 0.0676493\ttotal: 36.1s\tremaining: 24.2s\n",
      "1496:\tlearn: 0.0676249\ttotal: 36.1s\tremaining: 24.2s\n",
      "1497:\tlearn: 0.0675778\ttotal: 36.1s\tremaining: 24.2s\n",
      "1498:\tlearn: 0.0675417\ttotal: 36.2s\tremaining: 24.1s\n",
      "1499:\tlearn: 0.0674685\ttotal: 36.2s\tremaining: 24.1s\n",
      "1500:\tlearn: 0.0673679\ttotal: 36.2s\tremaining: 24.1s\n",
      "1501:\tlearn: 0.0673277\ttotal: 36.2s\tremaining: 24.1s\n",
      "1502:\tlearn: 0.0673041\ttotal: 36.3s\tremaining: 24.1s\n",
      "1503:\tlearn: 0.0672559\ttotal: 36.3s\tremaining: 24s\n",
      "1504:\tlearn: 0.0672319\ttotal: 36.3s\tremaining: 24s\n",
      "1505:\tlearn: 0.0672052\ttotal: 36.3s\tremaining: 24s\n",
      "1506:\tlearn: 0.0671887\ttotal: 36.3s\tremaining: 23.9s\n",
      "1507:\tlearn: 0.0671356\ttotal: 36.4s\tremaining: 23.9s\n",
      "1508:\tlearn: 0.0670600\ttotal: 36.4s\tremaining: 23.9s\n",
      "1509:\tlearn: 0.0670305\ttotal: 36.4s\tremaining: 23.9s\n",
      "1510:\tlearn: 0.0669786\ttotal: 36.4s\tremaining: 23.8s\n",
      "1511:\tlearn: 0.0669302\ttotal: 36.5s\tremaining: 23.8s\n",
      "1512:\tlearn: 0.0668813\ttotal: 36.5s\tremaining: 23.8s\n",
      "1513:\tlearn: 0.0668380\ttotal: 36.5s\tremaining: 23.8s\n",
      "1514:\tlearn: 0.0667881\ttotal: 36.5s\tremaining: 23.7s\n",
      "1515:\tlearn: 0.0667675\ttotal: 36.5s\tremaining: 23.7s\n",
      "1516:\tlearn: 0.0667463\ttotal: 36.6s\tremaining: 23.7s\n",
      "1517:\tlearn: 0.0666755\ttotal: 36.6s\tremaining: 23.7s\n",
      "1518:\tlearn: 0.0666216\ttotal: 36.6s\tremaining: 23.7s\n",
      "1519:\tlearn: 0.0665709\ttotal: 36.7s\tremaining: 23.6s\n",
      "1520:\tlearn: 0.0664780\ttotal: 36.7s\tremaining: 23.6s\n",
      "1521:\tlearn: 0.0664292\ttotal: 36.7s\tremaining: 23.6s\n",
      "1522:\tlearn: 0.0663736\ttotal: 36.7s\tremaining: 23.6s\n",
      "1523:\tlearn: 0.0663588\ttotal: 36.8s\tremaining: 23.5s\n",
      "1524:\tlearn: 0.0662393\ttotal: 36.8s\tremaining: 23.5s\n",
      "1525:\tlearn: 0.0661144\ttotal: 36.8s\tremaining: 23.5s\n",
      "1526:\tlearn: 0.0660613\ttotal: 36.9s\tremaining: 23.5s\n",
      "1527:\tlearn: 0.0660136\ttotal: 36.9s\tremaining: 23.5s\n",
      "1528:\tlearn: 0.0659682\ttotal: 36.9s\tremaining: 23.4s\n",
      "1529:\tlearn: 0.0659195\ttotal: 36.9s\tremaining: 23.4s\n",
      "1530:\tlearn: 0.0658732\ttotal: 37s\tremaining: 23.4s\n",
      "1531:\tlearn: 0.0658297\ttotal: 37s\tremaining: 23.4s\n",
      "1532:\tlearn: 0.0657721\ttotal: 37s\tremaining: 23.4s\n",
      "1533:\tlearn: 0.0657470\ttotal: 37s\tremaining: 23.3s\n",
      "1534:\tlearn: 0.0657037\ttotal: 37.1s\tremaining: 23.3s\n",
      "1535:\tlearn: 0.0656932\ttotal: 37.1s\tremaining: 23.3s\n",
      "1536:\tlearn: 0.0656030\ttotal: 37.1s\tremaining: 23.3s\n",
      "1537:\tlearn: 0.0655607\ttotal: 37.1s\tremaining: 23.2s\n",
      "1538:\tlearn: 0.0655487\ttotal: 37.2s\tremaining: 23.2s\n",
      "1539:\tlearn: 0.0655146\ttotal: 37.2s\tremaining: 23.2s\n",
      "1540:\tlearn: 0.0654696\ttotal: 37.2s\tremaining: 23.2s\n",
      "1541:\tlearn: 0.0654353\ttotal: 37.2s\tremaining: 23.1s\n",
      "1542:\tlearn: 0.0654037\ttotal: 37.2s\tremaining: 23.1s\n",
      "1543:\tlearn: 0.0653597\ttotal: 37.3s\tremaining: 23.1s\n",
      "1544:\tlearn: 0.0653285\ttotal: 37.3s\tremaining: 23.1s\n",
      "1545:\tlearn: 0.0652527\ttotal: 37.3s\tremaining: 23s\n",
      "1546:\tlearn: 0.0652423\ttotal: 37.4s\tremaining: 23s\n",
      "1547:\tlearn: 0.0652106\ttotal: 37.4s\tremaining: 23s\n",
      "1548:\tlearn: 0.0651794\ttotal: 37.4s\tremaining: 23s\n",
      "1549:\tlearn: 0.0651597\ttotal: 37.4s\tremaining: 22.9s\n",
      "1550:\tlearn: 0.0650502\ttotal: 37.5s\tremaining: 22.9s\n",
      "1551:\tlearn: 0.0650071\ttotal: 37.5s\tremaining: 22.9s\n",
      "1552:\tlearn: 0.0649910\ttotal: 37.5s\tremaining: 22.9s\n",
      "1553:\tlearn: 0.0649217\ttotal: 37.6s\tremaining: 22.9s\n",
      "1554:\tlearn: 0.0649107\ttotal: 37.6s\tremaining: 22.8s\n",
      "1555:\tlearn: 0.0648752\ttotal: 37.6s\tremaining: 22.8s\n",
      "1556:\tlearn: 0.0648033\ttotal: 37.6s\tremaining: 22.8s\n",
      "1557:\tlearn: 0.0647255\ttotal: 37.7s\tremaining: 22.8s\n",
      "1558:\tlearn: 0.0646956\ttotal: 37.7s\tremaining: 22.8s\n",
      "1559:\tlearn: 0.0646383\ttotal: 37.7s\tremaining: 22.7s\n",
      "1560:\tlearn: 0.0646001\ttotal: 37.8s\tremaining: 22.7s\n",
      "1561:\tlearn: 0.0645725\ttotal: 37.8s\tremaining: 22.7s\n",
      "1562:\tlearn: 0.0645216\ttotal: 37.8s\tremaining: 22.7s\n",
      "1563:\tlearn: 0.0644439\ttotal: 37.8s\tremaining: 22.6s\n",
      "1564:\tlearn: 0.0643980\ttotal: 37.9s\tremaining: 22.6s\n",
      "1565:\tlearn: 0.0643336\ttotal: 37.9s\tremaining: 22.6s\n",
      "1566:\tlearn: 0.0643076\ttotal: 37.9s\tremaining: 22.6s\n",
      "1567:\tlearn: 0.0642643\ttotal: 38s\tremaining: 22.6s\n",
      "1568:\tlearn: 0.0642432\ttotal: 38s\tremaining: 22.5s\n",
      "1569:\tlearn: 0.0642111\ttotal: 38s\tremaining: 22.5s\n",
      "1570:\tlearn: 0.0641734\ttotal: 38s\tremaining: 22.5s\n",
      "1571:\tlearn: 0.0641523\ttotal: 38s\tremaining: 22.5s\n",
      "1572:\tlearn: 0.0641439\ttotal: 38.1s\tremaining: 22.4s\n",
      "1573:\tlearn: 0.0641018\ttotal: 38.1s\tremaining: 22.4s\n",
      "1574:\tlearn: 0.0640732\ttotal: 38.1s\tremaining: 22.4s\n",
      "1575:\tlearn: 0.0640093\ttotal: 38.1s\tremaining: 22.4s\n",
      "1576:\tlearn: 0.0639599\ttotal: 38.2s\tremaining: 22.3s\n",
      "1577:\tlearn: 0.0639420\ttotal: 38.2s\tremaining: 22.3s\n",
      "1578:\tlearn: 0.0638804\ttotal: 38.2s\tremaining: 22.3s\n",
      "1579:\tlearn: 0.0638329\ttotal: 38.2s\tremaining: 22.3s\n",
      "1580:\tlearn: 0.0637597\ttotal: 38.3s\tremaining: 22.2s\n",
      "1581:\tlearn: 0.0636827\ttotal: 38.3s\tremaining: 22.2s\n",
      "1582:\tlearn: 0.0636500\ttotal: 38.3s\tremaining: 22.2s\n",
      "1583:\tlearn: 0.0635812\ttotal: 38.4s\tremaining: 22.2s\n",
      "1584:\tlearn: 0.0634983\ttotal: 38.4s\tremaining: 22.2s\n",
      "1585:\tlearn: 0.0634285\ttotal: 38.4s\tremaining: 22.1s\n",
      "1586:\tlearn: 0.0633727\ttotal: 38.5s\tremaining: 22.1s\n",
      "1587:\tlearn: 0.0633491\ttotal: 38.5s\tremaining: 22.1s\n",
      "1588:\tlearn: 0.0632113\ttotal: 38.5s\tremaining: 22.1s\n",
      "1589:\tlearn: 0.0632020\ttotal: 38.5s\tremaining: 22.1s\n",
      "1590:\tlearn: 0.0631501\ttotal: 38.6s\tremaining: 22s\n",
      "1591:\tlearn: 0.0631014\ttotal: 38.6s\tremaining: 22s\n",
      "1592:\tlearn: 0.0630251\ttotal: 38.6s\tremaining: 22s\n",
      "1593:\tlearn: 0.0629795\ttotal: 38.6s\tremaining: 22s\n",
      "1594:\tlearn: 0.0629396\ttotal: 38.7s\tremaining: 21.9s\n",
      "1595:\tlearn: 0.0628929\ttotal: 38.7s\tremaining: 21.9s\n",
      "1596:\tlearn: 0.0628266\ttotal: 38.7s\tremaining: 21.9s\n",
      "1597:\tlearn: 0.0627966\ttotal: 38.8s\tremaining: 21.9s\n",
      "1598:\tlearn: 0.0627580\ttotal: 38.8s\tremaining: 21.9s\n",
      "1599:\tlearn: 0.0627234\ttotal: 38.8s\tremaining: 21.8s\n",
      "1600:\tlearn: 0.0626620\ttotal: 38.8s\tremaining: 21.8s\n",
      "1601:\tlearn: 0.0626028\ttotal: 38.9s\tremaining: 21.8s\n",
      "1602:\tlearn: 0.0625759\ttotal: 38.9s\tremaining: 21.8s\n",
      "1603:\tlearn: 0.0625419\ttotal: 38.9s\tremaining: 21.7s\n",
      "1604:\tlearn: 0.0625125\ttotal: 39s\tremaining: 21.7s\n",
      "1605:\tlearn: 0.0624349\ttotal: 39s\tremaining: 21.7s\n",
      "1606:\tlearn: 0.0623910\ttotal: 39s\tremaining: 21.7s\n",
      "1607:\tlearn: 0.0623871\ttotal: 39s\tremaining: 21.6s\n",
      "1608:\tlearn: 0.0623527\ttotal: 39s\tremaining: 21.6s\n",
      "1609:\tlearn: 0.0623333\ttotal: 39.1s\tremaining: 21.6s\n",
      "1610:\tlearn: 0.0622837\ttotal: 39.1s\tremaining: 21.6s\n",
      "1611:\tlearn: 0.0622408\ttotal: 39.1s\tremaining: 21.6s\n",
      "1612:\tlearn: 0.0621749\ttotal: 39.2s\tremaining: 21.5s\n"
     ]
    },
    {
     "name": "stdout",
     "output_type": "stream",
     "text": [
      "1613:\tlearn: 0.0621203\ttotal: 39.2s\tremaining: 21.5s\n",
      "1614:\tlearn: 0.0620915\ttotal: 39.2s\tremaining: 21.5s\n",
      "1615:\tlearn: 0.0620531\ttotal: 39.2s\tremaining: 21.5s\n",
      "1616:\tlearn: 0.0620108\ttotal: 39.2s\tremaining: 21.4s\n",
      "1617:\tlearn: 0.0619811\ttotal: 39.3s\tremaining: 21.4s\n",
      "1618:\tlearn: 0.0619327\ttotal: 39.3s\tremaining: 21.4s\n",
      "1619:\tlearn: 0.0619122\ttotal: 39.3s\tremaining: 21.4s\n",
      "1620:\tlearn: 0.0618687\ttotal: 39.3s\tremaining: 21.3s\n",
      "1621:\tlearn: 0.0618392\ttotal: 39.4s\tremaining: 21.3s\n",
      "1622:\tlearn: 0.0617416\ttotal: 39.4s\tremaining: 21.3s\n",
      "1623:\tlearn: 0.0617384\ttotal: 39.4s\tremaining: 21.3s\n",
      "1624:\tlearn: 0.0616561\ttotal: 39.4s\tremaining: 21.2s\n",
      "1625:\tlearn: 0.0616368\ttotal: 39.5s\tremaining: 21.2s\n",
      "1626:\tlearn: 0.0615765\ttotal: 39.5s\tremaining: 21.2s\n",
      "1627:\tlearn: 0.0614451\ttotal: 39.5s\tremaining: 21.2s\n",
      "1628:\tlearn: 0.0613834\ttotal: 39.5s\tremaining: 21.1s\n",
      "1629:\tlearn: 0.0613370\ttotal: 39.6s\tremaining: 21.1s\n",
      "1630:\tlearn: 0.0612829\ttotal: 39.6s\tremaining: 21.1s\n",
      "1631:\tlearn: 0.0611605\ttotal: 39.6s\tremaining: 21.1s\n",
      "1632:\tlearn: 0.0610871\ttotal: 39.7s\tremaining: 21.1s\n",
      "1633:\tlearn: 0.0610332\ttotal: 39.7s\tremaining: 21s\n",
      "1634:\tlearn: 0.0609791\ttotal: 39.7s\tremaining: 21s\n",
      "1635:\tlearn: 0.0609265\ttotal: 39.8s\tremaining: 21s\n",
      "1636:\tlearn: 0.0608995\ttotal: 39.8s\tremaining: 21s\n",
      "1637:\tlearn: 0.0608672\ttotal: 39.8s\tremaining: 20.9s\n",
      "1638:\tlearn: 0.0608374\ttotal: 39.8s\tremaining: 20.9s\n",
      "1639:\tlearn: 0.0608202\ttotal: 39.8s\tremaining: 20.9s\n",
      "1640:\tlearn: 0.0607800\ttotal: 39.9s\tremaining: 20.9s\n",
      "1641:\tlearn: 0.0607657\ttotal: 39.9s\tremaining: 20.8s\n",
      "1642:\tlearn: 0.0606915\ttotal: 39.9s\tremaining: 20.8s\n",
      "1643:\tlearn: 0.0605739\ttotal: 40s\tremaining: 20.8s\n",
      "1644:\tlearn: 0.0605036\ttotal: 40s\tremaining: 20.8s\n",
      "1645:\tlearn: 0.0604360\ttotal: 40s\tremaining: 20.8s\n",
      "1646:\tlearn: 0.0603298\ttotal: 40s\tremaining: 20.7s\n",
      "1647:\tlearn: 0.0602987\ttotal: 40s\tremaining: 20.7s\n",
      "1648:\tlearn: 0.0602764\ttotal: 40.1s\tremaining: 20.7s\n",
      "1649:\tlearn: 0.0602105\ttotal: 40.1s\tremaining: 20.7s\n",
      "1650:\tlearn: 0.0601539\ttotal: 40.1s\tremaining: 20.6s\n",
      "1651:\tlearn: 0.0600758\ttotal: 40.1s\tremaining: 20.6s\n",
      "1652:\tlearn: 0.0600540\ttotal: 40.2s\tremaining: 20.6s\n",
      "1653:\tlearn: 0.0600396\ttotal: 40.2s\tremaining: 20.5s\n",
      "1654:\tlearn: 0.0600283\ttotal: 40.2s\tremaining: 20.5s\n",
      "1655:\tlearn: 0.0599730\ttotal: 40.2s\tremaining: 20.5s\n",
      "1656:\tlearn: 0.0599649\ttotal: 40.2s\tremaining: 20.5s\n",
      "1657:\tlearn: 0.0599454\ttotal: 40.3s\tremaining: 20.4s\n",
      "1658:\tlearn: 0.0598643\ttotal: 40.3s\tremaining: 20.4s\n",
      "1659:\tlearn: 0.0598201\ttotal: 40.3s\tremaining: 20.4s\n",
      "1660:\tlearn: 0.0597659\ttotal: 40.3s\tremaining: 20.4s\n",
      "1661:\tlearn: 0.0597032\ttotal: 40.3s\tremaining: 20.3s\n",
      "1662:\tlearn: 0.0596754\ttotal: 40.4s\tremaining: 20.3s\n",
      "1663:\tlearn: 0.0595894\ttotal: 40.4s\tremaining: 20.3s\n",
      "1664:\tlearn: 0.0595322\ttotal: 40.4s\tremaining: 20.3s\n",
      "1665:\tlearn: 0.0595050\ttotal: 40.4s\tremaining: 20.2s\n",
      "1666:\tlearn: 0.0594850\ttotal: 40.5s\tremaining: 20.2s\n",
      "1667:\tlearn: 0.0594445\ttotal: 40.5s\tremaining: 20.2s\n",
      "1668:\tlearn: 0.0593575\ttotal: 40.5s\tremaining: 20.2s\n",
      "1669:\tlearn: 0.0593169\ttotal: 40.5s\tremaining: 20.1s\n",
      "1670:\tlearn: 0.0592688\ttotal: 40.6s\tremaining: 20.1s\n",
      "1671:\tlearn: 0.0591832\ttotal: 40.6s\tremaining: 20.1s\n",
      "1672:\tlearn: 0.0590692\ttotal: 40.6s\tremaining: 20.1s\n",
      "1673:\tlearn: 0.0589804\ttotal: 40.6s\tremaining: 20s\n",
      "1674:\tlearn: 0.0589223\ttotal: 40.7s\tremaining: 20s\n",
      "1675:\tlearn: 0.0588935\ttotal: 40.7s\tremaining: 20s\n",
      "1676:\tlearn: 0.0588582\ttotal: 40.7s\tremaining: 20s\n",
      "1677:\tlearn: 0.0588116\ttotal: 40.7s\tremaining: 19.9s\n",
      "1678:\tlearn: 0.0588040\ttotal: 40.7s\tremaining: 19.9s\n",
      "1679:\tlearn: 0.0586978\ttotal: 40.8s\tremaining: 19.9s\n",
      "1680:\tlearn: 0.0586584\ttotal: 40.8s\tremaining: 19.9s\n",
      "1681:\tlearn: 0.0586304\ttotal: 40.8s\tremaining: 19.8s\n",
      "1682:\tlearn: 0.0585691\ttotal: 40.8s\tremaining: 19.8s\n",
      "1683:\tlearn: 0.0585121\ttotal: 40.9s\tremaining: 19.8s\n",
      "1684:\tlearn: 0.0584506\ttotal: 40.9s\tremaining: 19.8s\n",
      "1685:\tlearn: 0.0584170\ttotal: 40.9s\tremaining: 19.8s\n",
      "1686:\tlearn: 0.0584013\ttotal: 41s\tremaining: 19.7s\n",
      "1687:\tlearn: 0.0583633\ttotal: 41s\tremaining: 19.7s\n",
      "1688:\tlearn: 0.0583046\ttotal: 41s\tremaining: 19.7s\n",
      "1689:\tlearn: 0.0582185\ttotal: 41s\tremaining: 19.7s\n",
      "1690:\tlearn: 0.0581899\ttotal: 41.1s\tremaining: 19.6s\n",
      "1691:\tlearn: 0.0581613\ttotal: 41.1s\tremaining: 19.6s\n",
      "1692:\tlearn: 0.0581503\ttotal: 41.1s\tremaining: 19.6s\n",
      "1693:\tlearn: 0.0581077\ttotal: 41.1s\tremaining: 19.6s\n",
      "1694:\tlearn: 0.0580369\ttotal: 41.1s\tremaining: 19.5s\n",
      "1695:\tlearn: 0.0579992\ttotal: 41.2s\tremaining: 19.5s\n",
      "1696:\tlearn: 0.0579607\ttotal: 41.2s\tremaining: 19.5s\n",
      "1697:\tlearn: 0.0578905\ttotal: 41.2s\tremaining: 19.5s\n",
      "1698:\tlearn: 0.0578636\ttotal: 41.2s\tremaining: 19.4s\n",
      "1699:\tlearn: 0.0577822\ttotal: 41.3s\tremaining: 19.4s\n",
      "1700:\tlearn: 0.0577379\ttotal: 41.3s\tremaining: 19.4s\n",
      "1701:\tlearn: 0.0576494\ttotal: 41.3s\tremaining: 19.4s\n",
      "1702:\tlearn: 0.0576379\ttotal: 41.3s\tremaining: 19.3s\n",
      "1703:\tlearn: 0.0576193\ttotal: 41.3s\tremaining: 19.3s\n",
      "1704:\tlearn: 0.0575755\ttotal: 41.4s\tremaining: 19.3s\n",
      "1705:\tlearn: 0.0575060\ttotal: 41.4s\tremaining: 19.3s\n",
      "1706:\tlearn: 0.0574951\ttotal: 41.4s\tremaining: 19.2s\n",
      "1707:\tlearn: 0.0574766\ttotal: 41.4s\tremaining: 19.2s\n",
      "1708:\tlearn: 0.0574295\ttotal: 41.5s\tremaining: 19.2s\n",
      "1709:\tlearn: 0.0573894\ttotal: 41.5s\tremaining: 19.2s\n",
      "1710:\tlearn: 0.0573144\ttotal: 41.5s\tremaining: 19.1s\n",
      "1711:\tlearn: 0.0572819\ttotal: 41.6s\tremaining: 19.1s\n",
      "1712:\tlearn: 0.0572607\ttotal: 41.6s\tremaining: 19.1s\n",
      "1713:\tlearn: 0.0572449\ttotal: 41.6s\tremaining: 19.1s\n",
      "1714:\tlearn: 0.0572081\ttotal: 41.6s\tremaining: 19.1s\n",
      "1715:\tlearn: 0.0571842\ttotal: 41.7s\tremaining: 19s\n",
      "1716:\tlearn: 0.0571073\ttotal: 41.7s\tremaining: 19s\n",
      "1717:\tlearn: 0.0570835\ttotal: 41.7s\tremaining: 19s\n",
      "1718:\tlearn: 0.0570249\ttotal: 41.7s\tremaining: 19s\n",
      "1719:\tlearn: 0.0569952\ttotal: 41.8s\tremaining: 18.9s\n",
      "1720:\tlearn: 0.0569533\ttotal: 41.8s\tremaining: 18.9s\n",
      "1721:\tlearn: 0.0569279\ttotal: 41.8s\tremaining: 18.9s\n",
      "1722:\tlearn: 0.0569172\ttotal: 41.8s\tremaining: 18.9s\n",
      "1723:\tlearn: 0.0568831\ttotal: 41.9s\tremaining: 18.8s\n",
      "1724:\tlearn: 0.0568562\ttotal: 41.9s\tremaining: 18.8s\n",
      "1725:\tlearn: 0.0567757\ttotal: 41.9s\tremaining: 18.8s\n",
      "1726:\tlearn: 0.0567273\ttotal: 41.9s\tremaining: 18.8s\n",
      "1727:\tlearn: 0.0567154\ttotal: 42s\tremaining: 18.7s\n",
      "1728:\tlearn: 0.0566667\ttotal: 42s\tremaining: 18.7s\n",
      "1729:\tlearn: 0.0566383\ttotal: 42s\tremaining: 18.7s\n",
      "1730:\tlearn: 0.0565836\ttotal: 42s\tremaining: 18.7s\n",
      "1731:\tlearn: 0.0564876\ttotal: 42.1s\tremaining: 18.6s\n",
      "1732:\tlearn: 0.0564598\ttotal: 42.1s\tremaining: 18.6s\n",
      "1733:\tlearn: 0.0563794\ttotal: 42.1s\tremaining: 18.6s\n",
      "1734:\tlearn: 0.0563648\ttotal: 42.1s\tremaining: 18.6s\n",
      "1735:\tlearn: 0.0563263\ttotal: 42.1s\tremaining: 18.5s\n",
      "1736:\tlearn: 0.0563223\ttotal: 42.2s\tremaining: 18.5s\n",
      "1737:\tlearn: 0.0563041\ttotal: 42.2s\tremaining: 18.5s\n",
      "1738:\tlearn: 0.0562548\ttotal: 42.2s\tremaining: 18.5s\n",
      "1739:\tlearn: 0.0562011\ttotal: 42.2s\tremaining: 18.4s\n",
      "1740:\tlearn: 0.0561565\ttotal: 42.3s\tremaining: 18.4s\n",
      "1741:\tlearn: 0.0561212\ttotal: 42.3s\tremaining: 18.4s\n",
      "1742:\tlearn: 0.0560880\ttotal: 42.3s\tremaining: 18.4s\n",
      "1743:\tlearn: 0.0560498\ttotal: 42.3s\tremaining: 18.4s\n",
      "1744:\tlearn: 0.0559799\ttotal: 42.4s\tremaining: 18.3s\n",
      "1745:\tlearn: 0.0559390\ttotal: 42.4s\tremaining: 18.3s\n",
      "1746:\tlearn: 0.0559293\ttotal: 42.4s\tremaining: 18.3s\n",
      "1747:\tlearn: 0.0559166\ttotal: 42.4s\tremaining: 18.2s\n",
      "1748:\tlearn: 0.0558380\ttotal: 42.4s\tremaining: 18.2s\n",
      "1749:\tlearn: 0.0557786\ttotal: 42.5s\tremaining: 18.2s\n",
      "1750:\tlearn: 0.0556625\ttotal: 42.5s\tremaining: 18.2s\n",
      "1751:\tlearn: 0.0556081\ttotal: 42.5s\tremaining: 18.1s\n",
      "1752:\tlearn: 0.0555924\ttotal: 42.5s\tremaining: 18.1s\n",
      "1753:\tlearn: 0.0555190\ttotal: 42.5s\tremaining: 18.1s\n",
      "1754:\tlearn: 0.0554931\ttotal: 42.6s\tremaining: 18.1s\n",
      "1755:\tlearn: 0.0554561\ttotal: 42.6s\tremaining: 18s\n",
      "1756:\tlearn: 0.0554279\ttotal: 42.6s\tremaining: 18s\n",
      "1757:\tlearn: 0.0553963\ttotal: 42.6s\tremaining: 18s\n",
      "1758:\tlearn: 0.0553718\ttotal: 42.7s\tremaining: 18s\n",
      "1759:\tlearn: 0.0553255\ttotal: 42.7s\tremaining: 17.9s\n",
      "1760:\tlearn: 0.0553057\ttotal: 42.7s\tremaining: 17.9s\n",
      "1761:\tlearn: 0.0552853\ttotal: 42.7s\tremaining: 17.9s\n",
      "1762:\tlearn: 0.0552333\ttotal: 42.7s\tremaining: 17.9s\n",
      "1763:\tlearn: 0.0551915\ttotal: 42.8s\tremaining: 17.8s\n",
      "1764:\tlearn: 0.0551468\ttotal: 42.8s\tremaining: 17.8s\n",
      "1765:\tlearn: 0.0551339\ttotal: 42.8s\tremaining: 17.8s\n",
      "1766:\tlearn: 0.0550642\ttotal: 42.8s\tremaining: 17.8s\n",
      "1767:\tlearn: 0.0550378\ttotal: 42.9s\tremaining: 17.7s\n",
      "1768:\tlearn: 0.0550186\ttotal: 42.9s\tremaining: 17.7s\n",
      "1769:\tlearn: 0.0549995\ttotal: 42.9s\tremaining: 17.7s\n",
      "1770:\tlearn: 0.0549608\ttotal: 42.9s\tremaining: 17.7s\n",
      "1771:\tlearn: 0.0549374\ttotal: 43s\tremaining: 17.6s\n",
      "1772:\tlearn: 0.0549054\ttotal: 43s\tremaining: 17.6s\n",
      "1773:\tlearn: 0.0548562\ttotal: 43s\tremaining: 17.6s\n",
      "1774:\tlearn: 0.0548438\ttotal: 43s\tremaining: 17.6s\n"
     ]
    },
    {
     "name": "stdout",
     "output_type": "stream",
     "text": [
      "1775:\tlearn: 0.0547917\ttotal: 43.1s\tremaining: 17.6s\n",
      "1776:\tlearn: 0.0547326\ttotal: 43.1s\tremaining: 17.5s\n",
      "1777:\tlearn: 0.0547123\ttotal: 43.1s\tremaining: 17.5s\n",
      "1778:\tlearn: 0.0546711\ttotal: 43.1s\tremaining: 17.5s\n",
      "1779:\tlearn: 0.0545762\ttotal: 43.1s\tremaining: 17.5s\n",
      "1780:\tlearn: 0.0545432\ttotal: 43.2s\tremaining: 17.4s\n",
      "1781:\tlearn: 0.0545267\ttotal: 43.2s\tremaining: 17.4s\n",
      "1782:\tlearn: 0.0545202\ttotal: 43.2s\tremaining: 17.4s\n",
      "1783:\tlearn: 0.0544934\ttotal: 43.2s\tremaining: 17.4s\n",
      "1784:\tlearn: 0.0544057\ttotal: 43.3s\tremaining: 17.3s\n",
      "1785:\tlearn: 0.0543628\ttotal: 43.3s\tremaining: 17.3s\n",
      "1786:\tlearn: 0.0542908\ttotal: 43.3s\tremaining: 17.3s\n",
      "1787:\tlearn: 0.0542421\ttotal: 43.3s\tremaining: 17.3s\n",
      "1788:\tlearn: 0.0542223\ttotal: 43.3s\tremaining: 17.2s\n",
      "1789:\tlearn: 0.0542137\ttotal: 43.4s\tremaining: 17.2s\n",
      "1790:\tlearn: 0.0541973\ttotal: 43.4s\tremaining: 17.2s\n",
      "1791:\tlearn: 0.0541437\ttotal: 43.4s\tremaining: 17.1s\n",
      "1792:\tlearn: 0.0540973\ttotal: 43.4s\tremaining: 17.1s\n",
      "1793:\tlearn: 0.0540662\ttotal: 43.4s\tremaining: 17.1s\n",
      "1794:\tlearn: 0.0540624\ttotal: 43.5s\tremaining: 17.1s\n",
      "1795:\tlearn: 0.0540361\ttotal: 43.5s\tremaining: 17s\n",
      "1796:\tlearn: 0.0540360\ttotal: 43.5s\tremaining: 17s\n",
      "1797:\tlearn: 0.0540033\ttotal: 43.5s\tremaining: 17s\n",
      "1798:\tlearn: 0.0539481\ttotal: 43.5s\tremaining: 17s\n",
      "1799:\tlearn: 0.0539247\ttotal: 43.6s\tremaining: 16.9s\n",
      "1800:\tlearn: 0.0538710\ttotal: 43.6s\tremaining: 16.9s\n",
      "1801:\tlearn: 0.0538304\ttotal: 43.6s\tremaining: 16.9s\n",
      "1802:\tlearn: 0.0538158\ttotal: 43.6s\tremaining: 16.9s\n",
      "1803:\tlearn: 0.0537774\ttotal: 43.6s\tremaining: 16.8s\n",
      "1804:\tlearn: 0.0537225\ttotal: 43.7s\tremaining: 16.8s\n",
      "1805:\tlearn: 0.0536888\ttotal: 43.7s\tremaining: 16.8s\n",
      "1806:\tlearn: 0.0536491\ttotal: 43.7s\tremaining: 16.8s\n",
      "1807:\tlearn: 0.0536100\ttotal: 43.7s\tremaining: 16.7s\n",
      "1808:\tlearn: 0.0535512\ttotal: 43.7s\tremaining: 16.7s\n",
      "1809:\tlearn: 0.0535288\ttotal: 43.8s\tremaining: 16.7s\n",
      "1810:\tlearn: 0.0534690\ttotal: 43.8s\tremaining: 16.7s\n",
      "1811:\tlearn: 0.0534322\ttotal: 43.8s\tremaining: 16.6s\n",
      "1812:\tlearn: 0.0533780\ttotal: 43.8s\tremaining: 16.6s\n",
      "1813:\tlearn: 0.0533194\ttotal: 43.9s\tremaining: 16.6s\n",
      "1814:\tlearn: 0.0533053\ttotal: 43.9s\tremaining: 16.6s\n",
      "1815:\tlearn: 0.0532437\ttotal: 43.9s\tremaining: 16.5s\n",
      "1816:\tlearn: 0.0532156\ttotal: 43.9s\tremaining: 16.5s\n",
      "1817:\tlearn: 0.0531966\ttotal: 43.9s\tremaining: 16.5s\n",
      "1818:\tlearn: 0.0531724\ttotal: 44s\tremaining: 16.5s\n",
      "1819:\tlearn: 0.0531166\ttotal: 44s\tremaining: 16.4s\n",
      "1820:\tlearn: 0.0530691\ttotal: 44s\tremaining: 16.4s\n",
      "1821:\tlearn: 0.0529952\ttotal: 44s\tremaining: 16.4s\n",
      "1822:\tlearn: 0.0529712\ttotal: 44s\tremaining: 16.4s\n",
      "1823:\tlearn: 0.0529340\ttotal: 44.1s\tremaining: 16.3s\n",
      "1824:\tlearn: 0.0529139\ttotal: 44.1s\tremaining: 16.3s\n",
      "1825:\tlearn: 0.0528833\ttotal: 44.1s\tremaining: 16.3s\n",
      "1826:\tlearn: 0.0528293\ttotal: 44.1s\tremaining: 16.3s\n",
      "1827:\tlearn: 0.0528096\ttotal: 44.1s\tremaining: 16.2s\n",
      "1828:\tlearn: 0.0527573\ttotal: 44.2s\tremaining: 16.2s\n",
      "1829:\tlearn: 0.0527195\ttotal: 44.2s\tremaining: 16.2s\n",
      "1830:\tlearn: 0.0526895\ttotal: 44.2s\tremaining: 16.2s\n",
      "1831:\tlearn: 0.0526622\ttotal: 44.2s\tremaining: 16.1s\n",
      "1832:\tlearn: 0.0526434\ttotal: 44.3s\tremaining: 16.1s\n",
      "1833:\tlearn: 0.0526357\ttotal: 44.3s\tremaining: 16.1s\n",
      "1834:\tlearn: 0.0525983\ttotal: 44.3s\tremaining: 16.1s\n",
      "1835:\tlearn: 0.0525644\ttotal: 44.3s\tremaining: 16s\n",
      "1836:\tlearn: 0.0524852\ttotal: 44.4s\tremaining: 16s\n",
      "1837:\tlearn: 0.0524354\ttotal: 44.4s\tremaining: 16s\n",
      "1838:\tlearn: 0.0524299\ttotal: 44.4s\tremaining: 16s\n",
      "1839:\tlearn: 0.0523982\ttotal: 44.4s\tremaining: 15.9s\n",
      "1840:\tlearn: 0.0523695\ttotal: 44.4s\tremaining: 15.9s\n",
      "1841:\tlearn: 0.0523170\ttotal: 44.5s\tremaining: 15.9s\n",
      "1842:\tlearn: 0.0522956\ttotal: 44.5s\tremaining: 15.9s\n",
      "1843:\tlearn: 0.0522722\ttotal: 44.5s\tremaining: 15.8s\n",
      "1844:\tlearn: 0.0522625\ttotal: 44.5s\tremaining: 15.8s\n",
      "1845:\tlearn: 0.0522186\ttotal: 44.5s\tremaining: 15.8s\n",
      "1846:\tlearn: 0.0521764\ttotal: 44.6s\tremaining: 15.8s\n",
      "1847:\tlearn: 0.0521548\ttotal: 44.6s\tremaining: 15.7s\n",
      "1848:\tlearn: 0.0521314\ttotal: 44.6s\tremaining: 15.7s\n",
      "1849:\tlearn: 0.0521254\ttotal: 44.6s\tremaining: 15.7s\n",
      "1850:\tlearn: 0.0520512\ttotal: 44.7s\tremaining: 15.7s\n",
      "1851:\tlearn: 0.0520207\ttotal: 44.7s\tremaining: 15.6s\n",
      "1852:\tlearn: 0.0519799\ttotal: 44.7s\tremaining: 15.6s\n",
      "1853:\tlearn: 0.0519703\ttotal: 44.7s\tremaining: 15.6s\n",
      "1854:\tlearn: 0.0519390\ttotal: 44.8s\tremaining: 15.6s\n",
      "1855:\tlearn: 0.0519099\ttotal: 44.8s\tremaining: 15.5s\n",
      "1856:\tlearn: 0.0518929\ttotal: 44.8s\tremaining: 15.5s\n",
      "1857:\tlearn: 0.0518679\ttotal: 44.8s\tremaining: 15.5s\n",
      "1858:\tlearn: 0.0518223\ttotal: 44.9s\tremaining: 15.5s\n",
      "1859:\tlearn: 0.0517755\ttotal: 44.9s\tremaining: 15.4s\n",
      "1860:\tlearn: 0.0517546\ttotal: 44.9s\tremaining: 15.4s\n",
      "1861:\tlearn: 0.0517141\ttotal: 44.9s\tremaining: 15.4s\n",
      "1862:\tlearn: 0.0516671\ttotal: 44.9s\tremaining: 15.4s\n",
      "1863:\tlearn: 0.0516211\ttotal: 45s\tremaining: 15.3s\n",
      "1864:\tlearn: 0.0515959\ttotal: 45s\tremaining: 15.3s\n",
      "1865:\tlearn: 0.0515219\ttotal: 45s\tremaining: 15.3s\n",
      "1866:\tlearn: 0.0514928\ttotal: 45s\tremaining: 15.3s\n",
      "1867:\tlearn: 0.0514165\ttotal: 45.1s\tremaining: 15.2s\n",
      "1868:\tlearn: 0.0513551\ttotal: 45.1s\tremaining: 15.2s\n",
      "1869:\tlearn: 0.0513224\ttotal: 45.1s\tremaining: 15.2s\n",
      "1870:\tlearn: 0.0512981\ttotal: 45.1s\tremaining: 15.2s\n",
      "1871:\tlearn: 0.0511848\ttotal: 45.2s\tremaining: 15.1s\n",
      "1872:\tlearn: 0.0511610\ttotal: 45.2s\tremaining: 15.1s\n",
      "1873:\tlearn: 0.0511189\ttotal: 45.2s\tremaining: 15.1s\n",
      "1874:\tlearn: 0.0510436\ttotal: 45.2s\tremaining: 15.1s\n",
      "1875:\tlearn: 0.0509979\ttotal: 45.2s\tremaining: 15.1s\n",
      "1876:\tlearn: 0.0509620\ttotal: 45.3s\tremaining: 15s\n",
      "1877:\tlearn: 0.0509260\ttotal: 45.3s\tremaining: 15s\n",
      "1878:\tlearn: 0.0509021\ttotal: 45.3s\tremaining: 15s\n",
      "1879:\tlearn: 0.0508473\ttotal: 45.3s\tremaining: 15s\n",
      "1880:\tlearn: 0.0507921\ttotal: 45.4s\tremaining: 14.9s\n",
      "1881:\tlearn: 0.0507721\ttotal: 45.4s\tremaining: 14.9s\n",
      "1882:\tlearn: 0.0507413\ttotal: 45.4s\tremaining: 14.9s\n",
      "1883:\tlearn: 0.0507099\ttotal: 45.4s\tremaining: 14.9s\n",
      "1884:\tlearn: 0.0506861\ttotal: 45.5s\tremaining: 14.8s\n",
      "1885:\tlearn: 0.0506589\ttotal: 45.5s\tremaining: 14.8s\n",
      "1886:\tlearn: 0.0506176\ttotal: 45.5s\tremaining: 14.8s\n",
      "1887:\tlearn: 0.0505870\ttotal: 45.6s\tremaining: 14.8s\n",
      "1888:\tlearn: 0.0505692\ttotal: 45.6s\tremaining: 14.7s\n",
      "1889:\tlearn: 0.0505326\ttotal: 45.6s\tremaining: 14.7s\n",
      "1890:\tlearn: 0.0504804\ttotal: 45.6s\tremaining: 14.7s\n",
      "1891:\tlearn: 0.0504396\ttotal: 45.7s\tremaining: 14.7s\n",
      "1892:\tlearn: 0.0504275\ttotal: 45.7s\tremaining: 14.7s\n",
      "1893:\tlearn: 0.0503929\ttotal: 45.8s\tremaining: 14.6s\n",
      "1894:\tlearn: 0.0503805\ttotal: 45.8s\tremaining: 14.6s\n",
      "1895:\tlearn: 0.0503377\ttotal: 45.8s\tremaining: 14.6s\n",
      "1896:\tlearn: 0.0502688\ttotal: 45.8s\tremaining: 14.6s\n",
      "1897:\tlearn: 0.0502186\ttotal: 45.9s\tremaining: 14.5s\n",
      "1898:\tlearn: 0.0501934\ttotal: 45.9s\tremaining: 14.5s\n",
      "1899:\tlearn: 0.0501810\ttotal: 45.9s\tremaining: 14.5s\n",
      "1900:\tlearn: 0.0501140\ttotal: 45.9s\tremaining: 14.5s\n",
      "1901:\tlearn: 0.0500338\ttotal: 45.9s\tremaining: 14.4s\n",
      "1902:\tlearn: 0.0500002\ttotal: 46s\tremaining: 14.4s\n",
      "1903:\tlearn: 0.0499426\ttotal: 46s\tremaining: 14.4s\n",
      "1904:\tlearn: 0.0499157\ttotal: 46s\tremaining: 14.4s\n",
      "1905:\tlearn: 0.0498722\ttotal: 46s\tremaining: 14.3s\n",
      "1906:\tlearn: 0.0498649\ttotal: 46s\tremaining: 14.3s\n",
      "1907:\tlearn: 0.0497935\ttotal: 46.1s\tremaining: 14.3s\n",
      "1908:\tlearn: 0.0497600\ttotal: 46.1s\tremaining: 14.3s\n",
      "1909:\tlearn: 0.0497062\ttotal: 46.1s\tremaining: 14.2s\n",
      "1910:\tlearn: 0.0496675\ttotal: 46.1s\tremaining: 14.2s\n",
      "1911:\tlearn: 0.0496134\ttotal: 46.2s\tremaining: 14.2s\n",
      "1912:\tlearn: 0.0495654\ttotal: 46.2s\tremaining: 14.2s\n",
      "1913:\tlearn: 0.0494678\ttotal: 46.2s\tremaining: 14.1s\n",
      "1914:\tlearn: 0.0494424\ttotal: 46.2s\tremaining: 14.1s\n",
      "1915:\tlearn: 0.0494167\ttotal: 46.2s\tremaining: 14.1s\n",
      "1916:\tlearn: 0.0493801\ttotal: 46.3s\tremaining: 14.1s\n",
      "1917:\tlearn: 0.0493445\ttotal: 46.3s\tremaining: 14s\n",
      "1918:\tlearn: 0.0493071\ttotal: 46.3s\tremaining: 14s\n",
      "1919:\tlearn: 0.0492639\ttotal: 46.3s\tremaining: 14s\n",
      "1920:\tlearn: 0.0492306\ttotal: 46.4s\tremaining: 14s\n",
      "1921:\tlearn: 0.0492041\ttotal: 46.4s\tremaining: 14s\n",
      "1922:\tlearn: 0.0491295\ttotal: 46.4s\tremaining: 13.9s\n",
      "1923:\tlearn: 0.0490885\ttotal: 46.4s\tremaining: 13.9s\n",
      "1924:\tlearn: 0.0490284\ttotal: 46.5s\tremaining: 13.9s\n",
      "1925:\tlearn: 0.0489757\ttotal: 46.5s\tremaining: 13.9s\n",
      "1926:\tlearn: 0.0489084\ttotal: 46.5s\tremaining: 13.8s\n",
      "1927:\tlearn: 0.0488985\ttotal: 46.5s\tremaining: 13.8s\n",
      "1928:\tlearn: 0.0488797\ttotal: 46.6s\tremaining: 13.8s\n",
      "1929:\tlearn: 0.0488623\ttotal: 46.6s\tremaining: 13.8s\n",
      "1930:\tlearn: 0.0488347\ttotal: 46.6s\tremaining: 13.7s\n",
      "1931:\tlearn: 0.0488007\ttotal: 46.6s\tremaining: 13.7s\n",
      "1932:\tlearn: 0.0487720\ttotal: 46.6s\tremaining: 13.7s\n",
      "1933:\tlearn: 0.0487270\ttotal: 46.7s\tremaining: 13.7s\n",
      "1934:\tlearn: 0.0486762\ttotal: 46.7s\tremaining: 13.6s\n",
      "1935:\tlearn: 0.0486355\ttotal: 46.7s\tremaining: 13.6s\n",
      "1936:\tlearn: 0.0486137\ttotal: 46.7s\tremaining: 13.6s\n",
      "1937:\tlearn: 0.0485708\ttotal: 46.8s\tremaining: 13.6s\n",
      "1938:\tlearn: 0.0485400\ttotal: 46.8s\tremaining: 13.5s\n"
     ]
    },
    {
     "name": "stdout",
     "output_type": "stream",
     "text": [
      "1939:\tlearn: 0.0485242\ttotal: 46.8s\tremaining: 13.5s\n",
      "1940:\tlearn: 0.0484809\ttotal: 46.8s\tremaining: 13.5s\n",
      "1941:\tlearn: 0.0484179\ttotal: 46.9s\tremaining: 13.5s\n",
      "1942:\tlearn: 0.0483943\ttotal: 46.9s\tremaining: 13.4s\n",
      "1943:\tlearn: 0.0483532\ttotal: 46.9s\tremaining: 13.4s\n",
      "1944:\tlearn: 0.0483021\ttotal: 46.9s\tremaining: 13.4s\n",
      "1945:\tlearn: 0.0482470\ttotal: 46.9s\tremaining: 13.4s\n",
      "1946:\tlearn: 0.0481936\ttotal: 47s\tremaining: 13.3s\n",
      "1947:\tlearn: 0.0481872\ttotal: 47s\tremaining: 13.3s\n",
      "1948:\tlearn: 0.0481585\ttotal: 47s\tremaining: 13.3s\n",
      "1949:\tlearn: 0.0481215\ttotal: 47s\tremaining: 13.3s\n",
      "1950:\tlearn: 0.0480891\ttotal: 47.1s\tremaining: 13.2s\n",
      "1951:\tlearn: 0.0480658\ttotal: 47.1s\tremaining: 13.2s\n",
      "1952:\tlearn: 0.0480384\ttotal: 47.1s\tremaining: 13.2s\n",
      "1953:\tlearn: 0.0479917\ttotal: 47.1s\tremaining: 13.2s\n",
      "1954:\tlearn: 0.0479603\ttotal: 47.2s\tremaining: 13.1s\n",
      "1955:\tlearn: 0.0479392\ttotal: 47.2s\tremaining: 13.1s\n",
      "1956:\tlearn: 0.0479155\ttotal: 47.2s\tremaining: 13.1s\n",
      "1957:\tlearn: 0.0478904\ttotal: 47.2s\tremaining: 13.1s\n",
      "1958:\tlearn: 0.0478516\ttotal: 47.2s\tremaining: 13s\n",
      "1959:\tlearn: 0.0478123\ttotal: 47.3s\tremaining: 13s\n",
      "1960:\tlearn: 0.0477520\ttotal: 47.3s\tremaining: 13s\n",
      "1961:\tlearn: 0.0477182\ttotal: 47.3s\tremaining: 13s\n",
      "1962:\tlearn: 0.0476601\ttotal: 47.3s\tremaining: 12.9s\n",
      "1963:\tlearn: 0.0476367\ttotal: 47.4s\tremaining: 12.9s\n",
      "1964:\tlearn: 0.0476183\ttotal: 47.4s\tremaining: 12.9s\n",
      "1965:\tlearn: 0.0475813\ttotal: 47.4s\tremaining: 12.9s\n",
      "1966:\tlearn: 0.0475604\ttotal: 47.4s\tremaining: 12.8s\n",
      "1967:\tlearn: 0.0475382\ttotal: 47.4s\tremaining: 12.8s\n",
      "1968:\tlearn: 0.0475020\ttotal: 47.5s\tremaining: 12.8s\n",
      "1969:\tlearn: 0.0474538\ttotal: 47.5s\tremaining: 12.8s\n",
      "1970:\tlearn: 0.0474406\ttotal: 47.5s\tremaining: 12.8s\n",
      "1971:\tlearn: 0.0474102\ttotal: 47.5s\tremaining: 12.7s\n",
      "1972:\tlearn: 0.0473641\ttotal: 47.6s\tremaining: 12.7s\n",
      "1973:\tlearn: 0.0473325\ttotal: 47.6s\tremaining: 12.7s\n",
      "1974:\tlearn: 0.0473075\ttotal: 47.6s\tremaining: 12.7s\n",
      "1975:\tlearn: 0.0472636\ttotal: 47.6s\tremaining: 12.6s\n",
      "1976:\tlearn: 0.0472402\ttotal: 47.6s\tremaining: 12.6s\n",
      "1977:\tlearn: 0.0472168\ttotal: 47.7s\tremaining: 12.6s\n",
      "1978:\tlearn: 0.0471694\ttotal: 47.7s\tremaining: 12.6s\n",
      "1979:\tlearn: 0.0471346\ttotal: 47.7s\tremaining: 12.5s\n",
      "1980:\tlearn: 0.0471071\ttotal: 47.7s\tremaining: 12.5s\n",
      "1981:\tlearn: 0.0470670\ttotal: 47.8s\tremaining: 12.5s\n",
      "1982:\tlearn: 0.0470217\ttotal: 47.8s\tremaining: 12.5s\n",
      "1983:\tlearn: 0.0469680\ttotal: 47.8s\tremaining: 12.4s\n",
      "1984:\tlearn: 0.0469119\ttotal: 47.8s\tremaining: 12.4s\n",
      "1985:\tlearn: 0.0468925\ttotal: 47.9s\tremaining: 12.4s\n",
      "1986:\tlearn: 0.0468304\ttotal: 47.9s\tremaining: 12.4s\n",
      "1987:\tlearn: 0.0467783\ttotal: 47.9s\tremaining: 12.3s\n",
      "1988:\tlearn: 0.0467316\ttotal: 47.9s\tremaining: 12.3s\n",
      "1989:\tlearn: 0.0467167\ttotal: 47.9s\tremaining: 12.3s\n",
      "1990:\tlearn: 0.0466646\ttotal: 48s\tremaining: 12.3s\n",
      "1991:\tlearn: 0.0466395\ttotal: 48s\tremaining: 12.2s\n",
      "1992:\tlearn: 0.0466095\ttotal: 48s\tremaining: 12.2s\n",
      "1993:\tlearn: 0.0465680\ttotal: 48s\tremaining: 12.2s\n",
      "1994:\tlearn: 0.0465499\ttotal: 48.1s\tremaining: 12.2s\n",
      "1995:\tlearn: 0.0465345\ttotal: 48.1s\tremaining: 12.1s\n",
      "1996:\tlearn: 0.0465045\ttotal: 48.1s\tremaining: 12.1s\n",
      "1997:\tlearn: 0.0464757\ttotal: 48.1s\tremaining: 12.1s\n",
      "1998:\tlearn: 0.0464711\ttotal: 48.2s\tremaining: 12.1s\n",
      "1999:\tlearn: 0.0464105\ttotal: 48.2s\tremaining: 12s\n",
      "2000:\tlearn: 0.0463979\ttotal: 48.2s\tremaining: 12s\n",
      "2001:\tlearn: 0.0463741\ttotal: 48.2s\tremaining: 12s\n",
      "2002:\tlearn: 0.0463526\ttotal: 48.2s\tremaining: 12s\n",
      "2003:\tlearn: 0.0463074\ttotal: 48.3s\tremaining: 11.9s\n",
      "2004:\tlearn: 0.0462917\ttotal: 48.3s\tremaining: 11.9s\n",
      "2005:\tlearn: 0.0462652\ttotal: 48.3s\tremaining: 11.9s\n",
      "2006:\tlearn: 0.0462223\ttotal: 48.3s\tremaining: 11.9s\n",
      "2007:\tlearn: 0.0462096\ttotal: 48.4s\tremaining: 11.8s\n",
      "2008:\tlearn: 0.0461944\ttotal: 48.4s\tremaining: 11.8s\n",
      "2009:\tlearn: 0.0461759\ttotal: 48.4s\tremaining: 11.8s\n",
      "2010:\tlearn: 0.0461580\ttotal: 48.4s\tremaining: 11.8s\n",
      "2011:\tlearn: 0.0461386\ttotal: 48.4s\tremaining: 11.7s\n",
      "2012:\tlearn: 0.0460838\ttotal: 48.5s\tremaining: 11.7s\n",
      "2013:\tlearn: 0.0460435\ttotal: 48.5s\tremaining: 11.7s\n",
      "2014:\tlearn: 0.0460049\ttotal: 48.5s\tremaining: 11.7s\n",
      "2015:\tlearn: 0.0459456\ttotal: 48.5s\tremaining: 11.7s\n",
      "2016:\tlearn: 0.0459406\ttotal: 48.5s\tremaining: 11.6s\n",
      "2017:\tlearn: 0.0459222\ttotal: 48.6s\tremaining: 11.6s\n",
      "2018:\tlearn: 0.0459026\ttotal: 48.6s\tremaining: 11.6s\n",
      "2019:\tlearn: 0.0458603\ttotal: 48.6s\tremaining: 11.6s\n",
      "2020:\tlearn: 0.0458313\ttotal: 48.6s\tremaining: 11.5s\n",
      "2021:\tlearn: 0.0458110\ttotal: 48.7s\tremaining: 11.5s\n",
      "2022:\tlearn: 0.0457913\ttotal: 48.7s\tremaining: 11.5s\n",
      "2023:\tlearn: 0.0457595\ttotal: 48.7s\tremaining: 11.5s\n",
      "2024:\tlearn: 0.0457180\ttotal: 48.8s\tremaining: 11.4s\n",
      "2025:\tlearn: 0.0456651\ttotal: 48.8s\tremaining: 11.4s\n",
      "2026:\tlearn: 0.0456233\ttotal: 48.8s\tremaining: 11.4s\n",
      "2027:\tlearn: 0.0455841\ttotal: 48.9s\tremaining: 11.4s\n",
      "2028:\tlearn: 0.0455318\ttotal: 48.9s\tremaining: 11.3s\n",
      "2029:\tlearn: 0.0454760\ttotal: 48.9s\tremaining: 11.3s\n",
      "2030:\tlearn: 0.0454593\ttotal: 48.9s\tremaining: 11.3s\n",
      "2031:\tlearn: 0.0454505\ttotal: 49s\tremaining: 11.3s\n",
      "2032:\tlearn: 0.0454164\ttotal: 49s\tremaining: 11.3s\n",
      "2033:\tlearn: 0.0453922\ttotal: 49s\tremaining: 11.2s\n",
      "2034:\tlearn: 0.0453876\ttotal: 49s\tremaining: 11.2s\n",
      "2035:\tlearn: 0.0453429\ttotal: 49s\tremaining: 11.2s\n",
      "2036:\tlearn: 0.0453131\ttotal: 49.1s\tremaining: 11.2s\n",
      "2037:\tlearn: 0.0453039\ttotal: 49.1s\tremaining: 11.1s\n",
      "2038:\tlearn: 0.0452903\ttotal: 49.1s\tremaining: 11.1s\n",
      "2039:\tlearn: 0.0452319\ttotal: 49.1s\tremaining: 11.1s\n",
      "2040:\tlearn: 0.0452110\ttotal: 49.1s\tremaining: 11.1s\n",
      "2041:\tlearn: 0.0451881\ttotal: 49.2s\tremaining: 11s\n",
      "2042:\tlearn: 0.0451422\ttotal: 49.2s\tremaining: 11s\n",
      "2043:\tlearn: 0.0451176\ttotal: 49.2s\tremaining: 11s\n",
      "2044:\tlearn: 0.0450922\ttotal: 49.2s\tremaining: 11s\n",
      "2045:\tlearn: 0.0450499\ttotal: 49.3s\tremaining: 10.9s\n",
      "2046:\tlearn: 0.0450352\ttotal: 49.3s\tremaining: 10.9s\n",
      "2047:\tlearn: 0.0449917\ttotal: 49.3s\tremaining: 10.9s\n",
      "2048:\tlearn: 0.0449661\ttotal: 49.3s\tremaining: 10.9s\n",
      "2049:\tlearn: 0.0449661\ttotal: 49.3s\tremaining: 10.8s\n",
      "2050:\tlearn: 0.0449509\ttotal: 49.3s\tremaining: 10.8s\n",
      "2051:\tlearn: 0.0449422\ttotal: 49.4s\tremaining: 10.8s\n",
      "2052:\tlearn: 0.0449235\ttotal: 49.4s\tremaining: 10.8s\n",
      "2053:\tlearn: 0.0449081\ttotal: 49.4s\tremaining: 10.7s\n",
      "2054:\tlearn: 0.0448693\ttotal: 49.4s\tremaining: 10.7s\n",
      "2055:\tlearn: 0.0448562\ttotal: 49.5s\tremaining: 10.7s\n",
      "2056:\tlearn: 0.0447944\ttotal: 49.5s\tremaining: 10.7s\n",
      "2057:\tlearn: 0.0447811\ttotal: 49.5s\tremaining: 10.6s\n",
      "2058:\tlearn: 0.0447599\ttotal: 49.5s\tremaining: 10.6s\n",
      "2059:\tlearn: 0.0447016\ttotal: 49.5s\tremaining: 10.6s\n",
      "2060:\tlearn: 0.0446598\ttotal: 49.6s\tremaining: 10.6s\n",
      "2061:\tlearn: 0.0446306\ttotal: 49.6s\tremaining: 10.5s\n",
      "2062:\tlearn: 0.0446196\ttotal: 49.6s\tremaining: 10.5s\n",
      "2063:\tlearn: 0.0445903\ttotal: 49.6s\tremaining: 10.5s\n",
      "2064:\tlearn: 0.0445766\ttotal: 49.7s\tremaining: 10.5s\n",
      "2065:\tlearn: 0.0445641\ttotal: 49.7s\tremaining: 10.4s\n",
      "2066:\tlearn: 0.0445334\ttotal: 49.7s\tremaining: 10.4s\n",
      "2067:\tlearn: 0.0445050\ttotal: 49.7s\tremaining: 10.4s\n",
      "2068:\tlearn: 0.0444840\ttotal: 49.8s\tremaining: 10.4s\n",
      "2069:\tlearn: 0.0444683\ttotal: 49.8s\tremaining: 10.3s\n",
      "2070:\tlearn: 0.0444415\ttotal: 49.8s\tremaining: 10.3s\n",
      "2071:\tlearn: 0.0444169\ttotal: 49.8s\tremaining: 10.3s\n",
      "2072:\tlearn: 0.0443814\ttotal: 49.8s\tremaining: 10.3s\n",
      "2073:\tlearn: 0.0443513\ttotal: 49.9s\tremaining: 10.2s\n",
      "2074:\tlearn: 0.0443291\ttotal: 49.9s\tremaining: 10.2s\n",
      "2075:\tlearn: 0.0442708\ttotal: 49.9s\tremaining: 10.2s\n",
      "2076:\tlearn: 0.0442472\ttotal: 49.9s\tremaining: 10.2s\n",
      "2077:\tlearn: 0.0442276\ttotal: 49.9s\tremaining: 10.1s\n",
      "2078:\tlearn: 0.0442192\ttotal: 50s\tremaining: 10.1s\n",
      "2079:\tlearn: 0.0441840\ttotal: 50s\tremaining: 10.1s\n",
      "2080:\tlearn: 0.0441507\ttotal: 50s\tremaining: 10.1s\n",
      "2081:\tlearn: 0.0441458\ttotal: 50s\tremaining: 10s\n",
      "2082:\tlearn: 0.0441217\ttotal: 50.1s\tremaining: 10s\n",
      "2083:\tlearn: 0.0441058\ttotal: 50.1s\tremaining: 9.99s\n",
      "2084:\tlearn: 0.0440761\ttotal: 50.1s\tremaining: 9.97s\n",
      "2085:\tlearn: 0.0440572\ttotal: 50.1s\tremaining: 9.95s\n",
      "2086:\tlearn: 0.0440092\ttotal: 50.1s\tremaining: 9.92s\n",
      "2087:\tlearn: 0.0439529\ttotal: 50.2s\tremaining: 9.9s\n",
      "2088:\tlearn: 0.0439239\ttotal: 50.2s\tremaining: 9.88s\n",
      "2089:\tlearn: 0.0438953\ttotal: 50.2s\tremaining: 9.85s\n",
      "2090:\tlearn: 0.0438930\ttotal: 50.2s\tremaining: 9.82s\n",
      "2091:\tlearn: 0.0438604\ttotal: 50.3s\tremaining: 9.8s\n",
      "2092:\tlearn: 0.0438453\ttotal: 50.3s\tremaining: 9.78s\n",
      "2093:\tlearn: 0.0438157\ttotal: 50.3s\tremaining: 9.76s\n",
      "2094:\tlearn: 0.0437989\ttotal: 50.3s\tremaining: 9.73s\n"
     ]
    },
    {
     "name": "stdout",
     "output_type": "stream",
     "text": [
      "2095:\tlearn: 0.0437593\ttotal: 50.4s\tremaining: 9.71s\n",
      "2096:\tlearn: 0.0437359\ttotal: 50.4s\tremaining: 9.69s\n",
      "2097:\tlearn: 0.0437196\ttotal: 50.4s\tremaining: 9.66s\n",
      "2098:\tlearn: 0.0436749\ttotal: 50.5s\tremaining: 9.64s\n",
      "2099:\tlearn: 0.0436578\ttotal: 50.5s\tremaining: 9.62s\n",
      "2100:\tlearn: 0.0436255\ttotal: 50.5s\tremaining: 9.59s\n",
      "2101:\tlearn: 0.0436078\ttotal: 50.5s\tremaining: 9.57s\n",
      "2102:\tlearn: 0.0435851\ttotal: 50.5s\tremaining: 9.54s\n",
      "2103:\tlearn: 0.0435617\ttotal: 50.6s\tremaining: 9.52s\n",
      "2104:\tlearn: 0.0435494\ttotal: 50.6s\tremaining: 9.49s\n",
      "2105:\tlearn: 0.0434880\ttotal: 50.6s\tremaining: 9.47s\n",
      "2106:\tlearn: 0.0434699\ttotal: 50.6s\tremaining: 9.44s\n",
      "2107:\tlearn: 0.0434606\ttotal: 50.6s\tremaining: 9.42s\n",
      "2108:\tlearn: 0.0434323\ttotal: 50.7s\tremaining: 9.39s\n",
      "2109:\tlearn: 0.0434004\ttotal: 50.7s\tremaining: 9.37s\n",
      "2110:\tlearn: 0.0433500\ttotal: 50.7s\tremaining: 9.35s\n",
      "2111:\tlearn: 0.0433196\ttotal: 50.7s\tremaining: 9.32s\n",
      "2112:\tlearn: 0.0433196\ttotal: 50.7s\tremaining: 9.29s\n",
      "2113:\tlearn: 0.0433093\ttotal: 50.8s\tremaining: 9.27s\n",
      "2114:\tlearn: 0.0432481\ttotal: 50.8s\tremaining: 9.25s\n",
      "2115:\tlearn: 0.0432289\ttotal: 50.8s\tremaining: 9.22s\n",
      "2116:\tlearn: 0.0431931\ttotal: 50.8s\tremaining: 9.2s\n",
      "2117:\tlearn: 0.0431892\ttotal: 50.9s\tremaining: 9.17s\n",
      "2118:\tlearn: 0.0431696\ttotal: 50.9s\tremaining: 9.15s\n",
      "2119:\tlearn: 0.0431664\ttotal: 50.9s\tremaining: 9.13s\n",
      "2120:\tlearn: 0.0431494\ttotal: 50.9s\tremaining: 9.1s\n",
      "2121:\tlearn: 0.0431316\ttotal: 50.9s\tremaining: 9.07s\n",
      "2122:\tlearn: 0.0430856\ttotal: 51s\tremaining: 9.05s\n",
      "2123:\tlearn: 0.0430427\ttotal: 51s\tremaining: 9.03s\n",
      "2124:\tlearn: 0.0430322\ttotal: 51s\tremaining: 9s\n",
      "2125:\tlearn: 0.0430025\ttotal: 51s\tremaining: 8.98s\n",
      "2126:\tlearn: 0.0429512\ttotal: 51.1s\tremaining: 8.95s\n",
      "2127:\tlearn: 0.0429162\ttotal: 51.1s\tremaining: 8.93s\n",
      "2128:\tlearn: 0.0428939\ttotal: 51.1s\tremaining: 8.9s\n",
      "2129:\tlearn: 0.0428856\ttotal: 51.1s\tremaining: 8.88s\n",
      "2130:\tlearn: 0.0428403\ttotal: 51.1s\tremaining: 8.86s\n",
      "2131:\tlearn: 0.0428331\ttotal: 51.2s\tremaining: 8.83s\n",
      "2132:\tlearn: 0.0428140\ttotal: 51.2s\tremaining: 8.81s\n",
      "2133:\tlearn: 0.0427802\ttotal: 51.2s\tremaining: 8.78s\n",
      "2134:\tlearn: 0.0427726\ttotal: 51.2s\tremaining: 8.76s\n",
      "2135:\tlearn: 0.0427394\ttotal: 51.2s\tremaining: 8.73s\n",
      "2136:\tlearn: 0.0426249\ttotal: 51.3s\tremaining: 8.71s\n",
      "2137:\tlearn: 0.0425573\ttotal: 51.3s\tremaining: 8.68s\n",
      "2138:\tlearn: 0.0425244\ttotal: 51.3s\tremaining: 8.66s\n",
      "2139:\tlearn: 0.0425089\ttotal: 51.3s\tremaining: 8.63s\n",
      "2140:\tlearn: 0.0424837\ttotal: 51.3s\tremaining: 8.61s\n",
      "2141:\tlearn: 0.0424734\ttotal: 51.4s\tremaining: 8.59s\n",
      "2142:\tlearn: 0.0424510\ttotal: 51.4s\tremaining: 8.56s\n",
      "2143:\tlearn: 0.0424302\ttotal: 51.4s\tremaining: 8.54s\n",
      "2144:\tlearn: 0.0424150\ttotal: 51.4s\tremaining: 8.51s\n",
      "2145:\tlearn: 0.0423796\ttotal: 51.4s\tremaining: 8.48s\n",
      "2146:\tlearn: 0.0423664\ttotal: 51.5s\tremaining: 8.46s\n",
      "2147:\tlearn: 0.0423451\ttotal: 51.5s\tremaining: 8.44s\n",
      "2148:\tlearn: 0.0423074\ttotal: 51.5s\tremaining: 8.41s\n",
      "2149:\tlearn: 0.0422586\ttotal: 51.5s\tremaining: 8.39s\n",
      "2150:\tlearn: 0.0422254\ttotal: 51.5s\tremaining: 8.36s\n",
      "2151:\tlearn: 0.0422109\ttotal: 51.6s\tremaining: 8.34s\n",
      "2152:\tlearn: 0.0421809\ttotal: 51.6s\tremaining: 8.31s\n",
      "2153:\tlearn: 0.0421595\ttotal: 51.6s\tremaining: 8.29s\n",
      "2154:\tlearn: 0.0421198\ttotal: 51.6s\tremaining: 8.26s\n",
      "2155:\tlearn: 0.0420782\ttotal: 51.6s\tremaining: 8.24s\n",
      "2156:\tlearn: 0.0420676\ttotal: 51.7s\tremaining: 8.21s\n",
      "2157:\tlearn: 0.0420266\ttotal: 51.7s\tremaining: 8.19s\n",
      "2158:\tlearn: 0.0419922\ttotal: 51.7s\tremaining: 8.17s\n",
      "2159:\tlearn: 0.0419668\ttotal: 51.7s\tremaining: 8.14s\n",
      "2160:\tlearn: 0.0419466\ttotal: 51.8s\tremaining: 8.12s\n",
      "2161:\tlearn: 0.0419263\ttotal: 51.8s\tremaining: 8.1s\n",
      "2162:\tlearn: 0.0418747\ttotal: 51.8s\tremaining: 8.07s\n",
      "2163:\tlearn: 0.0418541\ttotal: 51.8s\tremaining: 8.05s\n",
      "2164:\tlearn: 0.0418317\ttotal: 51.8s\tremaining: 8.02s\n",
      "2165:\tlearn: 0.0418142\ttotal: 51.9s\tremaining: 8s\n",
      "2166:\tlearn: 0.0418050\ttotal: 51.9s\tremaining: 7.97s\n",
      "2167:\tlearn: 0.0417632\ttotal: 51.9s\tremaining: 7.95s\n",
      "2168:\tlearn: 0.0417382\ttotal: 51.9s\tremaining: 7.92s\n",
      "2169:\tlearn: 0.0416990\ttotal: 52s\tremaining: 7.9s\n",
      "2170:\tlearn: 0.0416756\ttotal: 52s\tremaining: 7.88s\n",
      "2171:\tlearn: 0.0416146\ttotal: 52s\tremaining: 7.85s\n",
      "2172:\tlearn: 0.0415625\ttotal: 52s\tremaining: 7.83s\n",
      "2173:\tlearn: 0.0415237\ttotal: 52.1s\tremaining: 7.8s\n",
      "2174:\tlearn: 0.0415047\ttotal: 52.1s\tremaining: 7.78s\n",
      "2175:\tlearn: 0.0415004\ttotal: 52.1s\tremaining: 7.75s\n",
      "2176:\tlearn: 0.0414730\ttotal: 52.1s\tremaining: 7.73s\n",
      "2177:\tlearn: 0.0414458\ttotal: 52.1s\tremaining: 7.71s\n",
      "2178:\tlearn: 0.0414337\ttotal: 52.2s\tremaining: 7.68s\n",
      "2179:\tlearn: 0.0413781\ttotal: 52.2s\tremaining: 7.66s\n",
      "2180:\tlearn: 0.0413562\ttotal: 52.2s\tremaining: 7.64s\n",
      "2181:\tlearn: 0.0413267\ttotal: 52.2s\tremaining: 7.61s\n",
      "2182:\tlearn: 0.0412990\ttotal: 52.3s\tremaining: 7.59s\n",
      "2183:\tlearn: 0.0412745\ttotal: 52.3s\tremaining: 7.57s\n",
      "2184:\tlearn: 0.0412622\ttotal: 52.3s\tremaining: 7.54s\n",
      "2185:\tlearn: 0.0412281\ttotal: 52.3s\tremaining: 7.52s\n",
      "2186:\tlearn: 0.0411734\ttotal: 52.4s\tremaining: 7.5s\n",
      "2187:\tlearn: 0.0411665\ttotal: 52.4s\tremaining: 7.47s\n",
      "2188:\tlearn: 0.0411307\ttotal: 52.4s\tremaining: 7.45s\n",
      "2189:\tlearn: 0.0411010\ttotal: 52.4s\tremaining: 7.42s\n",
      "2190:\tlearn: 0.0410889\ttotal: 52.5s\tremaining: 7.4s\n",
      "2191:\tlearn: 0.0410708\ttotal: 52.5s\tremaining: 7.38s\n",
      "2192:\tlearn: 0.0410495\ttotal: 52.6s\tremaining: 7.36s\n",
      "2193:\tlearn: 0.0410219\ttotal: 52.6s\tremaining: 7.33s\n",
      "2194:\tlearn: 0.0410114\ttotal: 52.6s\tremaining: 7.31s\n",
      "2195:\tlearn: 0.0409670\ttotal: 52.6s\tremaining: 7.29s\n",
      "2196:\tlearn: 0.0409341\ttotal: 52.7s\tremaining: 7.26s\n",
      "2197:\tlearn: 0.0409164\ttotal: 52.7s\tremaining: 7.24s\n",
      "2198:\tlearn: 0.0409014\ttotal: 52.7s\tremaining: 7.21s\n",
      "2199:\tlearn: 0.0408989\ttotal: 52.7s\tremaining: 7.19s\n",
      "2200:\tlearn: 0.0408651\ttotal: 52.7s\tremaining: 7.17s\n",
      "2201:\tlearn: 0.0408328\ttotal: 52.8s\tremaining: 7.14s\n",
      "2202:\tlearn: 0.0408085\ttotal: 52.8s\tremaining: 7.12s\n",
      "2203:\tlearn: 0.0407835\ttotal: 52.8s\tremaining: 7.09s\n",
      "2204:\tlearn: 0.0407583\ttotal: 52.8s\tremaining: 7.07s\n",
      "2205:\tlearn: 0.0407126\ttotal: 52.9s\tremaining: 7.04s\n",
      "2206:\tlearn: 0.0406956\ttotal: 52.9s\tremaining: 7.02s\n",
      "2207:\tlearn: 0.0406720\ttotal: 52.9s\tremaining: 7s\n",
      "2208:\tlearn: 0.0406286\ttotal: 52.9s\tremaining: 6.97s\n",
      "2209:\tlearn: 0.0406080\ttotal: 53s\tremaining: 6.95s\n",
      "2210:\tlearn: 0.0405975\ttotal: 53s\tremaining: 6.92s\n",
      "2211:\tlearn: 0.0405713\ttotal: 53s\tremaining: 6.9s\n",
      "2212:\tlearn: 0.0405451\ttotal: 53s\tremaining: 6.88s\n",
      "2213:\tlearn: 0.0405146\ttotal: 53.1s\tremaining: 6.86s\n",
      "2214:\tlearn: 0.0404942\ttotal: 53.1s\tremaining: 6.83s\n",
      "2215:\tlearn: 0.0404768\ttotal: 53.1s\tremaining: 6.81s\n",
      "2216:\tlearn: 0.0404584\ttotal: 53.1s\tremaining: 6.78s\n",
      "2217:\tlearn: 0.0404399\ttotal: 53.2s\tremaining: 6.76s\n",
      "2218:\tlearn: 0.0404046\ttotal: 53.2s\tremaining: 6.73s\n",
      "2219:\tlearn: 0.0403895\ttotal: 53.2s\tremaining: 6.71s\n",
      "2220:\tlearn: 0.0403599\ttotal: 53.2s\tremaining: 6.69s\n",
      "2221:\tlearn: 0.0403455\ttotal: 53.3s\tremaining: 6.66s\n",
      "2222:\tlearn: 0.0403154\ttotal: 53.3s\tremaining: 6.64s\n",
      "2223:\tlearn: 0.0402952\ttotal: 53.3s\tremaining: 6.62s\n",
      "2224:\tlearn: 0.0402598\ttotal: 53.3s\tremaining: 6.59s\n",
      "2225:\tlearn: 0.0402441\ttotal: 53.4s\tremaining: 6.57s\n",
      "2226:\tlearn: 0.0402180\ttotal: 53.4s\tremaining: 6.54s\n",
      "2227:\tlearn: 0.0402099\ttotal: 53.4s\tremaining: 6.52s\n",
      "2228:\tlearn: 0.0401845\ttotal: 53.4s\tremaining: 6.49s\n",
      "2229:\tlearn: 0.0401482\ttotal: 53.4s\tremaining: 6.47s\n",
      "2230:\tlearn: 0.0401343\ttotal: 53.5s\tremaining: 6.45s\n",
      "2231:\tlearn: 0.0401074\ttotal: 53.5s\tremaining: 6.42s\n",
      "2232:\tlearn: 0.0400684\ttotal: 53.5s\tremaining: 6.4s\n",
      "2233:\tlearn: 0.0400267\ttotal: 53.5s\tremaining: 6.37s\n",
      "2234:\tlearn: 0.0400158\ttotal: 53.6s\tremaining: 6.35s\n",
      "2235:\tlearn: 0.0399640\ttotal: 53.6s\tremaining: 6.33s\n",
      "2236:\tlearn: 0.0399332\ttotal: 53.6s\tremaining: 6.3s\n",
      "2237:\tlearn: 0.0399061\ttotal: 53.6s\tremaining: 6.28s\n",
      "2238:\tlearn: 0.0398875\ttotal: 53.7s\tremaining: 6.25s\n",
      "2239:\tlearn: 0.0398644\ttotal: 53.7s\tremaining: 6.23s\n",
      "2240:\tlearn: 0.0398512\ttotal: 53.7s\tremaining: 6.21s\n",
      "2241:\tlearn: 0.0398092\ttotal: 53.7s\tremaining: 6.18s\n",
      "2242:\tlearn: 0.0397866\ttotal: 53.7s\tremaining: 6.16s\n",
      "2243:\tlearn: 0.0397725\ttotal: 53.8s\tremaining: 6.13s\n",
      "2244:\tlearn: 0.0397450\ttotal: 53.8s\tremaining: 6.11s\n",
      "2245:\tlearn: 0.0397142\ttotal: 53.8s\tremaining: 6.08s\n",
      "2246:\tlearn: 0.0396946\ttotal: 53.8s\tremaining: 6.06s\n",
      "2247:\tlearn: 0.0396789\ttotal: 53.8s\tremaining: 6.03s\n",
      "2248:\tlearn: 0.0396356\ttotal: 53.9s\tremaining: 6.01s\n",
      "2249:\tlearn: 0.0396123\ttotal: 53.9s\tremaining: 5.99s\n",
      "2250:\tlearn: 0.0395897\ttotal: 53.9s\tremaining: 5.96s\n",
      "2251:\tlearn: 0.0395612\ttotal: 53.9s\tremaining: 5.94s\n",
      "2252:\tlearn: 0.0395387\ttotal: 53.9s\tremaining: 5.91s\n",
      "2253:\tlearn: 0.0395092\ttotal: 54s\tremaining: 5.89s\n",
      "2254:\tlearn: 0.0394862\ttotal: 54s\tremaining: 5.86s\n"
     ]
    },
    {
     "name": "stdout",
     "output_type": "stream",
     "text": [
      "2255:\tlearn: 0.0394604\ttotal: 54s\tremaining: 5.84s\n",
      "2256:\tlearn: 0.0394265\ttotal: 54s\tremaining: 5.82s\n",
      "2257:\tlearn: 0.0393933\ttotal: 54s\tremaining: 5.79s\n",
      "2258:\tlearn: 0.0393725\ttotal: 54.1s\tremaining: 5.77s\n",
      "2259:\tlearn: 0.0393180\ttotal: 54.1s\tremaining: 5.74s\n",
      "2260:\tlearn: 0.0393099\ttotal: 54.1s\tremaining: 5.72s\n",
      "2261:\tlearn: 0.0392819\ttotal: 54.1s\tremaining: 5.7s\n",
      "2262:\tlearn: 0.0392493\ttotal: 54.2s\tremaining: 5.67s\n",
      "2263:\tlearn: 0.0392220\ttotal: 54.2s\tremaining: 5.65s\n",
      "2264:\tlearn: 0.0391948\ttotal: 54.2s\tremaining: 5.62s\n",
      "2265:\tlearn: 0.0391606\ttotal: 54.2s\tremaining: 5.6s\n",
      "2266:\tlearn: 0.0390996\ttotal: 54.3s\tremaining: 5.58s\n",
      "2267:\tlearn: 0.0390824\ttotal: 54.3s\tremaining: 5.55s\n",
      "2268:\tlearn: 0.0390645\ttotal: 54.3s\tremaining: 5.53s\n",
      "2269:\tlearn: 0.0390468\ttotal: 54.3s\tremaining: 5.5s\n",
      "2270:\tlearn: 0.0390131\ttotal: 54.3s\tremaining: 5.48s\n",
      "2271:\tlearn: 0.0389869\ttotal: 54.4s\tremaining: 5.46s\n",
      "2272:\tlearn: 0.0389431\ttotal: 54.4s\tremaining: 5.43s\n",
      "2273:\tlearn: 0.0389142\ttotal: 54.4s\tremaining: 5.41s\n",
      "2274:\tlearn: 0.0388921\ttotal: 54.4s\tremaining: 5.38s\n",
      "2275:\tlearn: 0.0388665\ttotal: 54.5s\tremaining: 5.36s\n",
      "2276:\tlearn: 0.0388343\ttotal: 54.5s\tremaining: 5.33s\n",
      "2277:\tlearn: 0.0388117\ttotal: 54.5s\tremaining: 5.31s\n",
      "2278:\tlearn: 0.0387750\ttotal: 54.5s\tremaining: 5.29s\n",
      "2279:\tlearn: 0.0387491\ttotal: 54.5s\tremaining: 5.26s\n",
      "2280:\tlearn: 0.0387356\ttotal: 54.6s\tremaining: 5.24s\n",
      "2281:\tlearn: 0.0386912\ttotal: 54.6s\tremaining: 5.21s\n",
      "2282:\tlearn: 0.0386556\ttotal: 54.6s\tremaining: 5.19s\n",
      "2283:\tlearn: 0.0386314\ttotal: 54.6s\tremaining: 5.17s\n",
      "2284:\tlearn: 0.0386207\ttotal: 54.7s\tremaining: 5.14s\n",
      "2285:\tlearn: 0.0386060\ttotal: 54.7s\tremaining: 5.12s\n",
      "2286:\tlearn: 0.0385708\ttotal: 54.7s\tremaining: 5.09s\n",
      "2287:\tlearn: 0.0385573\ttotal: 54.7s\tremaining: 5.07s\n",
      "2288:\tlearn: 0.0385307\ttotal: 54.7s\tremaining: 5.05s\n",
      "2289:\tlearn: 0.0385195\ttotal: 54.8s\tremaining: 5.02s\n",
      "2290:\tlearn: 0.0385070\ttotal: 54.8s\tremaining: 5s\n",
      "2291:\tlearn: 0.0384714\ttotal: 54.8s\tremaining: 4.97s\n",
      "2292:\tlearn: 0.0384199\ttotal: 54.8s\tremaining: 4.95s\n",
      "2293:\tlearn: 0.0383844\ttotal: 54.9s\tremaining: 4.93s\n",
      "2294:\tlearn: 0.0383274\ttotal: 54.9s\tremaining: 4.9s\n",
      "2295:\tlearn: 0.0382988\ttotal: 54.9s\tremaining: 4.88s\n",
      "2296:\tlearn: 0.0382844\ttotal: 54.9s\tremaining: 4.85s\n",
      "2297:\tlearn: 0.0382616\ttotal: 55s\tremaining: 4.83s\n",
      "2298:\tlearn: 0.0382395\ttotal: 55s\tremaining: 4.81s\n",
      "2299:\tlearn: 0.0382235\ttotal: 55s\tremaining: 4.78s\n",
      "2300:\tlearn: 0.0381640\ttotal: 55s\tremaining: 4.76s\n",
      "2301:\tlearn: 0.0381485\ttotal: 55s\tremaining: 4.73s\n",
      "2302:\tlearn: 0.0381361\ttotal: 55.1s\tremaining: 4.71s\n",
      "2303:\tlearn: 0.0381125\ttotal: 55.1s\tremaining: 4.69s\n",
      "2304:\tlearn: 0.0380764\ttotal: 55.1s\tremaining: 4.66s\n",
      "2305:\tlearn: 0.0380442\ttotal: 55.1s\tremaining: 4.64s\n",
      "2306:\tlearn: 0.0380227\ttotal: 55.1s\tremaining: 4.61s\n",
      "2307:\tlearn: 0.0380095\ttotal: 55.2s\tremaining: 4.59s\n",
      "2308:\tlearn: 0.0379907\ttotal: 55.2s\tremaining: 4.57s\n",
      "2309:\tlearn: 0.0379822\ttotal: 55.2s\tremaining: 4.54s\n",
      "2310:\tlearn: 0.0379450\ttotal: 55.2s\tremaining: 4.52s\n",
      "2311:\tlearn: 0.0379360\ttotal: 55.2s\tremaining: 4.49s\n",
      "2312:\tlearn: 0.0378852\ttotal: 55.3s\tremaining: 4.47s\n",
      "2313:\tlearn: 0.0378686\ttotal: 55.3s\tremaining: 4.44s\n",
      "2314:\tlearn: 0.0378375\ttotal: 55.3s\tremaining: 4.42s\n",
      "2315:\tlearn: 0.0378206\ttotal: 55.3s\tremaining: 4.4s\n",
      "2316:\tlearn: 0.0378047\ttotal: 55.4s\tremaining: 4.37s\n",
      "2317:\tlearn: 0.0377670\ttotal: 55.4s\tremaining: 4.35s\n",
      "2318:\tlearn: 0.0377464\ttotal: 55.4s\tremaining: 4.32s\n",
      "2319:\tlearn: 0.0377379\ttotal: 55.4s\tremaining: 4.3s\n",
      "2320:\tlearn: 0.0377332\ttotal: 55.5s\tremaining: 4.28s\n",
      "2321:\tlearn: 0.0377003\ttotal: 55.5s\tremaining: 4.25s\n",
      "2322:\tlearn: 0.0376763\ttotal: 55.5s\tremaining: 4.23s\n",
      "2323:\tlearn: 0.0376347\ttotal: 55.5s\tremaining: 4.2s\n",
      "2324:\tlearn: 0.0376106\ttotal: 55.5s\tremaining: 4.18s\n",
      "2325:\tlearn: 0.0375961\ttotal: 55.6s\tremaining: 4.16s\n",
      "2326:\tlearn: 0.0375858\ttotal: 55.6s\tremaining: 4.13s\n",
      "2327:\tlearn: 0.0375394\ttotal: 55.6s\tremaining: 4.11s\n",
      "2328:\tlearn: 0.0375075\ttotal: 55.6s\tremaining: 4.08s\n",
      "2329:\tlearn: 0.0374599\ttotal: 55.6s\tremaining: 4.06s\n",
      "2330:\tlearn: 0.0374355\ttotal: 55.7s\tremaining: 4.04s\n",
      "2331:\tlearn: 0.0374035\ttotal: 55.7s\tremaining: 4.01s\n",
      "2332:\tlearn: 0.0373595\ttotal: 55.7s\tremaining: 3.99s\n",
      "2333:\tlearn: 0.0373410\ttotal: 55.7s\tremaining: 3.96s\n",
      "2334:\tlearn: 0.0373139\ttotal: 55.7s\tremaining: 3.94s\n",
      "2335:\tlearn: 0.0372869\ttotal: 55.8s\tremaining: 3.91s\n",
      "2336:\tlearn: 0.0372722\ttotal: 55.8s\tremaining: 3.89s\n",
      "2337:\tlearn: 0.0372624\ttotal: 55.8s\tremaining: 3.87s\n",
      "2338:\tlearn: 0.0372420\ttotal: 55.8s\tremaining: 3.84s\n",
      "2339:\tlearn: 0.0372232\ttotal: 55.9s\tremaining: 3.82s\n",
      "2340:\tlearn: 0.0372098\ttotal: 55.9s\tremaining: 3.79s\n",
      "2341:\tlearn: 0.0371884\ttotal: 55.9s\tremaining: 3.77s\n",
      "2342:\tlearn: 0.0371664\ttotal: 55.9s\tremaining: 3.75s\n",
      "2343:\tlearn: 0.0371296\ttotal: 55.9s\tremaining: 3.72s\n",
      "2344:\tlearn: 0.0370976\ttotal: 56s\tremaining: 3.7s\n",
      "2345:\tlearn: 0.0370625\ttotal: 56s\tremaining: 3.67s\n",
      "2346:\tlearn: 0.0370440\ttotal: 56s\tremaining: 3.65s\n",
      "2347:\tlearn: 0.0370140\ttotal: 56s\tremaining: 3.63s\n",
      "2348:\tlearn: 0.0369986\ttotal: 56s\tremaining: 3.6s\n",
      "2349:\tlearn: 0.0369630\ttotal: 56.1s\tremaining: 3.58s\n",
      "2350:\tlearn: 0.0369527\ttotal: 56.1s\tremaining: 3.56s\n",
      "2351:\tlearn: 0.0369417\ttotal: 56.1s\tremaining: 3.53s\n",
      "2352:\tlearn: 0.0369325\ttotal: 56.1s\tremaining: 3.51s\n",
      "2353:\tlearn: 0.0369173\ttotal: 56.2s\tremaining: 3.48s\n",
      "2354:\tlearn: 0.0369077\ttotal: 56.2s\tremaining: 3.46s\n",
      "2355:\tlearn: 0.0368920\ttotal: 56.2s\tremaining: 3.44s\n",
      "2356:\tlearn: 0.0368831\ttotal: 56.2s\tremaining: 3.41s\n",
      "2357:\tlearn: 0.0368787\ttotal: 56.3s\tremaining: 3.39s\n",
      "2358:\tlearn: 0.0368663\ttotal: 56.3s\tremaining: 3.36s\n",
      "2359:\tlearn: 0.0368342\ttotal: 56.3s\tremaining: 3.34s\n",
      "2360:\tlearn: 0.0368127\ttotal: 56.3s\tremaining: 3.32s\n",
      "2361:\tlearn: 0.0367990\ttotal: 56.4s\tremaining: 3.29s\n",
      "2362:\tlearn: 0.0367688\ttotal: 56.4s\tremaining: 3.27s\n",
      "2363:\tlearn: 0.0367475\ttotal: 56.4s\tremaining: 3.24s\n",
      "2364:\tlearn: 0.0367381\ttotal: 56.4s\tremaining: 3.22s\n",
      "2365:\tlearn: 0.0367266\ttotal: 56.4s\tremaining: 3.2s\n",
      "2366:\tlearn: 0.0367132\ttotal: 56.5s\tremaining: 3.17s\n",
      "2367:\tlearn: 0.0366683\ttotal: 56.5s\tremaining: 3.15s\n",
      "2368:\tlearn: 0.0366568\ttotal: 56.5s\tremaining: 3.12s\n",
      "2369:\tlearn: 0.0366075\ttotal: 56.5s\tremaining: 3.1s\n",
      "2370:\tlearn: 0.0365788\ttotal: 56.6s\tremaining: 3.08s\n",
      "2371:\tlearn: 0.0365592\ttotal: 56.6s\tremaining: 3.05s\n",
      "2372:\tlearn: 0.0365435\ttotal: 56.6s\tremaining: 3.03s\n",
      "2373:\tlearn: 0.0365338\ttotal: 56.6s\tremaining: 3s\n",
      "2374:\tlearn: 0.0365130\ttotal: 56.6s\tremaining: 2.98s\n",
      "2375:\tlearn: 0.0364665\ttotal: 56.7s\tremaining: 2.96s\n",
      "2376:\tlearn: 0.0364471\ttotal: 56.7s\tremaining: 2.93s\n",
      "2377:\tlearn: 0.0364059\ttotal: 56.7s\tremaining: 2.91s\n",
      "2378:\tlearn: 0.0363990\ttotal: 56.7s\tremaining: 2.88s\n",
      "2379:\tlearn: 0.0363916\ttotal: 56.7s\tremaining: 2.86s\n",
      "2380:\tlearn: 0.0363529\ttotal: 56.8s\tremaining: 2.84s\n",
      "2381:\tlearn: 0.0363295\ttotal: 56.8s\tremaining: 2.81s\n",
      "2382:\tlearn: 0.0363173\ttotal: 56.8s\tremaining: 2.79s\n",
      "2383:\tlearn: 0.0363030\ttotal: 56.8s\tremaining: 2.76s\n",
      "2384:\tlearn: 0.0362848\ttotal: 56.8s\tremaining: 2.74s\n",
      "2385:\tlearn: 0.0362703\ttotal: 56.9s\tremaining: 2.72s\n",
      "2386:\tlearn: 0.0362164\ttotal: 56.9s\tremaining: 2.69s\n",
      "2387:\tlearn: 0.0361718\ttotal: 56.9s\tremaining: 2.67s\n",
      "2388:\tlearn: 0.0361610\ttotal: 56.9s\tremaining: 2.64s\n",
      "2389:\tlearn: 0.0361473\ttotal: 56.9s\tremaining: 2.62s\n",
      "2390:\tlearn: 0.0361119\ttotal: 57s\tremaining: 2.6s\n",
      "2391:\tlearn: 0.0360507\ttotal: 57s\tremaining: 2.57s\n",
      "2392:\tlearn: 0.0360307\ttotal: 57s\tremaining: 2.55s\n",
      "2393:\tlearn: 0.0360069\ttotal: 57s\tremaining: 2.52s\n",
      "2394:\tlearn: 0.0359804\ttotal: 57s\tremaining: 2.5s\n",
      "2395:\tlearn: 0.0359748\ttotal: 57.1s\tremaining: 2.48s\n",
      "2396:\tlearn: 0.0359608\ttotal: 57.1s\tremaining: 2.45s\n",
      "2397:\tlearn: 0.0359438\ttotal: 57.1s\tremaining: 2.43s\n",
      "2398:\tlearn: 0.0359136\ttotal: 57.1s\tremaining: 2.41s\n",
      "2399:\tlearn: 0.0358877\ttotal: 57.2s\tremaining: 2.38s\n",
      "2400:\tlearn: 0.0358609\ttotal: 57.2s\tremaining: 2.36s\n",
      "2401:\tlearn: 0.0358264\ttotal: 57.2s\tremaining: 2.33s\n",
      "2402:\tlearn: 0.0358039\ttotal: 57.2s\tremaining: 2.31s\n",
      "2403:\tlearn: 0.0357805\ttotal: 57.3s\tremaining: 2.29s\n",
      "2404:\tlearn: 0.0357624\ttotal: 57.3s\tremaining: 2.26s\n",
      "2405:\tlearn: 0.0357313\ttotal: 57.3s\tremaining: 2.24s\n",
      "2406:\tlearn: 0.0357120\ttotal: 57.3s\tremaining: 2.21s\n",
      "2407:\tlearn: 0.0356607\ttotal: 57.4s\tremaining: 2.19s\n",
      "2408:\tlearn: 0.0356578\ttotal: 57.4s\tremaining: 2.17s\n",
      "2409:\tlearn: 0.0356445\ttotal: 57.4s\tremaining: 2.14s\n",
      "2410:\tlearn: 0.0356264\ttotal: 57.4s\tremaining: 2.12s\n",
      "2411:\tlearn: 0.0356071\ttotal: 57.4s\tremaining: 2.09s\n",
      "2412:\tlearn: 0.0355892\ttotal: 57.4s\tremaining: 2.07s\n",
      "2413:\tlearn: 0.0355745\ttotal: 57.5s\tremaining: 2.05s\n",
      "2414:\tlearn: 0.0355048\ttotal: 57.5s\tremaining: 2.02s\n",
      "2415:\tlearn: 0.0354644\ttotal: 57.5s\tremaining: 2s\n"
     ]
    },
    {
     "name": "stdout",
     "output_type": "stream",
     "text": [
      "2416:\tlearn: 0.0354225\ttotal: 57.5s\tremaining: 1.98s\n",
      "2417:\tlearn: 0.0353721\ttotal: 57.6s\tremaining: 1.95s\n",
      "2418:\tlearn: 0.0353436\ttotal: 57.6s\tremaining: 1.93s\n",
      "2419:\tlearn: 0.0353249\ttotal: 57.6s\tremaining: 1.9s\n",
      "2420:\tlearn: 0.0352987\ttotal: 57.6s\tremaining: 1.88s\n",
      "2421:\tlearn: 0.0352803\ttotal: 57.7s\tremaining: 1.86s\n",
      "2422:\tlearn: 0.0352450\ttotal: 57.7s\tremaining: 1.83s\n",
      "2423:\tlearn: 0.0352139\ttotal: 57.7s\tremaining: 1.81s\n",
      "2424:\tlearn: 0.0351944\ttotal: 57.7s\tremaining: 1.78s\n",
      "2425:\tlearn: 0.0351544\ttotal: 57.7s\tremaining: 1.76s\n",
      "2426:\tlearn: 0.0351443\ttotal: 57.8s\tremaining: 1.74s\n",
      "2427:\tlearn: 0.0351354\ttotal: 57.8s\tremaining: 1.71s\n",
      "2428:\tlearn: 0.0351168\ttotal: 57.8s\tremaining: 1.69s\n",
      "2429:\tlearn: 0.0351048\ttotal: 57.8s\tremaining: 1.67s\n",
      "2430:\tlearn: 0.0350879\ttotal: 57.9s\tremaining: 1.64s\n",
      "2431:\tlearn: 0.0350748\ttotal: 57.9s\tremaining: 1.62s\n",
      "2432:\tlearn: 0.0350582\ttotal: 57.9s\tremaining: 1.59s\n",
      "2433:\tlearn: 0.0350485\ttotal: 57.9s\tremaining: 1.57s\n",
      "2434:\tlearn: 0.0350282\ttotal: 57.9s\tremaining: 1.55s\n",
      "2435:\tlearn: 0.0350125\ttotal: 58s\tremaining: 1.52s\n",
      "2436:\tlearn: 0.0349934\ttotal: 58s\tremaining: 1.5s\n",
      "2437:\tlearn: 0.0349676\ttotal: 58s\tremaining: 1.48s\n",
      "2438:\tlearn: 0.0348619\ttotal: 58s\tremaining: 1.45s\n",
      "2439:\tlearn: 0.0348519\ttotal: 58s\tremaining: 1.43s\n",
      "2440:\tlearn: 0.0348428\ttotal: 58.1s\tremaining: 1.4s\n",
      "2441:\tlearn: 0.0348230\ttotal: 58.1s\tremaining: 1.38s\n",
      "2442:\tlearn: 0.0348211\ttotal: 58.1s\tremaining: 1.35s\n",
      "2443:\tlearn: 0.0348073\ttotal: 58.1s\tremaining: 1.33s\n",
      "2444:\tlearn: 0.0347758\ttotal: 58.2s\tremaining: 1.31s\n",
      "2445:\tlearn: 0.0347487\ttotal: 58.2s\tremaining: 1.28s\n",
      "2446:\tlearn: 0.0346936\ttotal: 58.2s\tremaining: 1.26s\n",
      "2447:\tlearn: 0.0346820\ttotal: 58.2s\tremaining: 1.24s\n",
      "2448:\tlearn: 0.0346632\ttotal: 58.3s\tremaining: 1.21s\n",
      "2449:\tlearn: 0.0346523\ttotal: 58.3s\tremaining: 1.19s\n",
      "2450:\tlearn: 0.0346060\ttotal: 58.3s\tremaining: 1.17s\n",
      "2451:\tlearn: 0.0345948\ttotal: 58.3s\tremaining: 1.14s\n",
      "2452:\tlearn: 0.0345886\ttotal: 58.3s\tremaining: 1.12s\n",
      "2453:\tlearn: 0.0345683\ttotal: 58.4s\tremaining: 1.09s\n",
      "2454:\tlearn: 0.0345528\ttotal: 58.4s\tremaining: 1.07s\n",
      "2455:\tlearn: 0.0345103\ttotal: 58.4s\tremaining: 1.05s\n",
      "2456:\tlearn: 0.0344894\ttotal: 58.4s\tremaining: 1.02s\n",
      "2457:\tlearn: 0.0344810\ttotal: 58.5s\tremaining: 999ms\n",
      "2458:\tlearn: 0.0344685\ttotal: 58.5s\tremaining: 975ms\n",
      "2459:\tlearn: 0.0344561\ttotal: 58.5s\tremaining: 951ms\n",
      "2460:\tlearn: 0.0344202\ttotal: 58.5s\tremaining: 927ms\n",
      "2461:\tlearn: 0.0343981\ttotal: 58.6s\tremaining: 904ms\n",
      "2462:\tlearn: 0.0343765\ttotal: 58.6s\tremaining: 880ms\n",
      "2463:\tlearn: 0.0343390\ttotal: 58.6s\tremaining: 856ms\n",
      "2464:\tlearn: 0.0343155\ttotal: 58.6s\tremaining: 833ms\n",
      "2465:\tlearn: 0.0342940\ttotal: 58.7s\tremaining: 809ms\n",
      "2466:\tlearn: 0.0342839\ttotal: 58.7s\tremaining: 785ms\n",
      "2467:\tlearn: 0.0342647\ttotal: 58.7s\tremaining: 761ms\n",
      "2468:\tlearn: 0.0342499\ttotal: 58.7s\tremaining: 737ms\n",
      "2469:\tlearn: 0.0342291\ttotal: 58.7s\tremaining: 713ms\n",
      "2470:\tlearn: 0.0342205\ttotal: 58.8s\tremaining: 690ms\n",
      "2471:\tlearn: 0.0341974\ttotal: 58.8s\tremaining: 666ms\n",
      "2472:\tlearn: 0.0341791\ttotal: 58.8s\tremaining: 642ms\n",
      "2473:\tlearn: 0.0341479\ttotal: 58.8s\tremaining: 618ms\n",
      "2474:\tlearn: 0.0341195\ttotal: 58.9s\tremaining: 594ms\n",
      "2475:\tlearn: 0.0340936\ttotal: 58.9s\tremaining: 571ms\n",
      "2476:\tlearn: 0.0340452\ttotal: 58.9s\tremaining: 547ms\n",
      "2477:\tlearn: 0.0340272\ttotal: 58.9s\tremaining: 523ms\n",
      "2478:\tlearn: 0.0339925\ttotal: 59s\tremaining: 499ms\n",
      "2479:\tlearn: 0.0339740\ttotal: 59s\tremaining: 476ms\n",
      "2480:\tlearn: 0.0339309\ttotal: 59s\tremaining: 452ms\n",
      "2481:\tlearn: 0.0339274\ttotal: 59s\tremaining: 428ms\n",
      "2482:\tlearn: 0.0339034\ttotal: 59s\tremaining: 404ms\n",
      "2483:\tlearn: 0.0338873\ttotal: 59s\tremaining: 380ms\n",
      "2484:\tlearn: 0.0338647\ttotal: 59.1s\tremaining: 357ms\n",
      "2485:\tlearn: 0.0338472\ttotal: 59.1s\tremaining: 333ms\n",
      "2486:\tlearn: 0.0338171\ttotal: 59.1s\tremaining: 309ms\n",
      "2487:\tlearn: 0.0337857\ttotal: 59.1s\tremaining: 285ms\n",
      "2488:\tlearn: 0.0337656\ttotal: 59.1s\tremaining: 261ms\n",
      "2489:\tlearn: 0.0337511\ttotal: 59.2s\tremaining: 238ms\n",
      "2490:\tlearn: 0.0337117\ttotal: 59.2s\tremaining: 214ms\n",
      "2491:\tlearn: 0.0336942\ttotal: 59.2s\tremaining: 190ms\n",
      "2492:\tlearn: 0.0336695\ttotal: 59.2s\tremaining: 166ms\n",
      "2493:\tlearn: 0.0336552\ttotal: 59.2s\tremaining: 143ms\n",
      "2494:\tlearn: 0.0336325\ttotal: 59.3s\tremaining: 119ms\n",
      "2495:\tlearn: 0.0336116\ttotal: 59.3s\tremaining: 95ms\n",
      "2496:\tlearn: 0.0335816\ttotal: 59.3s\tremaining: 71.2ms\n",
      "2497:\tlearn: 0.0335476\ttotal: 59.3s\tremaining: 47.5ms\n",
      "2498:\tlearn: 0.0335295\ttotal: 59.3s\tremaining: 23.7ms\n",
      "2499:\tlearn: 0.0335191\ttotal: 59.4s\tremaining: 0us\n"
     ]
    },
    {
     "data": {
      "text/plain": [
       "<catboost.core.CatBoostClassifier at 0x1a75bb28100>"
      ]
     },
     "execution_count": 13,
     "metadata": {},
     "output_type": "execute_result"
    }
   ],
   "source": [
    "mod_cat.fit(x_train, y_train, cat_features=['Estado', 'Gênero'])"
   ]
  },
  {
   "cell_type": "code",
   "execution_count": 14,
   "metadata": {
    "ExecuteTime": {
     "end_time": "2020-10-09T00:20:12.128414Z",
     "start_time": "2020-10-09T00:20:12.115450Z"
    }
   },
   "outputs": [],
   "source": [
    "y_pred_cat = mod_cat.predict(x_test)"
   ]
  },
  {
   "cell_type": "code",
   "execution_count": 15,
   "metadata": {
    "ExecuteTime": {
     "end_time": "2020-10-09T00:20:12.789300Z",
     "start_time": "2020-10-09T00:20:12.779327Z"
    }
   },
   "outputs": [
    {
     "name": "stdout",
     "output_type": "stream",
     "text": [
      "              precision    recall  f1-score   support\n",
      "\n",
      "           0       0.88      0.94      0.91      1991\n",
      "           1       0.70      0.50      0.58       509\n",
      "\n",
      "    accuracy                           0.85      2500\n",
      "   macro avg       0.79      0.72      0.75      2500\n",
      "weighted avg       0.84      0.85      0.84      2500\n",
      "\n"
     ]
    }
   ],
   "source": [
    "print(classification_report(y_test, y_pred_cat))"
   ]
  },
  {
   "cell_type": "markdown",
   "metadata": {},
   "source": [
    "## Implementando grid search\n",
    "\n",
    "tentar random search"
   ]
  },
  {
   "cell_type": "code",
   "execution_count": 20,
   "metadata": {
    "ExecuteTime": {
     "end_time": "2020-10-09T00:21:04.342538Z",
     "start_time": "2020-10-09T00:21:04.338548Z"
    }
   },
   "outputs": [],
   "source": [
    "params = {'iterations': [500],\n",
    "          'depth': [4, 5, 6, 10],\n",
    "          'l2_leaf_reg': np.logspace(0, 1, 10),\n",
    "          'leaf_estimation_iterations': [10],\n",
    "          'logging_level':['Silent'],\n",
    "          'random_seed': [42]\n",
    "         }"
   ]
  },
  {
   "cell_type": "code",
   "execution_count": 17,
   "metadata": {
    "ExecuteTime": {
     "end_time": "2020-10-09T00:20:19.778045Z",
     "start_time": "2020-10-09T00:20:19.774088Z"
    }
   },
   "outputs": [],
   "source": [
    "scorer = make_scorer(accuracy_score)"
   ]
  },
  {
   "cell_type": "code",
   "execution_count": 18,
   "metadata": {
    "ExecuteTime": {
     "end_time": "2020-10-09T00:20:20.532295Z",
     "start_time": "2020-10-09T00:20:20.528305Z"
    }
   },
   "outputs": [],
   "source": [
    "mod_cat_grid = GridSearchCV(estimator=mod_cat, param_grid=params, scoring=scorer, cv=5)"
   ]
  },
  {
   "cell_type": "code",
   "execution_count": null,
   "metadata": {
    "ExecuteTime": {
     "start_time": "2020-10-09T00:21:07.156Z"
    }
   },
   "outputs": [],
   "source": [
    "y_pred_cat_grid = mod_cat_grid.fit(x_train, y_train, cat_features=['Estado', 'Gênero'])"
   ]
  },
  {
   "cell_type": "code",
   "execution_count": 75,
   "metadata": {
    "ExecuteTime": {
     "end_time": "2020-10-09T00:05:55.519856Z",
     "start_time": "2020-10-09T00:05:55.506869Z"
    }
   },
   "outputs": [],
   "source": [
    "grid_pred = y_pred_cat_grid.predict(x_test)"
   ]
  },
  {
   "cell_type": "code",
   "execution_count": 76,
   "metadata": {
    "ExecuteTime": {
     "end_time": "2020-10-09T00:05:55.697410Z",
     "start_time": "2020-10-09T00:05:55.677443Z"
    }
   },
   "outputs": [
    {
     "name": "stdout",
     "output_type": "stream",
     "text": [
      "              precision    recall  f1-score   support\n",
      "\n",
      "           0       0.88      0.93      0.91      1991\n",
      "           1       0.66      0.50      0.57       509\n",
      "\n",
      "    accuracy                           0.85      2500\n",
      "   macro avg       0.77      0.72      0.74      2500\n",
      "weighted avg       0.84      0.85      0.84      2500\n",
      "\n"
     ]
    }
   ],
   "source": [
    "print(classification_report(y_test, grid_pred))"
   ]
  },
  {
   "cell_type": "code",
   "execution_count": null,
   "metadata": {},
   "outputs": [],
   "source": []
  },
  {
   "cell_type": "code",
   "execution_count": null,
   "metadata": {},
   "outputs": [],
   "source": []
  },
  {
   "cell_type": "markdown",
   "metadata": {},
   "source": [
    "## Comparando Modelos"
   ]
  },
  {
   "cell_type": "code",
   "execution_count": 78,
   "metadata": {
    "ExecuteTime": {
     "end_time": "2020-10-09T00:06:13.899383Z",
     "start_time": "2020-10-09T00:06:13.877427Z"
    }
   },
   "outputs": [
    {
     "name": "stdout",
     "output_type": "stream",
     "text": [
      "              precision    recall  f1-score   support\n",
      "\n",
      "           0       0.88      0.94      0.91      1991\n",
      "           1       0.68      0.50      0.58       509\n",
      "\n",
      "    accuracy                           0.85      2500\n",
      "   macro avg       0.78      0.72      0.74      2500\n",
      "weighted avg       0.84      0.85      0.84      2500\n",
      "\n"
     ]
    }
   ],
   "source": [
    "print(classification_report(y_test, y_pred_cat))"
   ]
  },
  {
   "cell_type": "code",
   "execution_count": 79,
   "metadata": {
    "ExecuteTime": {
     "end_time": "2020-10-09T00:06:18.597405Z",
     "start_time": "2020-10-09T00:06:18.576460Z"
    }
   },
   "outputs": [
    {
     "name": "stdout",
     "output_type": "stream",
     "text": [
      "              precision    recall  f1-score   support\n",
      "\n",
      "           0       0.88      0.93      0.91      1991\n",
      "           1       0.66      0.50      0.57       509\n",
      "\n",
      "    accuracy                           0.85      2500\n",
      "   macro avg       0.77      0.72      0.74      2500\n",
      "weighted avg       0.84      0.85      0.84      2500\n",
      "\n"
     ]
    }
   ],
   "source": [
    "print(classification_report(y_test, grid_pred))"
   ]
  },
  {
   "cell_type": "code",
   "execution_count": null,
   "metadata": {},
   "outputs": [],
   "source": []
  }
 ],
 "metadata": {
  "colab": {
   "name": "Case Churn.ipynb",
   "provenance": []
  },
  "kernelspec": {
   "display_name": "Python 3",
   "language": "python",
   "name": "python3"
  },
  "toc": {
   "base_numbering": 1,
   "nav_menu": {},
   "number_sections": true,
   "sideBar": true,
   "skip_h1_title": false,
   "title_cell": "Table of Contents",
   "title_sidebar": "Contents",
   "toc_cell": false,
   "toc_position": {
    "height": "calc(100% - 180px)",
    "left": "10px",
    "top": "150px",
    "width": "307.2px"
   },
   "toc_section_display": true,
   "toc_window_display": true
  },
  "varInspector": {
   "cols": {
    "lenName": 16,
    "lenType": 16,
    "lenVar": 40
   },
   "kernels_config": {
    "python": {
     "delete_cmd_postfix": "",
     "delete_cmd_prefix": "del ",
     "library": "var_list.py",
     "varRefreshCmd": "print(var_dic_list())"
    },
    "r": {
     "delete_cmd_postfix": ") ",
     "delete_cmd_prefix": "rm(",
     "library": "var_list.r",
     "varRefreshCmd": "cat(var_dic_list()) "
    }
   },
   "types_to_exclude": [
    "module",
    "function",
    "builtin_function_or_method",
    "instance",
    "_Feature"
   ],
   "window_display": false
  },
  "widgets": {
   "application/vnd.jupyter.widget-state+json": {
    "8eed0276a5f14735b45d12be83642a52": {
     "model_module": "@jupyter-widgets/controls",
     "model_name": "ProgressStyleModel",
     "state": {
      "_model_module": "@jupyter-widgets/controls",
      "_model_module_version": "1.5.0",
      "_model_name": "ProgressStyleModel",
      "_view_count": null,
      "_view_module": "@jupyter-widgets/base",
      "_view_module_version": "1.2.0",
      "_view_name": "StyleView",
      "bar_color": null,
      "description_width": ""
     }
    },
    "a07af39b84a64053a6a7f5da83e63e56": {
     "model_module": "@jupyter-widgets/controls",
     "model_name": "IntProgressModel",
     "state": {
      "_dom_classes": [],
      "_model_module": "@jupyter-widgets/controls",
      "_model_module_version": "1.5.0",
      "_model_name": "IntProgressModel",
      "_view_count": null,
      "_view_module": "@jupyter-widgets/controls",
      "_view_module_version": "1.5.0",
      "_view_name": "ProgressView",
      "bar_style": "",
      "description": "Processing: ",
      "description_tooltip": null,
      "layout": "IPY_MODEL_f957256dead44dcc9be8f3a6bb245442",
      "max": 13,
      "min": 0,
      "orientation": "horizontal",
      "style": "IPY_MODEL_8eed0276a5f14735b45d12be83642a52",
      "value": 0
     }
    },
    "f957256dead44dcc9be8f3a6bb245442": {
     "model_module": "@jupyter-widgets/base",
     "model_name": "LayoutModel",
     "state": {
      "_model_module": "@jupyter-widgets/base",
      "_model_module_version": "1.2.0",
      "_model_name": "LayoutModel",
      "_view_count": null,
      "_view_module": "@jupyter-widgets/base",
      "_view_module_version": "1.2.0",
      "_view_name": "LayoutView",
      "align_content": null,
      "align_items": null,
      "align_self": null,
      "border": null,
      "bottom": null,
      "display": null,
      "flex": null,
      "flex_flow": null,
      "grid_area": null,
      "grid_auto_columns": null,
      "grid_auto_flow": null,
      "grid_auto_rows": null,
      "grid_column": null,
      "grid_gap": null,
      "grid_row": null,
      "grid_template_areas": null,
      "grid_template_columns": null,
      "grid_template_rows": null,
      "height": null,
      "justify_content": null,
      "justify_items": null,
      "left": null,
      "margin": null,
      "max_height": null,
      "max_width": null,
      "min_height": null,
      "min_width": null,
      "object_fit": null,
      "object_position": null,
      "order": null,
      "overflow": null,
      "overflow_x": null,
      "overflow_y": null,
      "padding": null,
      "right": null,
      "top": null,
      "visibility": null,
      "width": null
     }
    }
   }
  }
 },
 "nbformat": 4,
 "nbformat_minor": 1
}
